{
  "nbformat": 4,
  "nbformat_minor": 0,
  "metadata": {
    "colab": {
      "provenance": [],
      "authorship_tag": "ABX9TyNKwfkETPWesawNTwE3e044",
      "include_colab_link": true
    },
    "kernelspec": {
      "name": "python3",
      "display_name": "Python 3"
    },
    "language_info": {
      "name": "python"
    }
  },
  "cells": [
    {
      "cell_type": "markdown",
      "metadata": {
        "id": "view-in-github",
        "colab_type": "text"
      },
      "source": [
        "<a href=\"https://colab.research.google.com/github/nayem-uddin/udemy-python-course/blob/main/Level4.ipynb\" target=\"_parent\"><img src=\"https://colab.research.google.com/assets/colab-badge.svg\" alt=\"Open In Colab\"/></a>"
      ]
    },
    {
      "cell_type": "markdown",
      "source": [
        "# **Functions**"
      ],
      "metadata": {
        "id": "oOyJF2EXUp51"
      }
    },
    {
      "cell_type": "markdown",
      "source": [
        "## **Some Other Built-in Functions**"
      ],
      "metadata": {
        "id": "rIVm0j9Re2Eo"
      }
    },
    {
      "cell_type": "code",
      "execution_count": null,
      "metadata": {
        "colab": {
          "base_uri": "https://localhost:8080/"
        },
        "id": "KWmIDjX3T4fG",
        "outputId": "21078b13-e66e-44e9-9d69-1854f70fd49a"
      },
      "outputs": [
        {
          "output_type": "stream",
          "name": "stdout",
          "text": [
            "1\n"
          ]
        }
      ],
      "source": [
        "a = 1\n",
        "b = 2\n",
        "c = 3\n",
        "minimum_value =  min(1,2,3)\n",
        "print(minimum_value)"
      ]
    },
    {
      "cell_type": "code",
      "source": [
        "x,y,z = 1,2,3\n",
        "print(max(x,y,z))"
      ],
      "metadata": {
        "colab": {
          "base_uri": "https://localhost:8080/"
        },
        "id": "i4DCO-ilVdZt",
        "outputId": "041d8e1b-f7f9-4b4d-d2d1-186a8303a0d9"
      },
      "execution_count": null,
      "outputs": [
        {
          "output_type": "stream",
          "name": "stdout",
          "text": [
            "3\n"
          ]
        }
      ]
    },
    {
      "cell_type": "code",
      "source": [
        "a = -7.6\n",
        "print(abs(a))\n",
        "print(round(a))"
      ],
      "metadata": {
        "colab": {
          "base_uri": "https://localhost:8080/"
        },
        "id": "_La-qPlTV7rS",
        "outputId": "c8bc2ca0-422b-4cbd-ea54-1dcbc46d38fb"
      },
      "execution_count": null,
      "outputs": [
        {
          "output_type": "stream",
          "name": "stdout",
          "text": [
            "7.6\n",
            "-8\n"
          ]
        }
      ]
    },
    {
      "cell_type": "markdown",
      "source": [
        "#### **Exercise 4.1**"
      ],
      "metadata": {
        "id": "AgZSyeiOWitM"
      }
    },
    {
      "cell_type": "code",
      "source": [
        "ahsoka = 1.70\n",
        "yoda = 0.66\n",
        "r2d2 = 1.09\n",
        "average_height = (ahsoka+yoda+r2d2)/3\n",
        "maximum_height = max(ahsoka,yoda,r2d2)\n",
        "minimum_height = min(ahsoka,yoda,r2d2)\n",
        "print(\"The average height is \"+str(average_height)+\". The maximum height is \"+str(maximum_height)+\". The minimum height is \"+str(minimum_height)+\".\")"
      ],
      "metadata": {
        "colab": {
          "base_uri": "https://localhost:8080/"
        },
        "id": "klJs2x0fWmbw",
        "outputId": "1128b67f-9524-4c93-d9f9-d439ef57880b"
      },
      "execution_count": null,
      "outputs": [
        {
          "output_type": "stream",
          "name": "stdout",
          "text": [
            "The average height is 1.1500000000000001. The maximum height is 1.7. The minimum height is 0.66.\n"
          ]
        }
      ]
    },
    {
      "cell_type": "code",
      "source": [
        "name = input('What is your name? ')\n"
      ],
      "metadata": {
        "colab": {
          "base_uri": "https://localhost:8080/"
        },
        "id": "5_CPVF-4ZN8P",
        "outputId": "17c54d0e-dde0-4c73-94ff-d8a02266f918"
      },
      "execution_count": null,
      "outputs": [
        {
          "name": "stdout",
          "output_type": "stream",
          "text": [
            "What is your name? Nayem\n"
          ]
        }
      ]
    },
    {
      "cell_type": "code",
      "source": [
        "print(\"Your name is \"+name)"
      ],
      "metadata": {
        "colab": {
          "base_uri": "https://localhost:8080/"
        },
        "id": "4YnKsaFGZcu0",
        "outputId": "75459665-1769-43d2-99c0-768eb3b551c8"
      },
      "execution_count": null,
      "outputs": [
        {
          "output_type": "stream",
          "name": "stdout",
          "text": [
            "Your name is Nayem\n"
          ]
        }
      ]
    },
    {
      "cell_type": "code",
      "source": [
        "name = input('What is your name? ')\n",
        "height = input('What is your height? ')\n",
        "age = input('What is your age? ')\n",
        "print(\"Your name, height, and age is \"+name+', '+height+', and '+age+', respectively')\n"
      ],
      "metadata": {
        "colab": {
          "base_uri": "https://localhost:8080/"
        },
        "id": "OYhxQUIxahXO",
        "outputId": "193a625e-64cc-433f-b689-1e598657c20d"
      },
      "execution_count": null,
      "outputs": [
        {
          "output_type": "stream",
          "name": "stdout",
          "text": [
            "What is your name? Yoda\n",
            "What is your height? 0.66 m\n",
            "What is your age? 900 years\n",
            "Your name, height, and age is Yoda, 0.66 m, and 900 years, respectively\n"
          ]
        }
      ]
    },
    {
      "cell_type": "markdown",
      "source": [
        "\"input\" function takes string input, so no problem with using '+' with \"height\" and \"age\" varibles here, though we may assume that these are numeric variables."
      ],
      "metadata": {
        "id": "jr8VqhvrcbMu"
      }
    },
    {
      "cell_type": "markdown",
      "source": [
        "#### **Exercise 4.2**"
      ],
      "metadata": {
        "id": "7XKHAFZ2b1Ib"
      }
    },
    {
      "cell_type": "code",
      "source": [
        "name = input(\"What is your name? \")\n",
        "age = input(\"What is your age? \")\n",
        "print(\"Your name is \"+name+\". Your age is \"+age+'.')"
      ],
      "metadata": {
        "colab": {
          "base_uri": "https://localhost:8080/"
        },
        "id": "q5CTQtbZb55r",
        "outputId": "14fec273-2eb6-4c12-abec-f07d0ebf6c68"
      },
      "execution_count": null,
      "outputs": [
        {
          "output_type": "stream",
          "name": "stdout",
          "text": [
            "What is your name? Pial\n",
            "What is your age? 23\n",
            "Your name is Pial. Your age is 23.\n"
          ]
        }
      ]
    },
    {
      "cell_type": "markdown",
      "source": [
        "To render the input of a variable integer (say), we can use \"int\" around the \"input\" function like the following example."
      ],
      "metadata": {
        "id": "Q9y6S4Lfdoqh"
      }
    },
    {
      "cell_type": "code",
      "source": [
        "age = int(input(\"Enter your age: \"))"
      ],
      "metadata": {
        "colab": {
          "base_uri": "https://localhost:8080/"
        },
        "id": "V_x-6VQpeGwI",
        "outputId": "4f36a0f1-becd-4097-c2aa-897ba82681b6"
      },
      "execution_count": null,
      "outputs": [
        {
          "name": "stdout",
          "output_type": "stream",
          "text": [
            "Enter your age: 24\n"
          ]
        }
      ]
    },
    {
      "cell_type": "code",
      "source": [
        "type(age) # to check if we've done the thing right"
      ],
      "metadata": {
        "colab": {
          "base_uri": "https://localhost:8080/"
        },
        "id": "hsTl_3O6eZz7",
        "outputId": "ff05b7aa-632a-40c0-bb42-510ab993e687"
      },
      "execution_count": null,
      "outputs": [
        {
          "output_type": "execute_result",
          "data": {
            "text/plain": [
              "int"
            ]
          },
          "metadata": {},
          "execution_count": 21
        }
      ]
    },
    {
      "cell_type": "markdown",
      "source": [
        "## **Creating basic custom functions**"
      ],
      "metadata": {
        "id": "JDZB8nLvQPzD"
      }
    },
    {
      "cell_type": "markdown",
      "source": [
        "### **Part 1**"
      ],
      "metadata": {
        "id": "ZL5YcmEHRp3x"
      }
    },
    {
      "cell_type": "code",
      "source": [
        "def your_name_function():\n",
        "  your_name = input(\"What is your name? \")\n",
        "  print(\"Your name is \"+your_name)\n"
      ],
      "metadata": {
        "id": "9sAvsrVzQeWi"
      },
      "execution_count": null,
      "outputs": []
    },
    {
      "cell_type": "code",
      "source": [
        "your_name_function()\n"
      ],
      "metadata": {
        "colab": {
          "base_uri": "https://localhost:8080/"
        },
        "id": "ADcvJ-cORcIY",
        "outputId": "ec08e2af-fee2-4714-8658-94ed3aef4939"
      },
      "execution_count": null,
      "outputs": [
        {
          "output_type": "stream",
          "name": "stdout",
          "text": [
            "What is your name? Finn\n",
            "Your name is Finn\n"
          ]
        }
      ]
    },
    {
      "cell_type": "markdown",
      "source": [
        "#### **Exercise 4.3**"
      ],
      "metadata": {
        "id": "j7BwTnzdSPCK"
      }
    },
    {
      "cell_type": "code",
      "source": [
        "def age_of_rey():\n",
        "  reys_age = input(\"How old is Rey? \")\n",
        "  print(\"Rey is \"+reys_age+\" years old.\")\n"
      ],
      "metadata": {
        "id": "Mz3N1udPSS9u"
      },
      "execution_count": null,
      "outputs": []
    },
    {
      "cell_type": "code",
      "source": [
        "age_of_rey()\n"
      ],
      "metadata": {
        "colab": {
          "base_uri": "https://localhost:8080/"
        },
        "id": "WSwa1KkmS21Y",
        "outputId": "ce19acb3-8fcc-42b6-9c02-8e911f6c3566"
      },
      "execution_count": null,
      "outputs": [
        {
          "output_type": "stream",
          "name": "stdout",
          "text": [
            "How old is Rey? 19\n",
            "Rey is 19 years old.\n"
          ]
        }
      ]
    },
    {
      "cell_type": "markdown",
      "source": [
        "### **Part 2**"
      ],
      "metadata": {
        "id": "Swe3zQt5PjA0"
      }
    },
    {
      "cell_type": "code",
      "source": [
        "name = input(\"What is his name? \")\n",
        "age = input(\"What is \"+name+\"'s age? \")\n",
        "\n",
        "def age_in_one_year(name,age):\n",
        "  age_next_year = int(age) + 1\n",
        "  print(\"In one year, \"+name+\" will be \"+str(age_next_year)+\" years old.\")\n",
        "\n",
        "age_in_one_year(name,age)"
      ],
      "metadata": {
        "colab": {
          "base_uri": "https://localhost:8080/"
        },
        "id": "Bjt2nj9tPqr8",
        "outputId": "1b243d56-5d2b-41c3-ec29-29f3fe2fefc3"
      },
      "execution_count": 7,
      "outputs": [
        {
          "output_type": "stream",
          "name": "stdout",
          "text": [
            "What is his name? Mando\n",
            "What is Mando's age? 37\n",
            "In one year, Mando will be 38 years old.\n"
          ]
        }
      ]
    },
    {
      "cell_type": "markdown",
      "source": [
        "#### **Exercise 4.4**"
      ],
      "metadata": {
        "id": "anXFJf9AT-oL"
      }
    },
    {
      "cell_type": "code",
      "source": [
        "passenger = input(\"Who was on the Titanic? \")\n",
        "current_year = input(\"What year it is? \")\n",
        "\n",
        "def when_titanic_sunk(passenger,current_year):\n",
        "  years_ago = int(current_year) - 1912\n",
        "  print(passenger+\" were on the Titanic, which sunk \"+str(years_ago)+\" years ago.\")\n",
        "\n",
        "when_titanic_sunk(passenger,current_year)"
      ],
      "metadata": {
        "colab": {
          "base_uri": "https://localhost:8080/"
        },
        "id": "mE6nsOu9UDHq",
        "outputId": "8d759968-869b-409e-8a0a-74e0edf9bd59"
      },
      "execution_count": 4,
      "outputs": [
        {
          "output_type": "stream",
          "name": "stdout",
          "text": [
            "Who was on the Titanic? Jack and Rose\n",
            "What year it is? 2024\n",
            "Jack and Rose were on the Titanic, which sunk 112 years ago.\n"
          ]
        }
      ]
    },
    {
      "cell_type": "markdown",
      "source": [
        "### **Creating Advanced Functions (Keywords and Default Values)**"
      ],
      "metadata": {
        "id": "IPW3JEG8WZOy"
      }
    },
    {
      "cell_type": "markdown",
      "source": [
        "Using keyword arguments, you can pass values through a function even not in order!"
      ],
      "metadata": {
        "id": "X1yhlmIlXppI"
      }
    },
    {
      "cell_type": "code",
      "source": [
        "name = input(\"What is his name? \")\n",
        "age = input(\"What is \"+name+\"'s age? \")\n",
        "\n",
        "def age_in_one_year(name,age):\n",
        "  age_next_year = int(age) + 1\n",
        "  print(\"In one year, \"+name+\" will be \"+str(age_next_year)+\" years old.\")\n",
        "\n",
        "age_in_one_year(name,age) #the variables taken as inputs are passed\n",
        "age_in_one_year(\"Chris\",51) #direct values are passed\n",
        "age_in_one_year(age='51',name='Chris') #keyword arguments"
      ],
      "metadata": {
        "colab": {
          "base_uri": "https://localhost:8080/"
        },
        "id": "a4O8ewHiWmR9",
        "outputId": "95b9a0d0-f5f2-463e-8614-c064c434e201"
      },
      "execution_count": 8,
      "outputs": [
        {
          "output_type": "stream",
          "name": "stdout",
          "text": [
            "What is his name? Chris\n",
            "What is Chris's age? 43\n",
            "In one year, Chris will be 44 years old.\n",
            "In one year, Chris will be 52 years old.\n",
            "In one year, Chris will be 52 years old.\n"
          ]
        }
      ]
    },
    {
      "cell_type": "markdown",
      "source": [
        "Default value is used when function is called, but we don't put values there."
      ],
      "metadata": {
        "id": "c-nd6KDCYcPv"
      }
    },
    {
      "cell_type": "code",
      "source": [
        "def your_name_function(name='Chris'):\n",
        "  print(\"Your name is \"+name)\n",
        "\n",
        "your_name_function(\"Yoda\")\n",
        "your_name_function(\"Nayem\")\n",
        "your_name_function() #this line will show default value"
      ],
      "metadata": {
        "colab": {
          "base_uri": "https://localhost:8080/"
        },
        "id": "xd_YajxdYHX4",
        "outputId": "1cb78825-f69b-409b-d967-f9b7525b1d09"
      },
      "execution_count": 9,
      "outputs": [
        {
          "output_type": "stream",
          "name": "stdout",
          "text": [
            "Your name is Yoda\n",
            "Your name is Nayem\n",
            "Your name is Chris\n"
          ]
        }
      ]
    },
    {
      "cell_type": "markdown",
      "source": [
        "#### **Exercise 4.5**"
      ],
      "metadata": {
        "id": "ORM8CT3CZq6J"
      }
    },
    {
      "cell_type": "code",
      "source": [
        "def your_age(age='19'):\n",
        "  print(\"Your age is \"+age)\n",
        "\n",
        "your_age(\"23\")\n",
        "your_age()"
      ],
      "metadata": {
        "colab": {
          "base_uri": "https://localhost:8080/"
        },
        "id": "xZqY8eBYZwWQ",
        "outputId": "8ab98e8a-8c1d-462f-d557-6bef8e1ab219"
      },
      "execution_count": 12,
      "outputs": [
        {
          "output_type": "stream",
          "name": "stdout",
          "text": [
            "Your age is 23\n",
            "Your age is 19\n"
          ]
        }
      ]
    },
    {
      "cell_type": "markdown",
      "source": [
        "### **Returning values from custom functions**"
      ],
      "metadata": {
        "id": "mdyQHfiva2jB"
      }
    },
    {
      "cell_type": "code",
      "source": [
        "def farenheit_to_celcius(farenheit):\n",
        "  return (farenheit - 32) * 5/9\n",
        "\n",
        "farenheit_to_celcius(80)"
      ],
      "metadata": {
        "colab": {
          "base_uri": "https://localhost:8080/"
        },
        "id": "d6pD5-0La_PY",
        "outputId": "f56e9833-9955-451f-e3d3-6cf1650060d4"
      },
      "execution_count": 13,
      "outputs": [
        {
          "output_type": "execute_result",
          "data": {
            "text/plain": [
              "26.666666666666668"
            ]
          },
          "metadata": {},
          "execution_count": 13
        }
      ]
    },
    {
      "cell_type": "markdown",
      "source": [
        "#### **Exercise 4.6**"
      ],
      "metadata": {
        "id": "9mkF_fznbiHg"
      }
    },
    {
      "cell_type": "code",
      "source": [
        "def celcius_to_farenheit(temp):\n",
        "  return temp*9/5 + 32\n",
        "\n",
        "celcius_to_farenheit(26.666666666666668)"
      ],
      "metadata": {
        "colab": {
          "base_uri": "https://localhost:8080/"
        },
        "id": "AXGBeebWbldH",
        "outputId": "40d144f2-4c77-4c68-a3e6-d35bc34c799c"
      },
      "execution_count": 16,
      "outputs": [
        {
          "output_type": "execute_result",
          "data": {
            "text/plain": [
              "80.0"
            ]
          },
          "metadata": {},
          "execution_count": 16
        }
      ]
    }
  ]
}
