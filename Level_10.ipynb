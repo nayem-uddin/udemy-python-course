{
  "nbformat": 4,
  "nbformat_minor": 0,
  "metadata": {
    "colab": {
      "provenance": [],
      "authorship_tag": "ABX9TyOiacl3Mb2gleWv7F7qxPRa",
      "include_colab_link": true
    },
    "kernelspec": {
      "name": "python3",
      "display_name": "Python 3"
    },
    "language_info": {
      "name": "python"
    }
  },
  "cells": [
    {
      "cell_type": "markdown",
      "metadata": {
        "id": "view-in-github",
        "colab_type": "text"
      },
      "source": [
        "<a href=\"https://colab.research.google.com/github/nayem-uddin/udemy-python-course/blob/main/Level_10.ipynb\" target=\"_parent\"><img src=\"https://colab.research.google.com/assets/colab-badge.svg\" alt=\"Open In Colab\"/></a>"
      ]
    },
    {
      "cell_type": "markdown",
      "source": [
        "## **Mastering NumPy**"
      ],
      "metadata": {
        "id": "xiLY1dhhbsEU"
      }
    },
    {
      "cell_type": "code",
      "execution_count": null,
      "metadata": {
        "id": "2kEPxNK7bhRf"
      },
      "outputs": [],
      "source": [
        "import numpy as np"
      ]
    },
    {
      "cell_type": "markdown",
      "source": [
        "Let's make a numpy array, which is similar to a list."
      ],
      "metadata": {
        "id": "MQvW2SX0epei"
      }
    },
    {
      "cell_type": "code",
      "source": [
        "a_np = np.array([1,2,3,4,5])"
      ],
      "metadata": {
        "id": "1CJX_B6XdrPZ"
      },
      "execution_count": null,
      "outputs": []
    },
    {
      "cell_type": "code",
      "source": [
        "type(a_np)"
      ],
      "metadata": {
        "colab": {
          "base_uri": "https://localhost:8080/"
        },
        "id": "Ji3HEr_ie0BS",
        "outputId": "c980600a-681c-452a-9027-e3e9cbd3e4b5"
      },
      "execution_count": null,
      "outputs": [
        {
          "output_type": "execute_result",
          "data": {
            "text/plain": [
              "numpy.ndarray"
            ]
          },
          "metadata": {},
          "execution_count": 4
        }
      ]
    },
    {
      "cell_type": "markdown",
      "source": [
        "Instead of using a loop, we can just use simple operators to perform element-wise mathematical operations on a numpy array."
      ],
      "metadata": {
        "id": "kdk_GSyEfwBK"
      }
    },
    {
      "cell_type": "code",
      "source": [
        "a_np +  1 # add 1 to each element"
      ],
      "metadata": {
        "colab": {
          "base_uri": "https://localhost:8080/"
        },
        "id": "NRKfAY8Ze6-B",
        "outputId": "72073efb-8342-4bc8-ef96-feeec3517729"
      },
      "execution_count": null,
      "outputs": [
        {
          "output_type": "execute_result",
          "data": {
            "text/plain": [
              "array([2, 3, 4, 5, 6])"
            ]
          },
          "metadata": {},
          "execution_count": 5
        }
      ]
    },
    {
      "cell_type": "markdown",
      "source": [
        "Let's make a two-dimensional array."
      ],
      "metadata": {
        "id": "-D5v1y10gCuS"
      }
    },
    {
      "cell_type": "code",
      "source": [
        "array_2d = np.array([\n",
        "    [1,2,3],\n",
        "    [4,5,6],\n",
        "    [7,8,9]\n",
        "])"
      ],
      "metadata": {
        "id": "ZKWCFJgyfJKh"
      },
      "execution_count": null,
      "outputs": []
    },
    {
      "cell_type": "code",
      "source": [
        "array_2d+1"
      ],
      "metadata": {
        "colab": {
          "base_uri": "https://localhost:8080/"
        },
        "id": "vTz2NvFkg7OJ",
        "outputId": "56f3405a-5d41-4916-e353-758c3975d700"
      },
      "execution_count": null,
      "outputs": [
        {
          "output_type": "execute_result",
          "data": {
            "text/plain": [
              "array([[ 2,  3,  4],\n",
              "       [ 5,  6,  7],\n",
              "       [ 8,  9, 10]])"
            ]
          },
          "metadata": {},
          "execution_count": 8
        }
      ]
    },
    {
      "cell_type": "code",
      "source": [
        "array_2d[0]+1"
      ],
      "metadata": {
        "colab": {
          "base_uri": "https://localhost:8080/"
        },
        "id": "ekMMWneKhEYh",
        "outputId": "d2f15509-ddd8-44e1-9038-1aa42d6ab8fa"
      },
      "execution_count": null,
      "outputs": [
        {
          "output_type": "execute_result",
          "data": {
            "text/plain": [
              "array([2, 3, 4])"
            ]
          },
          "metadata": {},
          "execution_count": 9
        }
      ]
    },
    {
      "cell_type": "code",
      "source": [
        "array_2d.shape # rows, columns"
      ],
      "metadata": {
        "colab": {
          "base_uri": "https://localhost:8080/"
        },
        "id": "wUYKijFlhtJq",
        "outputId": "2b7f5638-6243-4d1f-b9e3-661dfa09826b"
      },
      "execution_count": null,
      "outputs": [
        {
          "output_type": "execute_result",
          "data": {
            "text/plain": [
              "(3, 3)"
            ]
          },
          "metadata": {},
          "execution_count": 12
        }
      ]
    },
    {
      "cell_type": "code",
      "source": [
        "array_2d.size # no. of total elements"
      ],
      "metadata": {
        "colab": {
          "base_uri": "https://localhost:8080/"
        },
        "id": "ioGgg5NVhw_4",
        "outputId": "6a1594e6-1442-4b7f-faab-e96db550c02a"
      },
      "execution_count": null,
      "outputs": [
        {
          "output_type": "execute_result",
          "data": {
            "text/plain": [
              "9"
            ]
          },
          "metadata": {},
          "execution_count": 15
        }
      ]
    },
    {
      "cell_type": "code",
      "source": [
        "array_2d.ndim # no. of dimensions"
      ],
      "metadata": {
        "colab": {
          "base_uri": "https://localhost:8080/"
        },
        "id": "zOQOENIjh4zI",
        "outputId": "5db16722-0163-4a8f-dd9c-fd50cd46540a"
      },
      "execution_count": null,
      "outputs": [
        {
          "output_type": "execute_result",
          "data": {
            "text/plain": [
              "2"
            ]
          },
          "metadata": {},
          "execution_count": 16
        }
      ]
    },
    {
      "cell_type": "markdown",
      "source": [
        "To convert a list into a numpy array, we can do the following."
      ],
      "metadata": {
        "id": "jnCi3ImHiVSg"
      }
    },
    {
      "cell_type": "code",
      "source": [
        "a=list(range(5)) # just defined a random list\n",
        "a_num = np.array(a) # converted it into a numpy array\n",
        "a_num"
      ],
      "metadata": {
        "colab": {
          "base_uri": "https://localhost:8080/"
        },
        "id": "AyUWU-5oiEUI",
        "outputId": "7ba38b6b-18dd-4e0a-8531-426dcfeaf31c"
      },
      "execution_count": null,
      "outputs": [
        {
          "output_type": "execute_result",
          "data": {
            "text/plain": [
              "array([0, 1, 2, 3, 4])"
            ]
          },
          "metadata": {},
          "execution_count": 19
        }
      ]
    },
    {
      "cell_type": "markdown",
      "source": [
        "### **Arrays Data Type**"
      ],
      "metadata": {
        "id": "t7UGzwfTfe1o"
      }
    },
    {
      "cell_type": "code",
      "source": [
        "a_np.dtype"
      ],
      "metadata": {
        "colab": {
          "base_uri": "https://localhost:8080/"
        },
        "id": "snGM4CqhgUT3",
        "outputId": "d46f7bb9-4e2c-489f-e643-760889c8138e"
      },
      "execution_count": null,
      "outputs": [
        {
          "output_type": "execute_result",
          "data": {
            "text/plain": [
              "dtype('int64')"
            ]
          },
          "metadata": {},
          "execution_count": 6
        }
      ]
    },
    {
      "cell_type": "markdown",
      "source": [
        "As it has only integers in it, the data type is \"int64\"."
      ],
      "metadata": {
        "id": "VE4Z8kiIgX4n"
      }
    },
    {
      "cell_type": "code",
      "source": [
        "array_2d=np.array([\n",
        "    [1,2,3],\n",
        "    [4,\"Hello\",6],\n",
        "    [7,8,9]\n",
        "])"
      ],
      "metadata": {
        "id": "DlnDX-SkgXtg"
      },
      "execution_count": null,
      "outputs": []
    },
    {
      "cell_type": "code",
      "source": [
        "array_2d.dtype"
      ],
      "metadata": {
        "colab": {
          "base_uri": "https://localhost:8080/"
        },
        "id": "6ioz-do0hRDn",
        "outputId": "e3aae21e-39e3-4c8f-be94-0a79218df16f"
      },
      "execution_count": null,
      "outputs": [
        {
          "output_type": "execute_result",
          "data": {
            "text/plain": [
              "dtype('<U21')"
            ]
          },
          "metadata": {},
          "execution_count": 12
        }
      ]
    },
    {
      "cell_type": "markdown",
      "source": [
        "It has multiple data type; \"U\" means \"ununified\"."
      ],
      "metadata": {
        "id": "rkHWKvSYhaVe"
      }
    },
    {
      "cell_type": "code",
      "source": [
        "array_2d=np.array([\n",
        "    [1,2,3],\n",
        "    [4,\"5\",6],\n",
        "    [7,8,9]\n",
        "],dtype=np.float64) # to convert the whole array into a unified array"
      ],
      "metadata": {
        "id": "hqpqyMJxhozL"
      },
      "execution_count": null,
      "outputs": []
    },
    {
      "cell_type": "code",
      "source": [
        "array_2d"
      ],
      "metadata": {
        "colab": {
          "base_uri": "https://localhost:8080/"
        },
        "id": "pT__zjOqm9zV",
        "outputId": "f4ab2cee-43fa-4cac-dea2-e3e73c673c8b"
      },
      "execution_count": null,
      "outputs": [
        {
          "output_type": "execute_result",
          "data": {
            "text/plain": [
              "array([[1., 2., 3.],\n",
              "       [4., 5., 6.],\n",
              "       [7., 8., 9.]])"
            ]
          },
          "metadata": {},
          "execution_count": 17
        }
      ]
    },
    {
      "cell_type": "markdown",
      "source": [
        "### **Numpy Array Creation Methods**"
      ],
      "metadata": {
        "id": "fcfO5wiFnNnw"
      }
    },
    {
      "cell_type": "markdown",
      "source": [
        "np.full()"
      ],
      "metadata": {
        "id": "eUL1XzuPnxg4"
      }
    },
    {
      "cell_type": "code",
      "source": [
        "np.full((3,3),10)"
      ],
      "metadata": {
        "colab": {
          "base_uri": "https://localhost:8080/"
        },
        "id": "RMTHiE0PnB2Y",
        "outputId": "d324346f-911b-4a51-fdb2-0260277edac9"
      },
      "execution_count": null,
      "outputs": [
        {
          "output_type": "execute_result",
          "data": {
            "text/plain": [
              "array([[10, 10, 10],\n",
              "       [10, 10, 10],\n",
              "       [10, 10, 10]])"
            ]
          },
          "metadata": {},
          "execution_count": 31
        }
      ]
    },
    {
      "cell_type": "markdown",
      "source": [
        "np.ones()"
      ],
      "metadata": {
        "id": "Ct5_w_0gobaI"
      }
    },
    {
      "cell_type": "code",
      "source": [
        "ones = np.ones((4,4))\n",
        "ones"
      ],
      "metadata": {
        "colab": {
          "base_uri": "https://localhost:8080/"
        },
        "id": "LZMDIEfhn15e",
        "outputId": "68ac4055-ba31-44b7-e057-e0753330c27f"
      },
      "execution_count": null,
      "outputs": [
        {
          "output_type": "execute_result",
          "data": {
            "text/plain": [
              "array([[1., 1., 1., 1.],\n",
              "       [1., 1., 1., 1.],\n",
              "       [1., 1., 1., 1.],\n",
              "       [1., 1., 1., 1.]])"
            ]
          },
          "metadata": {},
          "execution_count": 20
        }
      ]
    },
    {
      "cell_type": "markdown",
      "source": [
        "np.zeros()"
      ],
      "metadata": {
        "id": "iPT70QkuouHY"
      }
    },
    {
      "cell_type": "code",
      "source": [
        "zeros = np.zeros((4,4))\n",
        "zeros"
      ],
      "metadata": {
        "colab": {
          "base_uri": "https://localhost:8080/"
        },
        "id": "GwXBXIioogXQ",
        "outputId": "3b4064ff-4886-4fc6-8d15-09000ea58a92"
      },
      "execution_count": null,
      "outputs": [
        {
          "output_type": "execute_result",
          "data": {
            "text/plain": [
              "array([[0., 0., 0., 0.],\n",
              "       [0., 0., 0., 0.],\n",
              "       [0., 0., 0., 0.],\n",
              "       [0., 0., 0., 0.]])"
            ]
          },
          "metadata": {},
          "execution_count": 21
        }
      ]
    },
    {
      "cell_type": "markdown",
      "source": [
        "np.arange(): This functions similar to \"range\"."
      ],
      "metadata": {
        "id": "eHe6OLHKpIXI"
      }
    },
    {
      "cell_type": "code",
      "source": [
        "arange = np.arange(10,100,10) # up to, but not including, 100\n",
        "arange"
      ],
      "metadata": {
        "colab": {
          "base_uri": "https://localhost:8080/"
        },
        "id": "wQrXRLhTpKut",
        "outputId": "2dbe1f51-2774-44b9-de37-e394bca0056f"
      },
      "execution_count": null,
      "outputs": [
        {
          "output_type": "execute_result",
          "data": {
            "text/plain": [
              "array([10, 20, 30, 40, 50, 60, 70, 80, 90])"
            ]
          },
          "metadata": {},
          "execution_count": 23
        }
      ]
    },
    {
      "cell_type": "code",
      "source": [
        "np.arange(10,101,10) # up to, but not including, 101"
      ],
      "metadata": {
        "colab": {
          "base_uri": "https://localhost:8080/"
        },
        "id": "fmSxEYGGpc1Q",
        "outputId": "f51b9d83-f1ad-4b95-ac29-10fceb1aa4cd"
      },
      "execution_count": null,
      "outputs": [
        {
          "output_type": "execute_result",
          "data": {
            "text/plain": [
              "array([ 10,  20,  30,  40,  50,  60,  70,  80,  90, 100])"
            ]
          },
          "metadata": {},
          "execution_count": 25
        }
      ]
    },
    {
      "cell_type": "markdown",
      "source": [
        "np.linspace()"
      ],
      "metadata": {
        "id": "9jRJ15DfqAox"
      }
    },
    {
      "cell_type": "code",
      "source": [
        "lines = np.linspace(10,100,10) # 10 elements starting from 10 and up to, and including, 100\n",
        "lines"
      ],
      "metadata": {
        "colab": {
          "base_uri": "https://localhost:8080/"
        },
        "id": "S5TQj82AqCrO",
        "outputId": "e64beec2-83c1-4318-b116-c7f32cf7eec6"
      },
      "execution_count": null,
      "outputs": [
        {
          "output_type": "execute_result",
          "data": {
            "text/plain": [
              "array([ 10.,  20.,  30.,  40.,  50.,  60.,  70.,  80.,  90., 100.])"
            ]
          },
          "metadata": {},
          "execution_count": 28
        }
      ]
    },
    {
      "cell_type": "code",
      "source": [
        "lines = np.linspace(10,100,40)\n",
        "lines"
      ],
      "metadata": {
        "colab": {
          "base_uri": "https://localhost:8080/"
        },
        "id": "0KcFcBVgqGYo",
        "outputId": "8e424217-35ca-4fe7-9c45-1e24eb61f09f"
      },
      "execution_count": null,
      "outputs": [
        {
          "output_type": "execute_result",
          "data": {
            "text/plain": [
              "array([ 10.        ,  12.30769231,  14.61538462,  16.92307692,\n",
              "        19.23076923,  21.53846154,  23.84615385,  26.15384615,\n",
              "        28.46153846,  30.76923077,  33.07692308,  35.38461538,\n",
              "        37.69230769,  40.        ,  42.30769231,  44.61538462,\n",
              "        46.92307692,  49.23076923,  51.53846154,  53.84615385,\n",
              "        56.15384615,  58.46153846,  60.76923077,  63.07692308,\n",
              "        65.38461538,  67.69230769,  70.        ,  72.30769231,\n",
              "        74.61538462,  76.92307692,  79.23076923,  81.53846154,\n",
              "        83.84615385,  86.15384615,  88.46153846,  90.76923077,\n",
              "        93.07692308,  95.38461538,  97.69230769, 100.        ])"
            ]
          },
          "metadata": {},
          "execution_count": 29
        }
      ]
    },
    {
      "cell_type": "markdown",
      "source": [
        "### **Operations with arrays**"
      ],
      "metadata": {
        "id": "4Hg9loZ2rCyf"
      }
    },
    {
      "cell_type": "code",
      "source": [
        "l1 = [1, 2, 3, 4, 5]\n",
        "l2 = [6, 7, 8, 9, 10]\n",
        "\n",
        "a1 = np.array(l1)\n",
        "a2 = np.array(l2)"
      ],
      "metadata": {
        "id": "AFpFIzIsrGN3"
      },
      "execution_count": null,
      "outputs": []
    },
    {
      "cell_type": "code",
      "source": [
        "a1 + 5"
      ],
      "metadata": {
        "colab": {
          "base_uri": "https://localhost:8080/"
        },
        "id": "DVUoHf1H0B35",
        "outputId": "c2c5ed58-0068-447b-c883-86ec87058831"
      },
      "execution_count": null,
      "outputs": [
        {
          "output_type": "execute_result",
          "data": {
            "text/plain": [
              "array([ 6,  7,  8,  9, 10])"
            ]
          },
          "metadata": {},
          "execution_count": 33
        }
      ]
    },
    {
      "cell_type": "code",
      "source": [
        "(a1 + a2) * 5"
      ],
      "metadata": {
        "colab": {
          "base_uri": "https://localhost:8080/"
        },
        "id": "HDi1dr4Q0EmN",
        "outputId": "b35ce72d-8acb-4b67-e558-b1ab05edda20"
      },
      "execution_count": null,
      "outputs": [
        {
          "output_type": "execute_result",
          "data": {
            "text/plain": [
              "array([35, 45, 55, 65, 75])"
            ]
          },
          "metadata": {},
          "execution_count": 35
        }
      ]
    },
    {
      "cell_type": "code",
      "source": [
        "a1_new = np.array([1, 2, 3])\n",
        "a2_new = np.array([[1], [2]])"
      ],
      "metadata": {
        "id": "7rF1DLY70HSd"
      },
      "execution_count": null,
      "outputs": []
    },
    {
      "cell_type": "code",
      "source": [
        "a1_new + a2_new"
      ],
      "metadata": {
        "colab": {
          "base_uri": "https://localhost:8080/"
        },
        "id": "7qmQYj3Xz-Hf",
        "outputId": "d9457996-3204-4095-dc98-07b9eafa2b46"
      },
      "execution_count": null,
      "outputs": [
        {
          "output_type": "execute_result",
          "data": {
            "text/plain": [
              "array([[2, 3, 4],\n",
              "       [3, 4, 5]])"
            ]
          },
          "metadata": {},
          "execution_count": 4
        }
      ]
    },
    {
      "cell_type": "markdown",
      "source": [
        "[1, 2, 3] + [1] = [2, 3, 4] <br>\n",
        "[1, 2, 3] + [2] = [3, 4, 5]"
      ],
      "metadata": {
        "id": "UkOQJPiC0BLs"
      }
    },
    {
      "cell_type": "code",
      "source": [
        "a2_new.shape"
      ],
      "metadata": {
        "colab": {
          "base_uri": "https://localhost:8080/"
        },
        "id": "KYlKs4Dp0IBN",
        "outputId": "2e69cbdb-e6fb-4f7c-d9ed-1ae3213a5831"
      },
      "execution_count": null,
      "outputs": [
        {
          "output_type": "execute_result",
          "data": {
            "text/plain": [
              "(2, 1)"
            ]
          },
          "metadata": {},
          "execution_count": 37
        }
      ]
    },
    {
      "cell_type": "code",
      "source": [
        "(a1_new + a2_new).shape"
      ],
      "metadata": {
        "colab": {
          "base_uri": "https://localhost:8080/"
        },
        "id": "ocwL8Q480J-1",
        "outputId": "320c4467-eb43-4ba2-9337-6196b0eced9b"
      },
      "execution_count": null,
      "outputs": [
        {
          "output_type": "execute_result",
          "data": {
            "text/plain": [
              "(2, 3)"
            ]
          },
          "metadata": {},
          "execution_count": 38
        }
      ]
    },
    {
      "cell_type": "code",
      "source": [
        "np.sqrt(a1_new)"
      ],
      "metadata": {
        "colab": {
          "base_uri": "https://localhost:8080/"
        },
        "id": "I8MSZEFx0LxV",
        "outputId": "38bed69b-a447-4cf7-8186-af419324dcd1"
      },
      "execution_count": null,
      "outputs": [
        {
          "output_type": "execute_result",
          "data": {
            "text/plain": [
              "array([1.        , 1.41421356, 1.73205081])"
            ]
          },
          "metadata": {},
          "execution_count": 39
        }
      ]
    },
    {
      "cell_type": "markdown",
      "source": [
        "# Rules of Broadcasting\n",
        "\n",
        "Broadcasting follows a set of rules to determine the interaction between the two arrays:\n",
        "\n",
        "1. **Dimension Compatibility**: Starting from the trailing dimensions, the dimensions of the arrays must either be the same, or one of them must be 1.\n",
        "  \n",
        "2. **Stretching**: If the sizes along a dimension are not the same, NumPy will try to stretch the array with size 1 along that dimension to match the other size.\n",
        "\n",
        "3. **Result Shape**: The shape of the resulting array is the maximum size along each dimension from the input arrays.\n",
        "\n",
        "### Scalar and One-dimensional Array\n"
      ],
      "metadata": {
        "id": "roNl9t3R1ZQG"
      }
    },
    {
      "cell_type": "code",
      "source": [
        "arr = np.array([1, 2, 3])\n",
        "\n",
        "res_arr = arr + 5"
      ],
      "metadata": {
        "id": "7-gSTu2Kx-FR"
      },
      "execution_count": null,
      "outputs": []
    },
    {
      "cell_type": "code",
      "source": [
        "res_arr"
      ],
      "metadata": {
        "colab": {
          "base_uri": "https://localhost:8080/"
        },
        "id": "a1T-GJuU1bzX",
        "outputId": "8e00ffc3-36df-4011-8fdb-1022e6d25153"
      },
      "execution_count": null,
      "outputs": [
        {
          "output_type": "execute_result",
          "data": {
            "text/plain": [
              "array([6, 7, 8])"
            ]
          },
          "metadata": {},
          "execution_count": 6
        }
      ]
    },
    {
      "cell_type": "markdown",
      "source": [
        "\n",
        "### Two-dimensional Array and One-dimensional Array\n",
        "\n"
      ],
      "metadata": {
        "id": "vXrtOcUe2wg3"
      }
    },
    {
      "cell_type": "code",
      "source": [
        "arr2d = np.array([[1, 2, 3], [4, 5, 6]])\n",
        "arr1d = np.ones((3))\n",
        "\n",
        "print(arr1d)"
      ],
      "metadata": {
        "colab": {
          "base_uri": "https://localhost:8080/"
        },
        "id": "u79S15YD1dom",
        "outputId": "8f6d48a4-9104-486e-a16a-343caeeb4969"
      },
      "execution_count": null,
      "outputs": [
        {
          "output_type": "stream",
          "name": "stdout",
          "text": [
            "[1. 1. 1.]\n"
          ]
        }
      ]
    },
    {
      "cell_type": "code",
      "source": [
        "arr2d + arr1d"
      ],
      "metadata": {
        "colab": {
          "base_uri": "https://localhost:8080/"
        },
        "id": "g0Ko88j220PG",
        "outputId": "0a822f7e-c3eb-461b-fb34-cf6a7c0b5df2"
      },
      "execution_count": null,
      "outputs": [
        {
          "output_type": "execute_result",
          "data": {
            "text/plain": [
              "array([[2., 3., 4.],\n",
              "       [5., 6., 7.]])"
            ]
          },
          "metadata": {},
          "execution_count": 8
        }
      ]
    },
    {
      "cell_type": "markdown",
      "source": [
        "\n",
        "\n",
        "### Broadcasting Two Arrays with Different Shapes\n",
        "\n"
      ],
      "metadata": {
        "id": "4djTutN23pN-"
      }
    },
    {
      "cell_type": "code",
      "source": [
        "A = np.array([[1, 2], [3, 4], [5, 6]])\n",
        "\n",
        "A.shape"
      ],
      "metadata": {
        "colab": {
          "base_uri": "https://localhost:8080/"
        },
        "id": "cwAd-nOO3nW1",
        "outputId": "1e43fe8d-d0cd-4540-cf51-18c589556147"
      },
      "execution_count": null,
      "outputs": [
        {
          "output_type": "execute_result",
          "data": {
            "text/plain": [
              "(3, 2)"
            ]
          },
          "metadata": {},
          "execution_count": 9
        }
      ]
    },
    {
      "cell_type": "code",
      "source": [
        "B = np.array([1, 2])"
      ],
      "metadata": {
        "id": "bduKXyrd3ro-"
      },
      "execution_count": null,
      "outputs": []
    },
    {
      "cell_type": "code",
      "source": [
        "A + B"
      ],
      "metadata": {
        "colab": {
          "base_uri": "https://localhost:8080/"
        },
        "id": "qDkIcVSU4E32",
        "outputId": "2a56e7b4-fa1e-49a6-fd1f-cd35a620e732"
      },
      "execution_count": null,
      "outputs": [
        {
          "output_type": "execute_result",
          "data": {
            "text/plain": [
              "array([[2, 4],\n",
              "       [4, 6],\n",
              "       [6, 8]])"
            ]
          },
          "metadata": {},
          "execution_count": 11
        }
      ]
    },
    {
      "cell_type": "markdown",
      "source": [
        "But it won't work for the following case.\n"
      ],
      "metadata": {
        "id": "jV8r-Eeq4GNW"
      }
    },
    {
      "cell_type": "code",
      "source": [
        "b = np.array([1, 2, 3])"
      ],
      "metadata": {
        "id": "LhtHmu194Fg2"
      },
      "execution_count": null,
      "outputs": []
    },
    {
      "cell_type": "code",
      "source": [
        "A + b"
      ],
      "metadata": {
        "colab": {
          "base_uri": "https://localhost:8080/",
          "height": 141
        },
        "id": "w9A2AFYR4P6-",
        "outputId": "5ca4cb42-1983-499c-8a1c-9a882fe73ea0"
      },
      "execution_count": null,
      "outputs": [
        {
          "output_type": "error",
          "ename": "ValueError",
          "evalue": "operands could not be broadcast together with shapes (3,2) (3,) ",
          "traceback": [
            "\u001b[0;31m---------------------------------------------------------------------------\u001b[0m",
            "\u001b[0;31mValueError\u001b[0m                                Traceback (most recent call last)",
            "\u001b[0;32m<ipython-input-13-48207f55069c>\u001b[0m in \u001b[0;36m<cell line: 1>\u001b[0;34m()\u001b[0m\n\u001b[0;32m----> 1\u001b[0;31m \u001b[0mA\u001b[0m \u001b[0;34m+\u001b[0m \u001b[0mb\u001b[0m\u001b[0;34m\u001b[0m\u001b[0;34m\u001b[0m\u001b[0m\n\u001b[0m",
            "\u001b[0;31mValueError\u001b[0m: operands could not be broadcast together with shapes (3,2) (3,) "
          ]
        }
      ]
    },
    {
      "cell_type": "markdown",
      "source": [
        "This is because it can't perform element-wise operation in this case.\n"
      ],
      "metadata": {
        "id": "H3eRGLgy4bY3"
      }
    },
    {
      "cell_type": "markdown",
      "source": [
        "But the following case will succeed."
      ],
      "metadata": {
        "id": "3ko-cGmQ4ys2"
      }
    },
    {
      "cell_type": "code",
      "source": [
        "a = np.array([[1], [3], [5]])"
      ],
      "metadata": {
        "id": "DXvS8c7h4Rge"
      },
      "execution_count": null,
      "outputs": []
    },
    {
      "cell_type": "code",
      "source": [
        "a + b"
      ],
      "metadata": {
        "colab": {
          "base_uri": "https://localhost:8080/"
        },
        "id": "zlL_QZa147Ot",
        "outputId": "e6e71224-b09f-44cd-c65a-b94bb75f6766"
      },
      "execution_count": null,
      "outputs": [
        {
          "output_type": "execute_result",
          "data": {
            "text/plain": [
              "array([[2, 3, 4],\n",
              "       [4, 5, 6],\n",
              "       [6, 7, 8]])"
            ]
          },
          "metadata": {},
          "execution_count": 15
        }
      ]
    },
    {
      "cell_type": "markdown",
      "source": [
        "\n",
        "## Practical Applications\n",
        "\n",
        "1. **Data Normalization**: Broadcasting can be used to normalize datasets by subtracting the mean and dividing by the standard deviation.\n",
        "  \n",
        "2. **Image Manipulation**: You can use broadcasting to apply filters or adjustments to RGB channels in images.\n",
        "\n",
        "3. **Mathematical Modeling**: In simulations or mathematical models, broadcasting can simplify the code and make it more efficient.\n",
        "\n",
        "## Caveats and Limitations\n",
        "\n",
        "1. **Implicitness**: Broadcasting can make code less explicit, which may lead to bugs if you're not careful about array shapes.\n",
        "\n",
        "2. **Memory Efficiency**: While broadcasting saves memory by avoiding explicit replication of data, it's still possible to run into memory issues with very large arrays.\n"
      ],
      "metadata": {
        "id": "y-zWVVbB5e23"
      }
    },
    {
      "cell_type": "markdown",
      "source": [
        "#  Indexing and Slicing - Accessing Array Elements in NumPy\n",
        "\n",
        "## Introduction\n",
        "\n",
        "\n",
        "---\n",
        "\n",
        "## Part 1: Basic Indexing\n",
        "\n",
        "\n",
        "\n",
        "\n",
        "\n",
        "\n",
        "\n"
      ],
      "metadata": {
        "id": "Ka-zcChT-Wfs"
      }
    },
    {
      "cell_type": "code",
      "source": [
        "exam_scores = np.array([90, 85, 77, 92])"
      ],
      "metadata": {
        "id": "nTlBRUan48e9"
      },
      "execution_count": null,
      "outputs": []
    },
    {
      "cell_type": "code",
      "source": [
        "print(\"First student's score is: \", exam_scores[0])"
      ],
      "metadata": {
        "colab": {
          "base_uri": "https://localhost:8080/"
        },
        "id": "mFyQOeuGBu3U",
        "outputId": "3f6f6aab-1415-44a0-a660-c36c347c16c2"
      },
      "execution_count": null,
      "outputs": [
        {
          "output_type": "stream",
          "name": "stdout",
          "text": [
            "First student's score is:  90\n"
          ]
        }
      ]
    },
    {
      "cell_type": "markdown",
      "source": [
        "## Part 2: Multidimensional Indexing\n",
        "    - Accessing elements in 2D and 3D arrays.\n",
        "    - Using row and column indices.\n"
      ],
      "metadata": {
        "id": "5-sFW-aY2asb"
      }
    },
    {
      "cell_type": "code",
      "source": [
        "sales_data = np.array([\n",
        "    [200, 220, 250],\n",
        "    [210, 230, 275],\n",
        "    [190, 205, 235]\n",
        "]) # three rows represent the data of January, February, and March, respectively"
      ],
      "metadata": {
        "id": "p1p9CYbH3Ooq"
      },
      "execution_count": null,
      "outputs": []
    },
    {
      "cell_type": "code",
      "source": [
        "sales_data[0] # the data of January"
      ],
      "metadata": {
        "colab": {
          "base_uri": "https://localhost:8080/"
        },
        "id": "_fcZ-Tzv3SuR",
        "outputId": "725c7901-04d0-490d-de4e-35b262c0c2f2"
      },
      "execution_count": null,
      "outputs": [
        {
          "output_type": "execute_result",
          "data": {
            "text/plain": [
              "array([200, 220, 250])"
            ]
          },
          "metadata": {},
          "execution_count": 5
        }
      ]
    },
    {
      "cell_type": "code",
      "source": [
        "sales_data[0][0] # First product of January"
      ],
      "metadata": {
        "colab": {
          "base_uri": "https://localhost:8080/"
        },
        "id": "HSF0H2BE3o9q",
        "outputId": "2d11d9b2-4efa-432c-fc19-7d083ea8c867"
      },
      "execution_count": null,
      "outputs": [
        {
          "output_type": "execute_result",
          "data": {
            "text/plain": [
              "200"
            ]
          },
          "metadata": {},
          "execution_count": 7
        }
      ]
    },
    {
      "cell_type": "markdown",
      "source": [
        "Similar result can be obtained as follows."
      ],
      "metadata": {
        "id": "KSt6cGQx33U2"
      }
    },
    {
      "cell_type": "code",
      "source": [
        "sales_data[0, 0]"
      ],
      "metadata": {
        "colab": {
          "base_uri": "https://localhost:8080/"
        },
        "id": "IZQCtg4Q3-1a",
        "outputId": "5ffc91a3-e6fa-4431-e486-78bfb0deec8d"
      },
      "execution_count": null,
      "outputs": [
        {
          "output_type": "execute_result",
          "data": {
            "text/plain": [
              "200"
            ]
          },
          "metadata": {},
          "execution_count": 8
        }
      ]
    },
    {
      "cell_type": "code",
      "source": [
        "sales_data = np.array([\n",
        "    [[200, 222], 220, 250],\n",
        "    [210, 230, 275],\n",
        "    [190, 205, 235]\n",
        "])"
      ],
      "metadata": {
        "colab": {
          "base_uri": "https://localhost:8080/",
          "height": 211
        },
        "id": "CkzU3wux2dRu",
        "outputId": "49df785e-c9df-4ec8-b83b-bbcfdd2fdb54"
      },
      "execution_count": null,
      "outputs": [
        {
          "output_type": "error",
          "ename": "ValueError",
          "evalue": "setting an array element with a sequence. The requested array has an inhomogeneous shape after 2 dimensions. The detected shape was (3, 3) + inhomogeneous part.",
          "traceback": [
            "\u001b[0;31m---------------------------------------------------------------------------\u001b[0m",
            "\u001b[0;31mValueError\u001b[0m                                Traceback (most recent call last)",
            "\u001b[0;32m<ipython-input-10-be08a371c6c6>\u001b[0m in \u001b[0;36m<cell line: 1>\u001b[0;34m()\u001b[0m\n\u001b[0;32m----> 1\u001b[0;31m sales_data = np.array([\n\u001b[0m\u001b[1;32m      2\u001b[0m     \u001b[0;34m[\u001b[0m\u001b[0;34m[\u001b[0m\u001b[0;36m200\u001b[0m\u001b[0;34m,\u001b[0m \u001b[0;36m222\u001b[0m\u001b[0;34m]\u001b[0m\u001b[0;34m,\u001b[0m \u001b[0;36m220\u001b[0m\u001b[0;34m,\u001b[0m \u001b[0;36m250\u001b[0m\u001b[0;34m]\u001b[0m\u001b[0;34m,\u001b[0m\u001b[0;34m\u001b[0m\u001b[0;34m\u001b[0m\u001b[0m\n\u001b[1;32m      3\u001b[0m     \u001b[0;34m[\u001b[0m\u001b[0;36m210\u001b[0m\u001b[0;34m,\u001b[0m \u001b[0;36m230\u001b[0m\u001b[0;34m,\u001b[0m \u001b[0;36m275\u001b[0m\u001b[0;34m]\u001b[0m\u001b[0;34m,\u001b[0m\u001b[0;34m\u001b[0m\u001b[0;34m\u001b[0m\u001b[0m\n\u001b[1;32m      4\u001b[0m     \u001b[0;34m[\u001b[0m\u001b[0;36m190\u001b[0m\u001b[0;34m,\u001b[0m \u001b[0;36m205\u001b[0m\u001b[0;34m,\u001b[0m \u001b[0;36m235\u001b[0m\u001b[0;34m]\u001b[0m\u001b[0;34m\u001b[0m\u001b[0;34m\u001b[0m\u001b[0m\n\u001b[1;32m      5\u001b[0m ])\n",
            "\u001b[0;31mValueError\u001b[0m: setting an array element with a sequence. The requested array has an inhomogeneous shape after 2 dimensions. The detected shape was (3, 3) + inhomogeneous part."
          ]
        }
      ]
    },
    {
      "cell_type": "markdown",
      "source": [
        "Well, I don't know why, but the code in the above cell is not working in my case, but the colab file provided by the course providers from where I've taken this code has the message below, but still works well. <br>\n",
        "< ipython-input-9-be08a371c6c6 >:1: VisibleDeprecationWarning: Creating an ndarray from ragged nested sequences (which is a list-or-tuple of lists-or-tuples-or ndarrays with different lengths or shapes) is deprecated. If you meant to do this, you must specify 'dtype=object' when creating the ndarray.\n",
        "  sales_data = np.array(["
      ],
      "metadata": {
        "id": "KB9jb4TW5dNh"
      }
    },
    {
      "cell_type": "markdown",
      "source": [
        "## Part 3: Basic Slicing\n",
        "    - How to slice arrays to get subarrays.\n",
        "    - Using the `start:stop:step` notation.\n"
      ],
      "metadata": {
        "id": "TErtAcWI66aH"
      }
    },
    {
      "cell_type": "code",
      "source": [
        "monthly_revenue = np.array([200, 220, 250, 275, 344, 350, 320, 400, 420, 450, 450])"
      ],
      "metadata": {
        "id": "GhYlJoC62fMT"
      },
      "execution_count": null,
      "outputs": []
    },
    {
      "cell_type": "code",
      "source": [
        "monthly_revenue[4::] # from the 5th element to the last"
      ],
      "metadata": {
        "colab": {
          "base_uri": "https://localhost:8080/"
        },
        "id": "0MUaITAt79II",
        "outputId": "ccf25b31-6b29-482e-f361-d4c1066a6374"
      },
      "execution_count": null,
      "outputs": [
        {
          "output_type": "execute_result",
          "data": {
            "text/plain": [
              "array([344, 350, 320, 400, 420, 450, 450])"
            ]
          },
          "metadata": {},
          "execution_count": 14
        }
      ]
    },
    {
      "cell_type": "code",
      "source": [
        "monthly_revenue[4::2] # from the 5th element to the last, skipping one element at each step (step = 2)"
      ],
      "metadata": {
        "colab": {
          "base_uri": "https://localhost:8080/"
        },
        "id": "i3AGFzx67bbW",
        "outputId": "c075bdb0-d812-47d1-8889-b175a82222f0"
      },
      "execution_count": null,
      "outputs": [
        {
          "output_type": "execute_result",
          "data": {
            "text/plain": [
              "array([344, 320, 420, 450])"
            ]
          },
          "metadata": {},
          "execution_count": 13
        }
      ]
    },
    {
      "cell_type": "code",
      "source": [
        "monthly_revenue[::2] # from the first element to the last, skipping every second"
      ],
      "metadata": {
        "colab": {
          "base_uri": "https://localhost:8080/"
        },
        "id": "Sg7H8Lxs7sOJ",
        "outputId": "008a57b5-69b0-430f-f060-54071dfc90b2"
      },
      "execution_count": null,
      "outputs": [
        {
          "output_type": "execute_result",
          "data": {
            "text/plain": [
              "array([200, 250, 344, 320, 420, 450])"
            ]
          },
          "metadata": {},
          "execution_count": 15
        }
      ]
    },
    {
      "cell_type": "code",
      "source": [
        "monthly_revenue[::-1] # reverse"
      ],
      "metadata": {
        "colab": {
          "base_uri": "https://localhost:8080/"
        },
        "id": "MMWXOv868s9h",
        "outputId": "c814d9e1-8f9e-4168-9d4a-0efa39125ce6"
      },
      "execution_count": null,
      "outputs": [
        {
          "output_type": "execute_result",
          "data": {
            "text/plain": [
              "array([450, 450, 420, 400, 320, 350, 344, 275, 250, 220, 200])"
            ]
          },
          "metadata": {},
          "execution_count": 17
        }
      ]
    },
    {
      "cell_type": "markdown",
      "source": [
        "## Part 4: Advanced Slicing Techniques\n",
        "    - Using boolean arrays for indexing.\n",
        "    - Combining slicing with conditional statements.\n"
      ],
      "metadata": {
        "id": "jtekhYkS9ChB"
      }
    },
    {
      "cell_type": "code",
      "source": [
        "avg = np.mean(monthly_revenue)\n",
        "avg"
      ],
      "metadata": {
        "colab": {
          "base_uri": "https://localhost:8080/"
        },
        "id": "ZCHZLVQF811Z",
        "outputId": "8e99e81d-bacf-4198-f463-70027b1c41ac"
      },
      "execution_count": null,
      "outputs": [
        {
          "output_type": "execute_result",
          "data": {
            "text/plain": [
              "334.45454545454544"
            ]
          },
          "metadata": {},
          "execution_count": 19
        }
      ]
    },
    {
      "cell_type": "markdown",
      "source": [
        "The following is an example of conditional accessing of the point. In the following case, we want to get the monthly revenue above the average."
      ],
      "metadata": {
        "id": "RRBR8YKn9jRx"
      }
    },
    {
      "cell_type": "code",
      "source": [
        "monthly_revenue[monthly_revenue > avg]"
      ],
      "metadata": {
        "colab": {
          "base_uri": "https://localhost:8080/"
        },
        "id": "KAA0uMr09grP",
        "outputId": "1863995c-152e-488b-b466-1127b4055b98"
      },
      "execution_count": null,
      "outputs": [
        {
          "output_type": "execute_result",
          "data": {
            "text/plain": [
              "array([344, 350, 400, 420, 450, 450])"
            ]
          },
          "metadata": {},
          "execution_count": 20
        }
      ]
    },
    {
      "cell_type": "markdown",
      "source": [
        "Note that only the condition gives up an array of \"True\"s and \"False\"s, from which we apparently can't have any useful information."
      ],
      "metadata": {
        "id": "axsV5Ift92tA"
      }
    },
    {
      "cell_type": "code",
      "source": [
        "monthly_revenue > avg"
      ],
      "metadata": {
        "colab": {
          "base_uri": "https://localhost:8080/"
        },
        "id": "vVDeAyrn9y0M",
        "outputId": "bcc02de9-8a33-4bca-9dfb-5d60e56512e0"
      },
      "execution_count": null,
      "outputs": [
        {
          "output_type": "execute_result",
          "data": {
            "text/plain": [
              "array([False, False, False, False,  True,  True, False,  True,  True,\n",
              "        True,  True])"
            ]
          },
          "metadata": {},
          "execution_count": 21
        }
      ]
    },
    {
      "cell_type": "markdown",
      "source": [
        "So, when we use the condition as an index, only the values in the array corresponding the \"True\"s are returned."
      ],
      "metadata": {
        "id": "9CuyXzdZ-WTJ"
      }
    },
    {
      "cell_type": "markdown",
      "source": [
        "## Part 5: Important Caveats and Best Practices\n",
        "    - Mention that slices are views, not copies.\n",
        "    - The importance of being aware of data types when slicing and indexing.\n"
      ],
      "metadata": {
        "id": "fqRVQAu1-_mR"
      }
    },
    {
      "cell_type": "code",
      "source": [
        "monthly_revenue[monthly_revenue > avg]"
      ],
      "metadata": {
        "colab": {
          "base_uri": "https://localhost:8080/"
        },
        "id": "UcIG7WPpDwTo",
        "outputId": "b156c71c-e064-40e2-fc78-62d0de3bcf8e"
      },
      "execution_count": null,
      "outputs": [
        {
          "output_type": "execute_result",
          "data": {
            "text/plain": [
              "array([344, 350, 400, 420, 450, 450])"
            ]
          },
          "metadata": {},
          "execution_count": 22
        }
      ]
    },
    {
      "cell_type": "markdown",
      "source": [
        "The action we've done in the above cell is just \"showing\" us an array based on the condition we provided, not modifying the original array. We can store that array in a new variable as follows, which enables us to modify the new array we get."
      ],
      "metadata": {
        "id": "q7EeVc57DxgH"
      }
    },
    {
      "cell_type": "code",
      "source": [
        "monthly_revenue_ab_avg = monthly_revenue[monthly_revenue > avg]"
      ],
      "metadata": {
        "id": "EHl66wsT-MLp"
      },
      "execution_count": null,
      "outputs": []
    },
    {
      "cell_type": "code",
      "source": [
        "monthly_revenue_ab_avg"
      ],
      "metadata": {
        "colab": {
          "base_uri": "https://localhost:8080/"
        },
        "id": "WjWmG4dtEKjY",
        "outputId": "37337101-4f79-45e5-bb9b-4c29f0c6a7f4"
      },
      "execution_count": null,
      "outputs": [
        {
          "output_type": "execute_result",
          "data": {
            "text/plain": [
              "array([344, 350, 400, 420, 450, 450])"
            ]
          },
          "metadata": {},
          "execution_count": 24
        }
      ]
    },
    {
      "cell_type": "markdown",
      "source": [
        "## **Exercise 10.1**"
      ],
      "metadata": {
        "id": "FFhR-7bkETD_"
      }
    },
    {
      "cell_type": "markdown",
      "source": [
        "# Mini Project: 1D Slicing and Indexing with NumPy\n",
        "\n",
        "## Objective\n",
        "\n",
        "In this mini-project, you will practice 1D slicing and indexing techniques using NumPy. We'll work on a dataset that represents monthly sales data for a retail store and perform various data manipulation tasks.\n",
        "\n",
        "## Dataset\n",
        "\n",
        "Let's assume we have a 1D NumPy array that represents the monthly sales for a retail store for one year, in thousands of dollars.\n",
        "\n"
      ],
      "metadata": {
        "id": "YetVksOdEe4Y"
      }
    },
    {
      "cell_type": "code",
      "source": [
        "monthly_sales = np.array([200, 220, 250, 275, 300, 320, 350, 370, 400, 420, 450, 475])"
      ],
      "metadata": {
        "id": "kix9V04NEV-3"
      },
      "execution_count": null,
      "outputs": []
    },
    {
      "cell_type": "markdown",
      "source": [
        "\n",
        "## Tasks\n",
        "\n",
        "### Task 1: Basic Indexing\n",
        "\n",
        "1. Access and print the sales data for January (the first month).\n",
        "2. Access and print the sales data for December (the last month).\n",
        "\n",
        "\n",
        "\n",
        "\n",
        "\n",
        "\n"
      ],
      "metadata": {
        "id": "POjHoe-WLwJX"
      }
    },
    {
      "cell_type": "code",
      "source": [
        "print(\"January info:\",monthly_sales[0])\n",
        "print(\"December info:\",monthly_sales[-1])"
      ],
      "metadata": {
        "colab": {
          "base_uri": "https://localhost:8080/"
        },
        "id": "cB5VgwGFL3d5",
        "outputId": "0bb6d0f4-afc7-4644-ffa2-2bee1c027970"
      },
      "execution_count": null,
      "outputs": [
        {
          "output_type": "stream",
          "name": "stdout",
          "text": [
            "January info: 200\n",
            "December info: 475\n"
          ]
        }
      ]
    },
    {
      "cell_type": "markdown",
      "source": [
        "### Task 2: Access Quarterly Data\n",
        "\n",
        "1. Extract and print the sales data for each quarter (Q1, Q2, Q3, and Q4)."
      ],
      "metadata": {
        "id": "KG8PwxAjMK83"
      }
    },
    {
      "cell_type": "code",
      "source": [
        "print(monthly_sales[:3])\n",
        "print(monthly_sales[3:6])\n",
        "print(monthly_sales[6:9])\n",
        "print(monthly_sales[9:])"
      ],
      "metadata": {
        "colab": {
          "base_uri": "https://localhost:8080/"
        },
        "id": "C89g8vHdML4m",
        "outputId": "9747185f-ac42-47cd-9b1d-5329dd52d447"
      },
      "execution_count": null,
      "outputs": [
        {
          "output_type": "stream",
          "name": "stdout",
          "text": [
            "[200 220 250]\n",
            "[275 300 320]\n",
            "[350 370 400]\n",
            "[420 450 475]\n"
          ]
        }
      ]
    },
    {
      "cell_type": "markdown",
      "source": [
        "### Task 3: Modify Sales Data\n",
        "\n",
        "1. Assume that there was an error in the data entry for the month of April. The correct sales figure is $280,000. Update this value in the array.\n",
        "2. Print the updated array to confirm the change."
      ],
      "metadata": {
        "id": "zhWJ_2wbMmhG"
      }
    },
    {
      "cell_type": "code",
      "source": [
        "monthly_sales[3]=280\n",
        "print(monthly_sales)"
      ],
      "metadata": {
        "colab": {
          "base_uri": "https://localhost:8080/"
        },
        "id": "1gyBEwG0MnDt",
        "outputId": "5a32fd64-bb50-4c9c-9729-2b69351ce8ea"
      },
      "execution_count": null,
      "outputs": [
        {
          "output_type": "stream",
          "name": "stdout",
          "text": [
            "[200 220 250 280 300 320 350 370 400 420 450 475]\n"
          ]
        }
      ]
    },
    {
      "cell_type": "markdown",
      "source": [
        "### Task 4: Summer Sales\n",
        "\n",
        "1. Extract and print the sales data for the summer months (June, July, August).\n",
        "2. Calculate and print the average sales for the summer months."
      ],
      "metadata": {
        "id": "7MDP0bqYM6SO"
      }
    },
    {
      "cell_type": "code",
      "source": [
        "summer_months=monthly_sales[5:8]\n",
        "avg_summer=np.mean(summer_months)\n",
        "print(summer_months)\n",
        "print(avg_summer)"
      ],
      "metadata": {
        "colab": {
          "base_uri": "https://localhost:8080/"
        },
        "id": "jg_4PRWkM6zO",
        "outputId": "148f3bf4-767e-458c-d271-6e26ce27e838"
      },
      "execution_count": null,
      "outputs": [
        {
          "output_type": "stream",
          "name": "stdout",
          "text": [
            "[320 350 370]\n",
            "346.6666666666667\n"
          ]
        }
      ]
    },
    {
      "cell_type": "markdown",
      "source": [
        "### Task 5: Above Average Months\n",
        "\n",
        "1. Calculate the average monthly sales for the entire year.\n",
        "2. Identify and print the months where the sales were above average."
      ],
      "metadata": {
        "id": "Zd1WijGANLR_"
      }
    },
    {
      "cell_type": "code",
      "source": [
        "avg = np.mean(monthly_sales)\n",
        "print(monthly_sales[monthly_sales > avg])"
      ],
      "metadata": {
        "colab": {
          "base_uri": "https://localhost:8080/"
        },
        "id": "fzkrk28jNMby",
        "outputId": "5f8537ca-ddaa-4ad8-d895-548bc686b5d8"
      },
      "execution_count": null,
      "outputs": [
        {
          "output_type": "stream",
          "name": "stdout",
          "text": [
            "[350 370 400 420 450 475]\n"
          ]
        }
      ]
    },
    {
      "cell_type": "markdown",
      "source": [
        "# Python Loops vs Vectorization in NumPy\n",
        "\n",
        "## Introduction\n",
        "\n",
        "---\n",
        "\n",
        "## Part 1: Understanding Python Loops\n",
        "\n",
        "\n",
        "\n",
        "\n",
        "\n"
      ],
      "metadata": {
        "id": "7AOvtcAU-xXq"
      }
    },
    {
      "cell_type": "code",
      "source": [
        "daily_users = [200, 220, 250, 275]\n",
        "\n",
        "avg_users = 0\n",
        "for e in daily_users:\n",
        "  avg_users += e\n",
        "\n",
        "print(avg_users / len(daily_users))"
      ],
      "metadata": {
        "colab": {
          "base_uri": "https://localhost:8080/"
        },
        "id": "Snr3mBrM-yBJ",
        "outputId": "9889e054-945f-47c3-b2ab-10ed6612fb2c"
      },
      "execution_count": null,
      "outputs": [
        {
          "output_type": "stream",
          "name": "stdout",
          "text": [
            "236.25\n"
          ]
        }
      ]
    },
    {
      "cell_type": "markdown",
      "source": [
        "To find average user, this is the common approach. But Python loops are slow, and we may need vectorization if we want our code to execute faster."
      ],
      "metadata": {
        "id": "eaUULGcC-75w"
      }
    },
    {
      "cell_type": "markdown",
      "source": [
        "## Part 2: Introduction to Vectorization\n",
        "  - What vectorization is and why it's important.\n",
        "  - Brief explanation of how NumPy uses vectorized operations.\n"
      ],
      "metadata": {
        "id": "kzyA4vcH_Ubw"
      }
    },
    {
      "cell_type": "code",
      "source": [
        "du_np = np.array(daily_users)\n",
        "\n",
        "print(np.mean(du_np))"
      ],
      "metadata": {
        "id": "78LB8tiF_ODO"
      },
      "execution_count": null,
      "outputs": []
    },
    {
      "cell_type": "markdown",
      "source": [
        "## Part 3: Performance Comparison\n",
        "\n",
        "Let's check if vectorization really works faster."
      ],
      "metadata": {
        "id": "CZc2tBpl_0jo"
      }
    },
    {
      "cell_type": "code",
      "source": [
        "large_array = np.random.randint(1, 100, size=10000000)"
      ],
      "metadata": {
        "id": "a_3xBR7e_7y4"
      },
      "execution_count": null,
      "outputs": []
    },
    {
      "cell_type": "code",
      "source": [
        "import time\n",
        "\n",
        "start_time = time.time()\n",
        "avg = 0\n",
        "for e in large_array:\n",
        "  avg += e\n",
        "print(avg / 10000000)\n",
        "end_time = time.time()\n",
        "print(end_time - start_time)"
      ],
      "metadata": {
        "colab": {
          "base_uri": "https://localhost:8080/"
        },
        "id": "yIad8gudAAFm",
        "outputId": "b275c92b-e0ed-409c-c86d-09e3b78d5a27"
      },
      "execution_count": null,
      "outputs": [
        {
          "output_type": "stream",
          "name": "stdout",
          "text": [
            "50.0047124\n",
            "2.5775675773620605\n"
          ]
        }
      ]
    },
    {
      "cell_type": "code",
      "source": [
        "start_time = time.time()\n",
        "print(np.mean(large_array))\n",
        "end_time = time.time()\n",
        "print(end_time - start_time)"
      ],
      "metadata": {
        "colab": {
          "base_uri": "https://localhost:8080/"
        },
        "id": "B1rm6b2kArLw",
        "outputId": "c8641724-b668-496a-cd03-e467c05ddeb9"
      },
      "execution_count": null,
      "outputs": [
        {
          "output_type": "stream",
          "name": "stdout",
          "text": [
            "50.0047124\n",
            "0.023087263107299805\n"
          ]
        }
      ]
    },
    {
      "cell_type": "markdown",
      "source": [
        "## **Exercise 10.2**\n",
        "# Exercise: Vectorize a Given Python Loop\n",
        "\n",
        "## Objective\n",
        "\n",
        "In this exercise, you'll practice converting a Python loop that performs a mathematical operation into a vectorized version using NumPy. By doing so, you'll learn to write more efficient and cleaner code.\n",
        "\n",
        "## Scenario\n",
        "\n",
        "Imagine you're working with a dataset containing the monthly sales data for a retail business. You want to apply a 10% discount to each monthly sales figure to calculate the new sales numbers.\n"
      ],
      "metadata": {
        "id": "FP-_LX3cCBEQ"
      }
    },
    {
      "cell_type": "markdown",
      "source": [
        "\n",
        "## Task 1: Using Python Loop\n",
        "\n",
        "1. Create a list called `monthly_sales` containing 12 integers, each representing the sales for a month.\n",
        "2. Initialize an empty list called `discounted_sales`.\n",
        "3. Loop through each value in `monthly_sales`, apply a 10% discount, and append the result to `discounted_sales`.\n"
      ],
      "metadata": {
        "id": "_Ea5IE39COGn"
      }
    },
    {
      "cell_type": "code",
      "source": [
        "monthly_sales = [1000, 1050, 1200, 1100, 1500, 2000, 1900, 1300, 1800, 1700, 1600, 1400]\n",
        "discounted_sales = []\n",
        "for i in monthly_sales:\n",
        "  discounted_sales.append(i*0.9)\n",
        "print(monthly_sales)\n",
        "print(discounted_sales)"
      ],
      "metadata": {
        "colab": {
          "base_uri": "https://localhost:8080/"
        },
        "id": "SoKhlESxCDvV",
        "outputId": "82c73b4a-35b5-47a6-d9dd-b06e0ddc4de5"
      },
      "execution_count": null,
      "outputs": [
        {
          "output_type": "stream",
          "name": "stdout",
          "text": [
            "[1000, 1050, 1200, 1100, 1500, 2000, 1900, 1300, 1800, 1700, 1600, 1400]\n",
            "[900.0, 945.0, 1080.0, 990.0, 1350.0, 1800.0, 1710.0, 1170.0, 1620.0, 1530.0, 1440.0, 1260.0]\n"
          ]
        }
      ]
    },
    {
      "cell_type": "markdown",
      "source": [
        "\n",
        "## Task 2: Using NumPy Vectorization\n",
        "\n",
        "### Instructions\n",
        "\n",
        "1. Convert the `monthly_sales` list into a NumPy array.\n",
        "2. Use NumPy's vectorized operations to apply a 10% discount to each value.\n",
        "3. Store the result in a new NumPy array called `discounted_sales_np`.\n"
      ],
      "metadata": {
        "id": "zxdslDU5CTtH"
      }
    },
    {
      "cell_type": "code",
      "source": [
        "monthly_sales = np.array(monthly_sales)\n",
        "discounted_sales_np = monthly_sales*0.9\n",
        "print(monthly_sales)\n",
        "print(discounted_sales_np)"
      ],
      "metadata": {
        "colab": {
          "base_uri": "https://localhost:8080/"
        },
        "id": "orHZjEMrCUJx",
        "outputId": "ade1c2fd-9f03-4e19-df07-709c67d357b0"
      },
      "execution_count": null,
      "outputs": [
        {
          "output_type": "stream",
          "name": "stdout",
          "text": [
            "[1000 1050 1200 1100 1500 2000 1900 1300 1800 1700 1600 1400]\n",
            "[ 900.  945. 1080.  990. 1350. 1800. 1710. 1170. 1620. 1530. 1440. 1260.]\n"
          ]
        }
      ]
    },
    {
      "cell_type": "markdown",
      "source": [
        "# Universal Functions - The Power of UFuncs in NumPy\n",
        "\n",
        "## Introduction\n",
        "\n",
        "\n",
        "\n",
        "## Part 1: What are UFuncs?\n",
        "    - Definition and characteristics of UFuncs.\n",
        "    - UFuncs allow for element-wise operations on arrays.\n",
        "\n",
        "\n",
        "\n",
        "\n",
        "\n",
        "\n",
        "\n",
        "\n",
        "\n",
        "\n",
        "\n"
      ],
      "metadata": {
        "id": "_vJrHANkHYxX"
      }
    },
    {
      "cell_type": "code",
      "source": [
        "\n",
        "\n",
        "product_prices = np.array([20, 25, 33, 37, 40])"
      ],
      "metadata": {
        "id": "c1RYTW1HHZYn"
      },
      "execution_count": null,
      "outputs": []
    },
    {
      "cell_type": "code",
      "source": [
        "print(\"Discountinued prices\", np.sqrt(product_prices))"
      ],
      "metadata": {
        "colab": {
          "base_uri": "https://localhost:8080/"
        },
        "id": "hsZaxzLNHbzE",
        "outputId": "2765cb53-9bc7-477b-8578-709c8c28220a"
      },
      "execution_count": null,
      "outputs": [
        {
          "output_type": "stream",
          "name": "stdout",
          "text": [
            "Discountinued prices [4.47213595 5.         5.74456265 6.08276253 6.32455532]\n"
          ]
        }
      ]
    },
    {
      "cell_type": "markdown",
      "source": [
        "## Part 2: Basic UFuncs for Arithmetic Operations\n",
        "    - Common arithmetic operations like addition, subtraction, multiplication, and division.\n"
      ],
      "metadata": {
        "id": "KM7ICGGtIQCu"
      }
    },
    {
      "cell_type": "code",
      "source": [
        "revenue = np.array([4000, 4500, 4000])\n",
        "expenses = np.array([2000, 1500, 2500])\n",
        "\n",
        "print(np.subtract(revenue, expenses))\n",
        "revenue - expenses"
      ],
      "metadata": {
        "colab": {
          "base_uri": "https://localhost:8080/"
        },
        "id": "1x_ijpukIQu_",
        "outputId": "2ec7b919-f718-4ffc-afca-0ba6cb1ef924"
      },
      "execution_count": null,
      "outputs": [
        {
          "output_type": "stream",
          "name": "stdout",
          "text": [
            "[2000 3000 1500]\n"
          ]
        },
        {
          "output_type": "execute_result",
          "data": {
            "text/plain": [
              "array([2000, 3000, 1500])"
            ]
          },
          "metadata": {},
          "execution_count": 14
        }
      ]
    },
    {
      "cell_type": "markdown",
      "source": [
        "\n",
        "## Part 3: Trigonometric and Logarithmic UFuncs\n",
        "    - Trigonometric functions like `np.sin`, `np.cos`.\n",
        "    - Logarithmic functions like `np.log`, `np.exp`."
      ],
      "metadata": {
        "id": "uEBOTLYQIVE_"
      }
    },
    {
      "cell_type": "code",
      "source": [
        "principal = 1000\n",
        "rate = 0.05\n",
        "\n",
        "years = np.array([1, 2, 3, 4, 5])"
      ],
      "metadata": {
        "id": "wAbP3GJBIV0v"
      },
      "execution_count": null,
      "outputs": []
    },
    {
      "cell_type": "code",
      "source": [
        "compound_interest = np.multiply(principal, np.exp(np.multiply(rate, years))) # this is similar to \"principal * np.exp(rate * years)\""
      ],
      "metadata": {
        "id": "B7tEajPeTYoz"
      },
      "execution_count": null,
      "outputs": []
    },
    {
      "cell_type": "code",
      "source": [
        "compound_interest"
      ],
      "metadata": {
        "colab": {
          "base_uri": "https://localhost:8080/"
        },
        "id": "Kmv3RL1uTbP0",
        "outputId": "432d2bdd-b1ae-43ce-cf01-e531f653efaa"
      },
      "execution_count": null,
      "outputs": [
        {
          "output_type": "execute_result",
          "data": {
            "text/plain": [
              "array([1051.27109638, 1105.17091808, 1161.83424273, 1221.40275816,\n",
              "       1284.02541669])"
            ]
          },
          "metadata": {},
          "execution_count": 17
        }
      ]
    },
    {
      "cell_type": "markdown",
      "source": [
        "## Part 4: Comparison and Logical UFuncs\n",
        "    - Comparison UFuncs like `np.greater`, `np.less_equal`.\n",
        "    - Logical UFuncs like `np.logical_and`, `np.logical_or`.\n"
      ],
      "metadata": {
        "id": "NRo0-avrUQdk"
      }
    },
    {
      "cell_type": "code",
      "source": [
        "revenue = np.array([4000, 4500, 4000])\n",
        "expenses = np.array([2000, 1500, 2500])"
      ],
      "metadata": {
        "id": "Nt7DvYB6UTQe"
      },
      "execution_count": null,
      "outputs": []
    },
    {
      "cell_type": "code",
      "source": [
        "expenses[np.less_equal(expenses, 2000)] # this is similar to \"expenses[expenses <= 2000]\""
      ],
      "metadata": {
        "colab": {
          "base_uri": "https://localhost:8080/"
        },
        "id": "yxjchxSRUYJ1",
        "outputId": "f5f5baeb-78b4-42cb-ae1e-afaae7001a01"
      },
      "execution_count": null,
      "outputs": [
        {
          "output_type": "execute_result",
          "data": {
            "text/plain": [
              "array([2000, 1500])"
            ]
          },
          "metadata": {},
          "execution_count": 22
        }
      ]
    },
    {
      "cell_type": "markdown",
      "source": [
        "## Part 5: Custom UFuncs\n",
        "    - Creating custom UFuncs using `np.vectorize`.\n",
        "Instead of using \"map\", we can use vectorization."
      ],
      "metadata": {
        "id": "m1PQP_JPUL08"
      }
    },
    {
      "cell_type": "code",
      "source": [
        "# define a function\n",
        "def calculate_nps(score):\n",
        "  if score >= 9:\n",
        "    return \"Promoter\"\n",
        "  elif score >= 7:\n",
        "    return \"Passive\"\n",
        "  else:\n",
        "    return \"Detractor\""
      ],
      "metadata": {
        "id": "42iGjkN9UMWc"
      },
      "execution_count": null,
      "outputs": []
    },
    {
      "cell_type": "code",
      "source": [
        "# make a vectorized version of that version\n",
        "nps_ufunc = np.vectorize(calculate_nps)"
      ],
      "metadata": {
        "id": "77vnelOWVpdA"
      },
      "execution_count": null,
      "outputs": []
    },
    {
      "cell_type": "code",
      "source": [
        "# just an array is built here, skip if you've already built your array\n",
        "scores = np.array([9, 8, 6, 7, 6])"
      ],
      "metadata": {
        "id": "9RxZQy0AVryc"
      },
      "execution_count": null,
      "outputs": []
    },
    {
      "cell_type": "code",
      "source": [
        "# apply the vectorized function on your array\n",
        "nps_ufunc(scores)"
      ],
      "metadata": {
        "colab": {
          "base_uri": "https://localhost:8080/"
        },
        "id": "Y00UlcobVvTs",
        "outputId": "ba67ecf5-afe5-44cb-f5c4-347db574b24b"
      },
      "execution_count": null,
      "outputs": [
        {
          "output_type": "execute_result",
          "data": {
            "text/plain": [
              "array(['Promoter', 'Passive', 'Detractor', 'Passive', 'Detractor'],\n",
              "      dtype='<U9')"
            ]
          },
          "metadata": {},
          "execution_count": 26
        }
      ]
    },
    {
      "cell_type": "markdown",
      "source": [
        "# Conditional Selection - Choosing with Conditions in NumPy\n",
        "\n",
        "## Introduction\n",
        "\n",
        "---\n",
        "\n",
        "## Part 1: Basic Conditional Selection\n",
        "- **Bullet Points**:\n",
        "    - Introduction to the `np.where` function for basic conditional operations.\n",
        "    - Real-world Example: Determining which employees are eligible for a bonus based on their performance scores.\n",
        "\n",
        "\n"
      ],
      "metadata": {
        "id": "z49pn0PiWv6s"
      }
    },
    {
      "cell_type": "code",
      "source": [
        "scores = np.array([85, 90, 78, 92, 88])"
      ],
      "metadata": {
        "id": "YYFKUWLqWwzE"
      },
      "execution_count": null,
      "outputs": []
    },
    {
      "cell_type": "code",
      "source": [
        "np.where(scores > 80) # to get the indices of the values greater than 0"
      ],
      "metadata": {
        "colab": {
          "base_uri": "https://localhost:8080/"
        },
        "id": "MZgYHEozIrB4",
        "outputId": "c7b4409c-ef7d-478f-f621-f1df1230a774"
      },
      "execution_count": null,
      "outputs": [
        {
          "output_type": "execute_result",
          "data": {
            "text/plain": [
              "(array([0, 1, 3, 4]),)"
            ]
          },
          "metadata": {},
          "execution_count": 3
        }
      ]
    },
    {
      "cell_type": "code",
      "source": [
        "eligibility = np.where(scores > 85, \"Yes\", \"No\")\n",
        "print(eligibility)"
      ],
      "metadata": {
        "colab": {
          "base_uri": "https://localhost:8080/"
        },
        "id": "8oov91YhI1id",
        "outputId": "83cbea62-48cc-4e3f-96f1-ad1f76dfab98"
      },
      "execution_count": null,
      "outputs": [
        {
          "output_type": "stream",
          "name": "stdout",
          "text": [
            "['No' 'Yes' 'No' 'Yes' 'Yes']\n"
          ]
        }
      ]
    },
    {
      "cell_type": "markdown",
      "source": [
        "## Part 2: Multiple Conditions\n",
        "    - Using logical operators like `&` (and), `|` (or) to combine conditions.\n",
        "Multiple conditions are seperated using parentheses and related using logical operators.\n"
      ],
      "metadata": {
        "id": "ThLFymApKXyd"
      }
    },
    {
      "cell_type": "code",
      "source": [
        "eligibility = np.where((scores < 87) & (scores > 80) | (scores > 90) , \"Yes\", \"No\")\n",
        "print(eligibility)"
      ],
      "metadata": {
        "colab": {
          "base_uri": "https://localhost:8080/"
        },
        "id": "DAnHviWhJfTO",
        "outputId": "4ddb17ff-4501-4303-8bfa-f48676dd62eb"
      },
      "execution_count": null,
      "outputs": [
        {
          "output_type": "stream",
          "name": "stdout",
          "text": [
            "['Yes' 'No' 'No' 'Yes' 'No']\n"
          ]
        }
      ]
    },
    {
      "cell_type": "markdown",
      "source": [
        "## Part 3: Filtering Arrays\n",
        "    - Using boolean indexing to filter arrays based on conditions.\n"
      ],
      "metadata": {
        "id": "a6bUpQS-LhQt"
      }
    },
    {
      "cell_type": "code",
      "source": [
        "scores[(scores < 87) | (scores > 90)]"
      ],
      "metadata": {
        "colab": {
          "base_uri": "https://localhost:8080/"
        },
        "id": "TxzLaP2XLh1N",
        "outputId": "fecd45e3-c4af-4180-9783-2f5ab10cc777"
      },
      "execution_count": null,
      "outputs": [
        {
          "output_type": "execute_result",
          "data": {
            "text/plain": [
              "array([85, 78, 92])"
            ]
          },
          "metadata": {},
          "execution_count": 8
        }
      ]
    },
    {
      "cell_type": "markdown",
      "source": [
        "## Part 4: Nested Conditions\n",
        "    - Using nested `np.where` for more complex conditional logic.\n"
      ],
      "metadata": {
        "id": "Wxgdd4RyLmzd"
      }
    },
    {
      "cell_type": "code",
      "source": [
        "np.where(scores < 80 , \"Yes\", np.where(scores > 90 , \"Yes\", \"No\"))"
      ],
      "metadata": {
        "colab": {
          "base_uri": "https://localhost:8080/"
        },
        "id": "s6YHrSurLnOt",
        "outputId": "ef8a9d09-d4a2-4ea4-d959-55131130c265"
      },
      "execution_count": null,
      "outputs": [
        {
          "output_type": "execute_result",
          "data": {
            "text/plain": [
              "array(['No', 'No', 'Yes', 'Yes', 'No'], dtype='<U3')"
            ]
          },
          "metadata": {},
          "execution_count": 9
        }
      ]
    },
    {
      "cell_type": "markdown",
      "source": [
        "# Reshaping Arrays - Changing Dimensions and Size in NumPy\n",
        "\n",
        "## Introduction\n",
        "\n",
        "---\n",
        "\n",
        "## Part 1: The `reshape` Method\n",
        "    - Introduction to the `np.reshape` function for changing array dimensions.\n",
        "\n"
      ],
      "metadata": {
        "id": "JXkhfeOiUBm7"
      }
    },
    {
      "cell_type": "code",
      "source": [
        "data = np.random.randint(10, 100, 100)\n",
        "data"
      ],
      "metadata": {
        "id": "bCuGBYF5UCdz",
        "colab": {
          "base_uri": "https://localhost:8080/"
        },
        "outputId": "fb0942e2-4383-451c-b23c-33ed8447f57a"
      },
      "execution_count": null,
      "outputs": [
        {
          "output_type": "execute_result",
          "data": {
            "text/plain": [
              "array([36, 65, 25, 99, 55, 61, 84, 54, 70, 89, 80, 99, 97, 39, 72, 70, 85,\n",
              "       40, 39, 13, 54, 17, 61, 44, 33, 26, 57, 84, 40, 49, 74, 93, 82, 34,\n",
              "       63, 88, 52, 70, 18, 90, 57, 54, 61, 36, 47, 36, 73, 81, 54, 76, 52,\n",
              "       31, 88, 41, 97, 22, 26, 62, 18, 24, 61, 22, 61, 36, 10, 84, 51, 60,\n",
              "       75, 94, 93, 38, 57, 97, 69, 92, 59, 86, 23, 24, 34, 30, 41, 48, 86,\n",
              "       50, 75, 30, 57, 76, 89, 50, 54, 98, 86, 55, 97, 57, 66, 25])"
            ]
          },
          "metadata": {},
          "execution_count": 22
        }
      ]
    },
    {
      "cell_type": "code",
      "source": [
        "data = data.reshape(10, 10)\n",
        "print(data)"
      ],
      "metadata": {
        "colab": {
          "base_uri": "https://localhost:8080/"
        },
        "id": "YD1eFOrLQeSQ",
        "outputId": "461282cc-5abb-4f6c-a826-ac7f4c659b6c"
      },
      "execution_count": null,
      "outputs": [
        {
          "output_type": "stream",
          "name": "stdout",
          "text": [
            "[[36 65 25 99 55 61 84 54 70 89]\n",
            " [80 99 97 39 72 70 85 40 39 13]\n",
            " [54 17 61 44 33 26 57 84 40 49]\n",
            " [74 93 82 34 63 88 52 70 18 90]\n",
            " [57 54 61 36 47 36 73 81 54 76]\n",
            " [52 31 88 41 97 22 26 62 18 24]\n",
            " [61 22 61 36 10 84 51 60 75 94]\n",
            " [93 38 57 97 69 92 59 86 23 24]\n",
            " [34 30 41 48 86 50 75 30 57 76]\n",
            " [89 50 54 98 86 55 97 57 66 25]]\n"
          ]
        }
      ]
    },
    {
      "cell_type": "markdown",
      "source": [
        "## Part 2: Flattening Arrays\n",
        "    - Using `ravel()` and `flatten()` to convert multi-dimensional arrays to 1D arrays.\n"
      ],
      "metadata": {
        "id": "9Vgm_2F8RWu_"
      }
    },
    {
      "cell_type": "code",
      "source": [
        "data2 = np.random.randint(10, 100, 25)\n",
        "data2 = data2.reshape(5, 5)"
      ],
      "metadata": {
        "id": "Q2x7pUs7RDP_"
      },
      "execution_count": null,
      "outputs": []
    },
    {
      "cell_type": "code",
      "source": [
        "data2.shape"
      ],
      "metadata": {
        "colab": {
          "base_uri": "https://localhost:8080/"
        },
        "id": "vYr1x8C5R0fn",
        "outputId": "a49cd2bb-3a98-4a50-edb8-9a128f4d87e4"
      },
      "execution_count": null,
      "outputs": [
        {
          "output_type": "execute_result",
          "data": {
            "text/plain": [
              "(5, 5)"
            ]
          },
          "metadata": {},
          "execution_count": 7
        }
      ]
    },
    {
      "cell_type": "markdown",
      "source": [
        "`ravel` modifies the original array when a change is made. However, `flatten` doesn't do so."
      ],
      "metadata": {
        "id": "HEawJRScTgm2"
      }
    },
    {
      "cell_type": "code",
      "source": [
        "data3 = data2.flatten()\n",
        "print(data3)"
      ],
      "metadata": {
        "colab": {
          "base_uri": "https://localhost:8080/"
        },
        "id": "ryjLwqd1R153",
        "outputId": "2faf8926-5e83-4be4-8c50-88ba0aabd938"
      },
      "execution_count": null,
      "outputs": [
        {
          "output_type": "stream",
          "name": "stdout",
          "text": [
            "[87 30 93 17 61 41 69 46 19 18 20 30 13 66 57 92 86 33 18 13 29 79 48 90\n",
            " 36]\n"
          ]
        }
      ]
    },
    {
      "cell_type": "code",
      "source": [
        "data3[10] = 10000\n",
        "print(data3)\n",
        "print(data2)"
      ],
      "metadata": {
        "colab": {
          "base_uri": "https://localhost:8080/"
        },
        "id": "YgOl2KFxSzpK",
        "outputId": "381dfd4f-eccc-4d10-a3ab-54a150942f85"
      },
      "execution_count": null,
      "outputs": [
        {
          "output_type": "stream",
          "name": "stdout",
          "text": [
            "[   87    30    93    17    61    41    69    46    19    18 10000    30\n",
            "    13    66    57    92    86    33    18    13    29    79    48    90\n",
            "    36]\n",
            "[[87 30 93 17 61]\n",
            " [41 69 46 19 18]\n",
            " [20 30 13 66 57]\n",
            " [92 86 33 18 13]\n",
            " [29 79 48 90 36]]\n"
          ]
        }
      ]
    },
    {
      "cell_type": "code",
      "source": [
        "data4 = data2.ravel()\n",
        "print(data4)"
      ],
      "metadata": {
        "colab": {
          "base_uri": "https://localhost:8080/"
        },
        "id": "t7koT3zQR8Xv",
        "outputId": "a01d5bf0-5fc0-4365-abda-5c2a1285996d"
      },
      "execution_count": null,
      "outputs": [
        {
          "output_type": "stream",
          "name": "stdout",
          "text": [
            "[87 30 93 17 61 41 69 46 19 18 20 30 13 66 57 92 86 33 18 13 29 79 48 90\n",
            " 36]\n"
          ]
        }
      ]
    },
    {
      "cell_type": "code",
      "source": [
        "data4[10] = 10000\n",
        "print(data4)\n",
        "print(data2)"
      ],
      "metadata": {
        "colab": {
          "base_uri": "https://localhost:8080/"
        },
        "id": "lhjCnS3cS8wE",
        "outputId": "e7d3a28c-4794-45c1-cf6f-ea8d3f490f48"
      },
      "execution_count": null,
      "outputs": [
        {
          "output_type": "stream",
          "name": "stdout",
          "text": [
            "[   87    30    93    17    61    41    69    46    19    18 10000    30\n",
            "    13    66    57    92    86    33    18    13    29    79    48    90\n",
            "    36]\n",
            "[[   87    30    93    17    61]\n",
            " [   41    69    46    19    18]\n",
            " [10000    30    13    66    57]\n",
            " [   92    86    33    18    13]\n",
            " [   29    79    48    90    36]]\n"
          ]
        }
      ]
    },
    {
      "cell_type": "markdown",
      "source": [
        "## Part 3: Transposing Arrays\n",
        "    - Using `np.transpose` or `.T` to swap array dimensions.\n",
        "\n"
      ],
      "metadata": {
        "id": "16u7aA1zUin_"
      }
    },
    {
      "cell_type": "code",
      "source": [
        "data_T = np.random.randint(10, 100, 20).reshape(2, 10)\n",
        "print(data_T)"
      ],
      "metadata": {
        "colab": {
          "base_uri": "https://localhost:8080/"
        },
        "id": "5WhhaL63UjCe",
        "outputId": "6a2d5094-cdec-4bd8-908b-89058cf84c20"
      },
      "execution_count": null,
      "outputs": [
        {
          "output_type": "stream",
          "name": "stdout",
          "text": [
            "[[99 68 11 20 98 82 26 82 61 40]\n",
            " [29 16 86 86 91 20 95 35 22 72]]\n"
          ]
        }
      ]
    },
    {
      "cell_type": "code",
      "source": [
        "print(data_T.T)"
      ],
      "metadata": {
        "colab": {
          "base_uri": "https://localhost:8080/"
        },
        "id": "Ec90ZNiKUkyf",
        "outputId": "de5fdb7f-9230-41a8-a9c7-1aa0353be967"
      },
      "execution_count": null,
      "outputs": [
        {
          "output_type": "stream",
          "name": "stdout",
          "text": [
            "[[99 29]\n",
            " [68 16]\n",
            " [11 86]\n",
            " [20 86]\n",
            " [98 91]\n",
            " [82 20]\n",
            " [26 95]\n",
            " [82 35]\n",
            " [61 22]\n",
            " [40 72]]\n"
          ]
        }
      ]
    },
    {
      "cell_type": "markdown",
      "source": [
        "## Part 4: Resizing Arrays\n",
        "    - Using `np.resize` to change the size of an array.\n",
        "\n"
      ],
      "metadata": {
        "id": "Dy_Q1rwbVGsl"
      }
    },
    {
      "cell_type": "code",
      "source": [
        "np.resize(data_T, (5, 4))"
      ],
      "metadata": {
        "colab": {
          "base_uri": "https://localhost:8080/"
        },
        "id": "AFG6VB2_UvUG",
        "outputId": "8524ca3b-e99a-4b92-9dba-68ef5dbb2290"
      },
      "execution_count": null,
      "outputs": [
        {
          "output_type": "execute_result",
          "data": {
            "text/plain": [
              "array([[99, 68, 11, 20],\n",
              "       [98, 82, 26, 82],\n",
              "       [61, 40, 29, 16],\n",
              "       [86, 86, 91, 20],\n",
              "       [95, 35, 22, 72]])"
            ]
          },
          "metadata": {},
          "execution_count": 20
        }
      ]
    },
    {
      "cell_type": "markdown",
      "source": [
        "When the desired dimension doesn't match the no. of elements in the original array, `resize` will continue adding new values or stop adding further values based on the condition, unlike `reshape`, which shows error message in both cases."
      ],
      "metadata": {
        "id": "lNwTela7VZh2"
      }
    },
    {
      "cell_type": "code",
      "source": [
        "np.resize(data_T, (5, 6))"
      ],
      "metadata": {
        "colab": {
          "base_uri": "https://localhost:8080/"
        },
        "id": "hYnemA39Vxu8",
        "outputId": "72cd42b9-c232-4d8a-8dfc-0d38771579a3"
      },
      "execution_count": null,
      "outputs": [
        {
          "output_type": "execute_result",
          "data": {
            "text/plain": [
              "array([[99, 68, 11, 20, 98, 82],\n",
              "       [26, 82, 61, 40, 29, 16],\n",
              "       [86, 86, 91, 20, 95, 35],\n",
              "       [22, 72, 99, 68, 11, 20],\n",
              "       [98, 82, 26, 82, 61, 40]])"
            ]
          },
          "metadata": {},
          "execution_count": 21
        }
      ]
    },
    {
      "cell_type": "markdown",
      "source": [
        "\n",
        "## Part 5: Concatenating and Splitting Arrays\n",
        "    - Using `np.concatenate`, `np.vstack`, and `np.hstack` for joining arrays.\n",
        "    - Using `np.split` for breaking an array into smaller chunks.\n"
      ],
      "metadata": {
        "id": "gAtKdyGwXDk1"
      }
    },
    {
      "cell_type": "code",
      "source": [
        "data_1t = np.array([100, 1500])\n",
        "data_2t = np.array([200, 2500])"
      ],
      "metadata": {
        "id": "unScFRFvXG2l"
      },
      "execution_count": null,
      "outputs": []
    },
    {
      "cell_type": "code",
      "source": [
        "np.concatenate((data_1t, data_2t))"
      ],
      "metadata": {
        "colab": {
          "base_uri": "https://localhost:8080/"
        },
        "id": "OTBR80jNXK_C",
        "outputId": "d8de115a-a164-42a3-eacd-86e146735ede"
      },
      "execution_count": null,
      "outputs": [
        {
          "output_type": "execute_result",
          "data": {
            "text/plain": [
              "array([ 100, 1500,  200, 2500])"
            ]
          },
          "metadata": {},
          "execution_count": 25
        }
      ]
    },
    {
      "cell_type": "code",
      "source": [
        "np.vstack((data_1t, data_2t)) # vstack means vertical stack"
      ],
      "metadata": {
        "colab": {
          "base_uri": "https://localhost:8080/"
        },
        "id": "QOVoli30XMVl",
        "outputId": "834f11d5-f077-4a71-ac81-7a46374cdfae"
      },
      "execution_count": null,
      "outputs": [
        {
          "output_type": "execute_result",
          "data": {
            "text/plain": [
              "array([[ 100, 1500],\n",
              "       [ 200, 2500]])"
            ]
          },
          "metadata": {},
          "execution_count": 27
        }
      ]
    },
    {
      "cell_type": "code",
      "source": [
        "np.hstack((data_1t, data_2t)) # hstack means horizontal stack\n"
      ],
      "metadata": {
        "colab": {
          "base_uri": "https://localhost:8080/"
        },
        "id": "IpckIjhCXd9e",
        "outputId": "9533b1d6-597c-4a8d-8fb2-e62bb62275c7"
      },
      "execution_count": null,
      "outputs": [
        {
          "output_type": "execute_result",
          "data": {
            "text/plain": [
              "array([ 100, 1500,  200, 2500])"
            ]
          },
          "metadata": {},
          "execution_count": 28
        }
      ]
    },
    {
      "cell_type": "markdown",
      "source": [
        "# Handling Missing Values Using NumPy\n",
        "\n",
        "## Introduction\n",
        "\n",
        "\n",
        "## Part 1: Understanding Missing Values\n",
        "    - Types of missing values: completely missing, partially missing, or incorrectly entered.\n",
        "    - Common reasons for missing values: data entry errors, unavailability of information, etc.\n"
      ],
      "metadata": {
        "id": "GUVkcZLLYEsN"
      }
    },
    {
      "cell_type": "code",
      "source": [
        "customer_data = np.array([100, 150, np.nan, 200, 175])"
      ],
      "metadata": {
        "id": "itgiH11pXoOu"
      },
      "execution_count": null,
      "outputs": []
    },
    {
      "cell_type": "markdown",
      "source": [
        "## Part 2: Identifying Missing Values in NumPy\n",
        "    - Using `np.isnan()` to identify missing values.\n",
        "    - Counting the number of missing values in an array.\n",
        "\n"
      ],
      "metadata": {
        "id": "s5KtyJcWY7wV"
      }
    },
    {
      "cell_type": "code",
      "source": [
        "missing_values = np.isnan(customer_data)\n",
        "missing_values"
      ],
      "metadata": {
        "colab": {
          "base_uri": "https://localhost:8080/"
        },
        "id": "9RxbORN0Y4j2",
        "outputId": "3da1f1b1-d5f4-493c-a419-22216379987b"
      },
      "execution_count": null,
      "outputs": [
        {
          "output_type": "execute_result",
          "data": {
            "text/plain": [
              "array([False, False,  True, False, False])"
            ]
          },
          "metadata": {},
          "execution_count": 33
        }
      ]
    },
    {
      "cell_type": "code",
      "source": [
        "print(\"We have this many missing values: \", np.sum(missing_values)) # np.sum here counts the no. of true values"
      ],
      "metadata": {
        "colab": {
          "base_uri": "https://localhost:8080/"
        },
        "id": "fe6Juv6FY_8m",
        "outputId": "bde37a5a-24ab-4646-9906-2f306a9d61b7"
      },
      "execution_count": null,
      "outputs": [
        {
          "output_type": "stream",
          "name": "stdout",
          "text": [
            "We have this many missing values:  1\n"
          ]
        }
      ]
    },
    {
      "cell_type": "markdown",
      "source": [
        "## Part 3: Replacing Missing Values\n",
        "    - Using `np.nan_to_num()` to replace missing values with zero.\n",
        "    - Replacing missing values with mean, median, or a specific value using `np.nanmean()` and `np.nanmedian()`.\n",
        "\n"
      ],
      "metadata": {
        "id": "KzAQpjobZrm1"
      }
    },
    {
      "cell_type": "code",
      "source": [
        "zero_filled = np.nan_to_num(customer_data)\n",
        "zero_filled"
      ],
      "metadata": {
        "colab": {
          "base_uri": "https://localhost:8080/"
        },
        "id": "UvCI3AhOZanm",
        "outputId": "99422343-ea5a-4f25-cc4e-2f5d03e5f082"
      },
      "execution_count": null,
      "outputs": [
        {
          "output_type": "execute_result",
          "data": {
            "text/plain": [
              "array([100., 150.,   0., 200., 175.])"
            ]
          },
          "metadata": {},
          "execution_count": 34
        }
      ]
    },
    {
      "cell_type": "code",
      "source": [
        "mean_data = np.nanmean(customer_data)\n",
        "mean_data"
      ],
      "metadata": {
        "colab": {
          "base_uri": "https://localhost:8080/"
        },
        "id": "fsccZ6ZqZwxN",
        "outputId": "f86867a1-be5f-4f57-a42e-09dfece5480a"
      },
      "execution_count": null,
      "outputs": [
        {
          "output_type": "execute_result",
          "data": {
            "text/plain": [
              "156.25"
            ]
          },
          "metadata": {},
          "execution_count": 35
        }
      ]
    },
    {
      "cell_type": "code",
      "source": [
        "data_mean_filled = np.where(np.isnan(customer_data), mean_data, customer_data) # to replace the nan values with the mean of the data\n",
        "data_mean_filled"
      ],
      "metadata": {
        "colab": {
          "base_uri": "https://localhost:8080/"
        },
        "id": "zJomqlbjiDzs",
        "outputId": "c5263ce1-de00-4eba-cb18-ff3d75c3594a"
      },
      "execution_count": null,
      "outputs": [
        {
          "output_type": "execute_result",
          "data": {
            "text/plain": [
              "array([100.  , 150.  , 156.25, 200.  , 175.  ])"
            ]
          },
          "metadata": {},
          "execution_count": 36
        }
      ]
    },
    {
      "cell_type": "markdown",
      "source": [
        "## Part 4: Deleting Missing Values\n",
        "    - Deleting rows with missing values using `np.isnan()` and array slicing.\n",
        "    - When to delete data: caution about losing information.\n",
        "\n"
      ],
      "metadata": {
        "id": "rFK_0jcjit_U"
      }
    },
    {
      "cell_type": "code",
      "source": [
        "data_without_nan = customer_data[~np.isnan(customer_data)]\n",
        "data_without_nan"
      ],
      "metadata": {
        "colab": {
          "base_uri": "https://localhost:8080/"
        },
        "id": "L2DVVFXGiPlc",
        "outputId": "c8f35270-2242-4200-8593-d2b0b4fb7b08"
      },
      "execution_count": null,
      "outputs": [
        {
          "output_type": "execute_result",
          "data": {
            "text/plain": [
              "array([100., 150., 200., 175.])"
            ]
          },
          "metadata": {},
          "execution_count": 37
        }
      ]
    },
    {
      "cell_type": "markdown",
      "source": [
        "## Part 5: Forward and Backward Filling of Missing Values\n",
        "    - Using methods to fill missing values based on neighboring elements."
      ],
      "metadata": {
        "id": "JXdW2vHjjecL"
      }
    },
    {
      "cell_type": "code",
      "source": [
        "# creating a copy of the given data not to modify the original one\n",
        "copy_of_cd = np.copy(customer_data)\n",
        "copy_of_cd"
      ],
      "metadata": {
        "colab": {
          "base_uri": "https://localhost:8080/"
        },
        "id": "a0YgX-KAje46",
        "outputId": "e927cb74-884d-442e-a34c-f1bd7af0b27c"
      },
      "execution_count": null,
      "outputs": [
        {
          "output_type": "execute_result",
          "data": {
            "text/plain": [
              "array([100., 150.,  nan, 200., 175.])"
            ]
          },
          "metadata": {},
          "execution_count": 42
        }
      ]
    },
    {
      "cell_type": "code",
      "source": [
        "# finding the indices of the nan values\n",
        "mask = np.isnan(copy_of_cd)\n",
        "mask"
      ],
      "metadata": {
        "colab": {
          "base_uri": "https://localhost:8080/"
        },
        "id": "0iPIKj39j8i7",
        "outputId": "92091fb7-790d-4c22-f462-9c84c121f038"
      },
      "execution_count": null,
      "outputs": [
        {
          "output_type": "execute_result",
          "data": {
            "text/plain": [
              "array([False, False,  True, False, False])"
            ]
          },
          "metadata": {},
          "execution_count": 43
        }
      ]
    },
    {
      "cell_type": "code",
      "source": [
        "# shifting each of the data\n",
        "np.roll(copy_of_cd, shift=-1)"
      ],
      "metadata": {
        "colab": {
          "base_uri": "https://localhost:8080/"
        },
        "id": "FGmDbSu5jp0L",
        "outputId": "b0c7c3f8-6df0-41c6-a9ba-685f5ae3538b"
      },
      "execution_count": null,
      "outputs": [
        {
          "output_type": "execute_result",
          "data": {
            "text/plain": [
              "array([150.,  nan, 200., 175., 100.])"
            ]
          },
          "metadata": {},
          "execution_count": 48
        }
      ]
    },
    {
      "cell_type": "code",
      "source": [
        "np.roll(copy_of_cd, shift=-1)[mask]"
      ],
      "metadata": {
        "colab": {
          "base_uri": "https://localhost:8080/"
        },
        "id": "DGm6tCltjrVU",
        "outputId": "7c0e7c62-86f6-41b5-890d-1ed4f0861b8b"
      },
      "execution_count": null,
      "outputs": [
        {
          "output_type": "execute_result",
          "data": {
            "text/plain": [
              "array([200.])"
            ]
          },
          "metadata": {},
          "execution_count": 46
        }
      ]
    },
    {
      "cell_type": "code",
      "source": [
        "# replacing the nan value with its neighborhood value\n",
        "copy_of_cd[mask] = np.roll(copy_of_cd, shift=-1)[mask]\n",
        "copy_of_cd"
      ],
      "metadata": {
        "colab": {
          "base_uri": "https://localhost:8080/"
        },
        "id": "lYUjH3LwkP0D",
        "outputId": "e043a358-b417-4b31-a733-6e24954a6ffc"
      },
      "execution_count": null,
      "outputs": [
        {
          "output_type": "execute_result",
          "data": {
            "text/plain": [
              "array([100., 150., 200., 200., 175.])"
            ]
          },
          "metadata": {},
          "execution_count": 50
        }
      ]
    },
    {
      "cell_type": "markdown",
      "source": [
        "# File Handling - Saving and Loading NumPy Arrays\n",
        "\n",
        "## Introduction\n",
        "\n",
        "\n",
        "---\n",
        "\n",
        "## Part 1: Saving Arrays with `np.save` and `np.savez`\n",
        "    - Introduction to the `np.save` function for saving single arrays.\n",
        "    - Use of `np.savez` for saving multiple arrays.\n",
        "\n",
        "\n",
        "\n",
        "\n",
        "\n",
        "\n"
      ],
      "metadata": {
        "id": "lIZq-O3fnhlE"
      }
    },
    {
      "cell_type": "code",
      "source": [
        "age = np.array([18, 25, 33, 44, 22, 45])"
      ],
      "metadata": {
        "id": "Of3wllhhlxSU"
      },
      "execution_count": null,
      "outputs": []
    },
    {
      "cell_type": "code",
      "source": [
        "np.save(\"age.npy\",age) # this will save the \"age\" array in the \"files\" section (find on the sidebar) under the name \"age.npy\""
      ],
      "metadata": {
        "id": "J_qpG34DcDHF"
      },
      "execution_count": null,
      "outputs": []
    },
    {
      "cell_type": "markdown",
      "source": [
        "## Part 2: Loading Arrays with `np.load`\n",
        "    - Using the `np.load` function to load saved arrays.\n",
        "\n"
      ],
      "metadata": {
        "id": "A3DUjKvcdPRZ"
      }
    },
    {
      "cell_type": "code",
      "source": [
        "loaded_age = np.load(\"age.npy\")"
      ],
      "metadata": {
        "id": "42ODIyhbccs9"
      },
      "execution_count": null,
      "outputs": []
    },
    {
      "cell_type": "code",
      "source": [
        "loaded_age"
      ],
      "metadata": {
        "colab": {
          "base_uri": "https://localhost:8080/"
        },
        "id": "LmnxvD0EdUrD",
        "outputId": "49a4c9a3-6d1f-42fb-d2b9-30bdb1ac98c9"
      },
      "execution_count": null,
      "outputs": [
        {
          "output_type": "execute_result",
          "data": {
            "text/plain": [
              "array([18, 25, 33, 44, 22, 45])"
            ]
          },
          "metadata": {},
          "execution_count": 8
        }
      ]
    },
    {
      "cell_type": "markdown",
      "source": [
        "## Part 3: Saving Text Files with `np.savetxt`\n",
        "    - Introduction to `np.savetxt` for saving arrays as text files."
      ],
      "metadata": {
        "id": "H2KUVo40dxNs"
      }
    },
    {
      "cell_type": "code",
      "source": [
        "np.savetxt(\"age.txt\", loaded_age, delimiter=\",\") # save the \"loaded_age\" array under a text file named \"age.txt\""
      ],
      "metadata": {
        "id": "HlVZHVagdzmd"
      },
      "execution_count": null,
      "outputs": []
    },
    {
      "cell_type": "markdown",
      "source": [
        "## Part 4: Loading Text Files with `np.loadtxt`\n",
        "    - Using `np.loadtxt` to read text files and create arrays.\n",
        "\n"
      ],
      "metadata": {
        "id": "84W2aMi1j_rG"
      }
    },
    {
      "cell_type": "code",
      "source": [
        "new_age = np.loadtxt(\"age.txt\", delimiter=\",\")\n",
        "new_age"
      ],
      "metadata": {
        "id": "bT2hNseneEnd",
        "colab": {
          "base_uri": "https://localhost:8080/"
        },
        "outputId": "79aa724f-aff0-4fbb-e037-cc1d150b12cb"
      },
      "execution_count": 11,
      "outputs": [
        {
          "output_type": "execute_result",
          "data": {
            "text/plain": [
              "array([18., 25., 33., 44., 22., 45.])"
            ]
          },
          "metadata": {},
          "execution_count": 11
        }
      ]
    },
    {
      "cell_type": "markdown",
      "source": [
        "\n",
        "## Part 5: Additional Options and Parameters\n",
        "    - Discussion of additional parameters like `delimiter`, `skiprows`, and `usecols`.\n",
        "\n",
        "\"skiprows\" determines how many elements from the beginning you'll skip"
      ],
      "metadata": {
        "id": "NBj7sZHokfwN"
      }
    },
    {
      "cell_type": "code",
      "source": [
        "new_age = np.loadtxt(\"age.txt\", delimiter=\",\", skiprows=1) # skip the first element\n",
        "new_age"
      ],
      "metadata": {
        "colab": {
          "base_uri": "https://localhost:8080/"
        },
        "id": "sXCrUw7wkgL9",
        "outputId": "e56503f3-ceba-443f-def9-d7b57a7c5878"
      },
      "execution_count": 29,
      "outputs": [
        {
          "output_type": "execute_result",
          "data": {
            "text/plain": [
              "array([25., 33., 44., 22., 45.])"
            ]
          },
          "metadata": {},
          "execution_count": 29
        }
      ]
    },
    {
      "cell_type": "code",
      "source": [
        "new_age = np.loadtxt(\"age.txt\", delimiter=\",\", skiprows=2) # skip the first two elements\n",
        "new_age"
      ],
      "metadata": {
        "colab": {
          "base_uri": "https://localhost:8080/"
        },
        "id": "jlBzs4JvlCcs",
        "outputId": "3a1c19e3-7af4-4055-ed57-45145c1eb86a"
      },
      "execution_count": 28,
      "outputs": [
        {
          "output_type": "execute_result",
          "data": {
            "text/plain": [
              "array([33., 44., 22., 45.])"
            ]
          },
          "metadata": {},
          "execution_count": 28
        }
      ]
    }
  ]
}