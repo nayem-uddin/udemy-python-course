{
  "nbformat": 4,
  "nbformat_minor": 0,
  "metadata": {
    "colab": {
      "provenance": [],
      "authorship_tag": "ABX9TyMrR7JjoHrR9v3FYTNb8XZy",
      "include_colab_link": true
    },
    "kernelspec": {
      "name": "python3",
      "display_name": "Python 3"
    },
    "language_info": {
      "name": "python"
    }
  },
  "cells": [
    {
      "cell_type": "markdown",
      "metadata": {
        "id": "view-in-github",
        "colab_type": "text"
      },
      "source": [
        "<a href=\"https://colab.research.google.com/github/nayem-uddin/udemy-python-course/blob/main/Level4.ipynb\" target=\"_parent\"><img src=\"https://colab.research.google.com/assets/colab-badge.svg\" alt=\"Open In Colab\"/></a>"
      ]
    },
    {
      "cell_type": "markdown",
      "source": [
        "# **Functions**"
      ],
      "metadata": {
        "id": "oOyJF2EXUp51"
      }
    },
    {
      "cell_type": "markdown",
      "source": [
        "## **Some Other Built-in Functions**"
      ],
      "metadata": {
        "id": "rIVm0j9Re2Eo"
      }
    },
    {
      "cell_type": "code",
      "execution_count": null,
      "metadata": {
        "colab": {
          "base_uri": "https://localhost:8080/"
        },
        "id": "KWmIDjX3T4fG",
        "outputId": "21078b13-e66e-44e9-9d69-1854f70fd49a"
      },
      "outputs": [
        {
          "output_type": "stream",
          "name": "stdout",
          "text": [
            "1\n"
          ]
        }
      ],
      "source": [
        "a = 1\n",
        "b = 2\n",
        "c = 3\n",
        "minimum_value =  min(1,2,3)\n",
        "print(minimum_value)"
      ]
    },
    {
      "cell_type": "code",
      "source": [
        "x,y,z = 1,2,3\n",
        "print(max(x,y,z))"
      ],
      "metadata": {
        "colab": {
          "base_uri": "https://localhost:8080/"
        },
        "id": "i4DCO-ilVdZt",
        "outputId": "041d8e1b-f7f9-4b4d-d2d1-186a8303a0d9"
      },
      "execution_count": null,
      "outputs": [
        {
          "output_type": "stream",
          "name": "stdout",
          "text": [
            "3\n"
          ]
        }
      ]
    },
    {
      "cell_type": "code",
      "source": [
        "a = -7.6\n",
        "print(abs(a))\n",
        "print(round(a))"
      ],
      "metadata": {
        "colab": {
          "base_uri": "https://localhost:8080/"
        },
        "id": "_La-qPlTV7rS",
        "outputId": "c8bc2ca0-422b-4cbd-ea54-1dcbc46d38fb"
      },
      "execution_count": null,
      "outputs": [
        {
          "output_type": "stream",
          "name": "stdout",
          "text": [
            "7.6\n",
            "-8\n"
          ]
        }
      ]
    },
    {
      "cell_type": "markdown",
      "source": [
        "#### **Exercise 4.1**"
      ],
      "metadata": {
        "id": "AgZSyeiOWitM"
      }
    },
    {
      "cell_type": "code",
      "source": [
        "ahsoka = 1.70\n",
        "yoda = 0.66\n",
        "r2d2 = 1.09\n",
        "average_height = (ahsoka+yoda+r2d2)/3\n",
        "maximum_height = max(ahsoka,yoda,r2d2)\n",
        "minimum_height = min(ahsoka,yoda,r2d2)\n",
        "print(\"The average height is \"+str(average_height)+\". The maximum height is \"+str(maximum_height)+\". The minimum height is \"+str(minimum_height)+\".\")"
      ],
      "metadata": {
        "colab": {
          "base_uri": "https://localhost:8080/"
        },
        "id": "klJs2x0fWmbw",
        "outputId": "1128b67f-9524-4c93-d9f9-d439ef57880b"
      },
      "execution_count": null,
      "outputs": [
        {
          "output_type": "stream",
          "name": "stdout",
          "text": [
            "The average height is 1.1500000000000001. The maximum height is 1.7. The minimum height is 0.66.\n"
          ]
        }
      ]
    },
    {
      "cell_type": "code",
      "source": [
        "name = input('What is your name? ')\n"
      ],
      "metadata": {
        "colab": {
          "base_uri": "https://localhost:8080/"
        },
        "id": "5_CPVF-4ZN8P",
        "outputId": "17c54d0e-dde0-4c73-94ff-d8a02266f918"
      },
      "execution_count": null,
      "outputs": [
        {
          "name": "stdout",
          "output_type": "stream",
          "text": [
            "What is your name? Nayem\n"
          ]
        }
      ]
    },
    {
      "cell_type": "code",
      "source": [
        "print(\"Your name is \"+name)"
      ],
      "metadata": {
        "colab": {
          "base_uri": "https://localhost:8080/"
        },
        "id": "4YnKsaFGZcu0",
        "outputId": "75459665-1769-43d2-99c0-768eb3b551c8"
      },
      "execution_count": null,
      "outputs": [
        {
          "output_type": "stream",
          "name": "stdout",
          "text": [
            "Your name is Nayem\n"
          ]
        }
      ]
    },
    {
      "cell_type": "code",
      "source": [
        "name = input('What is your name? ')\n",
        "height = input('What is your height? ')\n",
        "age = input('What is your age? ')\n",
        "print(\"Your name, height, and age is \"+name+', '+height+', and '+age+', respectively')\n"
      ],
      "metadata": {
        "colab": {
          "base_uri": "https://localhost:8080/"
        },
        "id": "OYhxQUIxahXO",
        "outputId": "193a625e-64cc-433f-b689-1e598657c20d"
      },
      "execution_count": null,
      "outputs": [
        {
          "output_type": "stream",
          "name": "stdout",
          "text": [
            "What is your name? Yoda\n",
            "What is your height? 0.66 m\n",
            "What is your age? 900 years\n",
            "Your name, height, and age is Yoda, 0.66 m, and 900 years, respectively\n"
          ]
        }
      ]
    },
    {
      "cell_type": "markdown",
      "source": [
        "\"input\" function takes string input, so no problem with using '+' with \"height\" and \"age\" varibles here, though we may assume that these are numeric variables."
      ],
      "metadata": {
        "id": "jr8VqhvrcbMu"
      }
    },
    {
      "cell_type": "markdown",
      "source": [
        "#### **Exercise 4.2**"
      ],
      "metadata": {
        "id": "7XKHAFZ2b1Ib"
      }
    },
    {
      "cell_type": "code",
      "source": [
        "name = input(\"What is your name? \")\n",
        "age = input(\"What is your age? \")\n",
        "print(\"Your name is \"+name+\". Your age is \"+age+'.')"
      ],
      "metadata": {
        "colab": {
          "base_uri": "https://localhost:8080/"
        },
        "id": "q5CTQtbZb55r",
        "outputId": "14fec273-2eb6-4c12-abec-f07d0ebf6c68"
      },
      "execution_count": null,
      "outputs": [
        {
          "output_type": "stream",
          "name": "stdout",
          "text": [
            "What is your name? Pial\n",
            "What is your age? 23\n",
            "Your name is Pial. Your age is 23.\n"
          ]
        }
      ]
    },
    {
      "cell_type": "markdown",
      "source": [
        "To render the input of a variable integer (say), we can use \"int\" around the \"input\" function like the following example."
      ],
      "metadata": {
        "id": "Q9y6S4Lfdoqh"
      }
    },
    {
      "cell_type": "code",
      "source": [
        "age = int(input(\"Enter your age: \"))"
      ],
      "metadata": {
        "colab": {
          "base_uri": "https://localhost:8080/"
        },
        "id": "V_x-6VQpeGwI",
        "outputId": "4f36a0f1-becd-4097-c2aa-897ba82681b6"
      },
      "execution_count": null,
      "outputs": [
        {
          "name": "stdout",
          "output_type": "stream",
          "text": [
            "Enter your age: 24\n"
          ]
        }
      ]
    },
    {
      "cell_type": "code",
      "source": [
        "type(age) # to check if we've done the thing right"
      ],
      "metadata": {
        "colab": {
          "base_uri": "https://localhost:8080/"
        },
        "id": "hsTl_3O6eZz7",
        "outputId": "ff05b7aa-632a-40c0-bb42-510ab993e687"
      },
      "execution_count": null,
      "outputs": [
        {
          "output_type": "execute_result",
          "data": {
            "text/plain": [
              "int"
            ]
          },
          "metadata": {},
          "execution_count": 21
        }
      ]
    }
  ]
}