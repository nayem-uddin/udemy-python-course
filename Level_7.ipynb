{
  "nbformat": 4,
  "nbformat_minor": 0,
  "metadata": {
    "colab": {
      "provenance": [],
      "authorship_tag": "ABX9TyOgyaKWhq+B6V2yYddY6v+S",
      "include_colab_link": true
    },
    "kernelspec": {
      "name": "python3",
      "display_name": "Python 3"
    },
    "language_info": {
      "name": "python"
    }
  },
  "cells": [
    {
      "cell_type": "markdown",
      "metadata": {
        "id": "view-in-github",
        "colab_type": "text"
      },
      "source": [
        "<a href=\"https://colab.research.google.com/github/nayem-uddin/udemy-python-course/blob/main/Level_7.ipynb\" target=\"_parent\"><img src=\"https://colab.research.google.com/assets/colab-badge.svg\" alt=\"Open In Colab\"/></a>"
      ]
    },
    {
      "cell_type": "markdown",
      "source": [
        "## **Tuples**"
      ],
      "metadata": {
        "id": "MCIPqGHa2IAV"
      }
    },
    {
      "cell_type": "markdown",
      "source": [
        "Contrary to list, the elements of a tuple can't be changed."
      ],
      "metadata": {
        "id": "JJCXhGl-2rs9"
      }
    },
    {
      "cell_type": "code",
      "execution_count": null,
      "metadata": {
        "id": "1qllVIoHol_P"
      },
      "outputs": [],
      "source": [
        "tuple1=(1,2,3,4)"
      ]
    },
    {
      "cell_type": "code",
      "source": [
        "tuple1"
      ],
      "metadata": {
        "colab": {
          "base_uri": "https://localhost:8080/"
        },
        "id": "_MqKo4-321XM",
        "outputId": "73a3ecb9-d303-4a23-973a-f75dfc685bf4"
      },
      "execution_count": null,
      "outputs": [
        {
          "output_type": "execute_result",
          "data": {
            "text/plain": [
              "(1, 2, 3, 4)"
            ]
          },
          "metadata": {},
          "execution_count": 2
        }
      ]
    },
    {
      "cell_type": "code",
      "source": [
        "tuple1[0]=5"
      ],
      "metadata": {
        "colab": {
          "base_uri": "https://localhost:8080/",
          "height": 141
        },
        "id": "Zsyqi0-u22xM",
        "outputId": "fc915873-25f9-4ff4-d74d-993bdfcc3c66"
      },
      "execution_count": null,
      "outputs": [
        {
          "output_type": "error",
          "ename": "TypeError",
          "evalue": "'tuple' object does not support item assignment",
          "traceback": [
            "\u001b[0;31m---------------------------------------------------------------------------\u001b[0m",
            "\u001b[0;31mTypeError\u001b[0m                                 Traceback (most recent call last)",
            "\u001b[0;32m<ipython-input-3-fc4f18bf36df>\u001b[0m in \u001b[0;36m<cell line: 1>\u001b[0;34m()\u001b[0m\n\u001b[0;32m----> 1\u001b[0;31m \u001b[0mtuple1\u001b[0m\u001b[0;34m[\u001b[0m\u001b[0;36m0\u001b[0m\u001b[0;34m]\u001b[0m\u001b[0;34m=\u001b[0m\u001b[0;36m5\u001b[0m\u001b[0;34m\u001b[0m\u001b[0;34m\u001b[0m\u001b[0m\n\u001b[0m",
            "\u001b[0;31mTypeError\u001b[0m: 'tuple' object does not support item assignment"
          ]
        }
      ]
    },
    {
      "cell_type": "code",
      "source": [
        "tuple1.count(1) #to count the number of an item in a tuple"
      ],
      "metadata": {
        "colab": {
          "base_uri": "https://localhost:8080/"
        },
        "id": "Me5AnmuB26WU",
        "outputId": "dd5fbb60-d8e9-4bc9-ff95-dff8f58c18db"
      },
      "execution_count": null,
      "outputs": [
        {
          "output_type": "execute_result",
          "data": {
            "text/plain": [
              "1"
            ]
          },
          "metadata": {},
          "execution_count": 4
        }
      ]
    },
    {
      "cell_type": "markdown",
      "source": [
        "Tuples can contain multiple data types."
      ],
      "metadata": {
        "id": "m_zPn-m53wV9"
      }
    },
    {
      "cell_type": "code",
      "source": [
        "tuple2=(\"Pial\",1831014)"
      ],
      "metadata": {
        "id": "eOcgFQxs3zoD"
      },
      "execution_count": null,
      "outputs": []
    },
    {
      "cell_type": "markdown",
      "source": [
        "Tuple is iterable."
      ],
      "metadata": {
        "id": "dvIBrK0g4AlD"
      }
    },
    {
      "cell_type": "code",
      "source": [
        "for i in tuple2:\n",
        "    print(i)"
      ],
      "metadata": {
        "colab": {
          "base_uri": "https://localhost:8080/"
        },
        "id": "asuSb-J-3728",
        "outputId": "f59a9c25-eeae-4449-9134-2a550077b434"
      },
      "execution_count": null,
      "outputs": [
        {
          "output_type": "stream",
          "name": "stdout",
          "text": [
            "Pial\n",
            "1831014\n"
          ]
        }
      ]
    },
    {
      "cell_type": "markdown",
      "source": [
        "####  **Exercise 7.1**"
      ],
      "metadata": {
        "id": "DRLt9JD74Uyc"
      }
    },
    {
      "cell_type": "code",
      "source": [
        "starting_tuple=(\"Yoda\",\"Han Solo\",\"R2D2\",\"C3PO\")"
      ],
      "metadata": {
        "id": "MbarWv-p4DuT"
      },
      "execution_count": null,
      "outputs": []
    },
    {
      "cell_type": "code",
      "source": [
        "converted_list=list(starting_tuple)\n",
        "converted_list.append(\"Darth Vader\")\n",
        "final_tuple=tuple(converted_list)"
      ],
      "metadata": {
        "id": "VtQT9h3k49VM"
      },
      "execution_count": null,
      "outputs": []
    },
    {
      "cell_type": "code",
      "source": [
        "final_tuple"
      ],
      "metadata": {
        "colab": {
          "base_uri": "https://localhost:8080/"
        },
        "id": "quLkMYfh5JML",
        "outputId": "e3e0aa1b-0cd7-460f-e131-fe0e3f6501f0"
      },
      "execution_count": null,
      "outputs": [
        {
          "output_type": "execute_result",
          "data": {
            "text/plain": [
              "('Yoda', 'Han Solo', 'R2D2', 'C3PO', 'Darth Vader')"
            ]
          },
          "metadata": {},
          "execution_count": 11
        }
      ]
    },
    {
      "cell_type": "markdown",
      "source": [
        "## **Dictionaries**"
      ],
      "metadata": {
        "id": "WGghzK766Ilr"
      }
    },
    {
      "cell_type": "code",
      "source": [
        "basic_dict={0:1,1:2,2:3} #key:value"
      ],
      "metadata": {
        "id": "nUYIFu3H6Lh6"
      },
      "execution_count": null,
      "outputs": []
    },
    {
      "cell_type": "markdown",
      "source": [
        "instead of \"index\" used in lists, we use \"key\" in dictionaries to access an element, which is called \"value\" in the context of a dictionary."
      ],
      "metadata": {
        "id": "0DN230oh6-jK"
      }
    },
    {
      "cell_type": "code",
      "source": [
        "basic_dict[0]"
      ],
      "metadata": {
        "colab": {
          "base_uri": "https://localhost:8080/"
        },
        "id": "Q9E45hID65dh",
        "outputId": "6ae944d2-4bd1-47f5-fd09-9d797d074202"
      },
      "execution_count": null,
      "outputs": [
        {
          "output_type": "execute_result",
          "data": {
            "text/plain": [
              "1"
            ]
          },
          "metadata": {},
          "execution_count": 14
        }
      ]
    },
    {
      "cell_type": "markdown",
      "source": [
        "We can use any kind of data as keys and values."
      ],
      "metadata": {
        "id": "bBmwoyet8Q4i"
      }
    },
    {
      "cell_type": "code",
      "source": [
        "basic_dict1={\"0\":1,\"1\":2,\"2\":3,3:\"4\"}"
      ],
      "metadata": {
        "id": "IOt5U-QO8F3r"
      },
      "execution_count": 20,
      "outputs": []
    },
    {
      "cell_type": "code",
      "source": [
        "basic_dict1[\"0\"]"
      ],
      "metadata": {
        "colab": {
          "base_uri": "https://localhost:8080/"
        },
        "id": "Z-clfBS58LSa",
        "outputId": "d56d31e1-c821-41b5-b53f-e0fe516894ea"
      },
      "execution_count": 3,
      "outputs": [
        {
          "output_type": "execute_result",
          "data": {
            "text/plain": [
              "1"
            ]
          },
          "metadata": {},
          "execution_count": 3
        }
      ]
    },
    {
      "cell_type": "code",
      "source": [
        "basic_dict1[3]"
      ],
      "metadata": {
        "colab": {
          "base_uri": "https://localhost:8080/",
          "height": 35
        },
        "id": "rmBnuWBX9I2R",
        "outputId": "fcd717c6-cb5e-4962-e636-ad985bbee674"
      },
      "execution_count": 4,
      "outputs": [
        {
          "output_type": "execute_result",
          "data": {
            "text/plain": [
              "'4'"
            ],
            "application/vnd.google.colaboratory.intrinsic+json": {
              "type": "string"
            }
          },
          "metadata": {},
          "execution_count": 4
        }
      ]
    },
    {
      "cell_type": "markdown",
      "source": [
        "We can modify the dictionaries."
      ],
      "metadata": {
        "id": "yC4N7Kco3xa8"
      }
    },
    {
      "cell_type": "code",
      "source": [
        "basic_dict1[2]=0\n",
        "basic_dict1"
      ],
      "metadata": {
        "colab": {
          "base_uri": "https://localhost:8080/"
        },
        "id": "A6Cc_0dC3SV8",
        "outputId": "1c4154c7-8661-4e69-a283-cd964c3ee464"
      },
      "execution_count": 6,
      "outputs": [
        {
          "output_type": "execute_result",
          "data": {
            "text/plain": [
              "{'0': 1, '1': 2, '2': 3, 3: '4', 2: 0}"
            ]
          },
          "metadata": {},
          "execution_count": 6
        }
      ]
    },
    {
      "cell_type": "markdown",
      "source": [
        "Instead of using square brackets, we can use \"get\" method."
      ],
      "metadata": {
        "id": "ltp7dXN15rvL"
      }
    },
    {
      "cell_type": "code",
      "source": [
        "basic_dict1.get(\"0\") # this is similar to basic_dict1[\"0\"]"
      ],
      "metadata": {
        "colab": {
          "base_uri": "https://localhost:8080/"
        },
        "id": "7EGEBXgv5yIp",
        "outputId": "7ff65b45-da1e-40b3-d969-704fc0693fd3"
      },
      "execution_count": 7,
      "outputs": [
        {
          "output_type": "execute_result",
          "data": {
            "text/plain": [
              "1"
            ]
          },
          "metadata": {},
          "execution_count": 7
        }
      ]
    },
    {
      "cell_type": "markdown",
      "source": [
        "Using \"items\" method shows the dictionary elements in a tuple, with the represention of the key-value pairs as tuples."
      ],
      "metadata": {
        "id": "xaRuss0c6Pt6"
      }
    },
    {
      "cell_type": "code",
      "source": [
        "basic_dict1.items()"
      ],
      "metadata": {
        "colab": {
          "base_uri": "https://localhost:8080/"
        },
        "id": "_ojN9-Ca6WY6",
        "outputId": "7ce842db-009e-460c-aa45-39c7f27bbcba"
      },
      "execution_count": 8,
      "outputs": [
        {
          "output_type": "execute_result",
          "data": {
            "text/plain": [
              "dict_items([('0', 1), ('1', 2), ('2', 3), (3, '4'), (2, 0)])"
            ]
          },
          "metadata": {},
          "execution_count": 8
        }
      ]
    },
    {
      "cell_type": "markdown",
      "source": [
        "The \"keys\" method shows the keys in the dictionary."
      ],
      "metadata": {
        "id": "cW4FCJCL6tjC"
      }
    },
    {
      "cell_type": "code",
      "source": [
        "basic_dict1.keys()"
      ],
      "metadata": {
        "colab": {
          "base_uri": "https://localhost:8080/"
        },
        "id": "-sUjuthn6z6Z",
        "outputId": "0d5a6512-9089-4e7c-a85a-cbcf0afd75c8"
      },
      "execution_count": 14,
      "outputs": [
        {
          "output_type": "execute_result",
          "data": {
            "text/plain": [
              "dict_keys(['0', '1', '2', 3])"
            ]
          },
          "metadata": {},
          "execution_count": 14
        }
      ]
    },
    {
      "cell_type": "markdown",
      "source": [
        "If we want to see the keys of a sub-dictionary, we should use its corresponding key with the \"keys\" method as follows."
      ],
      "metadata": {
        "id": "lt1IW-xH7PAZ"
      }
    },
    {
      "cell_type": "code",
      "source": [
        "# the following cell is the actual demonstration. This cell is just used to create a sub-dictionary.\n",
        "basic_dict1[\"address\"]={\"city\":\"Dhaka\",\"country\":\"Bangladesh\"}\n",
        "basic_dict1"
      ],
      "metadata": {
        "colab": {
          "base_uri": "https://localhost:8080/"
        },
        "id": "SCUcrgNz65gH",
        "outputId": "65666ffe-e8ba-4ec9-ebe8-a60eb8014b94"
      },
      "execution_count": 21,
      "outputs": [
        {
          "output_type": "execute_result",
          "data": {
            "text/plain": [
              "{'0': 1,\n",
              " '1': 2,\n",
              " '2': 3,\n",
              " 3: '4',\n",
              " 'address': {'city': 'Dhaka', 'country': 'Bangladesh'}}"
            ]
          },
          "metadata": {},
          "execution_count": 21
        }
      ]
    },
    {
      "cell_type": "code",
      "source": [
        "basic_dict1[\"address\"].keys()"
      ],
      "metadata": {
        "colab": {
          "base_uri": "https://localhost:8080/"
        },
        "id": "HD9d-c0M7kd5",
        "outputId": "7507fc92-ac71-4e00-bf2f-a4b3cb653981"
      },
      "execution_count": 17,
      "outputs": [
        {
          "output_type": "execute_result",
          "data": {
            "text/plain": [
              "dict_keys(['city', 'country'])"
            ]
          },
          "metadata": {},
          "execution_count": 17
        }
      ]
    },
    {
      "cell_type": "markdown",
      "source": [
        "To see values, we can use \"values\" method in the same way as \"keys\"."
      ],
      "metadata": {
        "id": "Wto5heDE8RT5"
      }
    },
    {
      "cell_type": "markdown",
      "source": [
        "To remove a key, we can use \"pop\" method. If we want to store the value of the removed key, we should assign it to a variable."
      ],
      "metadata": {
        "id": "8EDT5_OX8mOR"
      }
    },
    {
      "cell_type": "code",
      "source": [
        "v=basic_dict1.pop(3) # the variable \"v\" stores the removed key\n",
        "v\n"
      ],
      "metadata": {
        "colab": {
          "base_uri": "https://localhost:8080/",
          "height": 35
        },
        "id": "FetpZbbQ8Qh5",
        "outputId": "75fdcc75-a83c-4627-aad2-209083d22715"
      },
      "execution_count": 22,
      "outputs": [
        {
          "output_type": "execute_result",
          "data": {
            "text/plain": [
              "'4'"
            ],
            "application/vnd.google.colaboratory.intrinsic+json": {
              "type": "string"
            }
          },
          "metadata": {},
          "execution_count": 22
        }
      ]
    },
    {
      "cell_type": "code",
      "source": [
        "basic_dict1"
      ],
      "metadata": {
        "colab": {
          "base_uri": "https://localhost:8080/"
        },
        "id": "EoPhrozZ9FzR",
        "outputId": "6cf8644d-627e-4779-e7b2-9aa601fff445"
      },
      "execution_count": 23,
      "outputs": [
        {
          "output_type": "execute_result",
          "data": {
            "text/plain": [
              "{'0': 1, '1': 2, '2': 3, 'address': {'city': 'Dhaka', 'country': 'Bangladesh'}}"
            ]
          },
          "metadata": {},
          "execution_count": 23
        }
      ]
    },
    {
      "cell_type": "markdown",
      "source": [
        "You see? No key called 3, and the value of that key is stored in the variable \"v\"."
      ],
      "metadata": {
        "id": "WRnelJRf9LRP"
      }
    },
    {
      "cell_type": "markdown",
      "source": [
        "The method \"popitem\" removes all the elements in the dictionary."
      ],
      "metadata": {
        "id": "LBe3sA_X9lr4"
      }
    },
    {
      "cell_type": "markdown",
      "source": [
        "#### **Exercise 7.2**"
      ],
      "metadata": {
        "id": "gepqEJpF_F9g"
      }
    },
    {
      "cell_type": "code",
      "source": [
        "allegiances = {\n",
        "    \"Luke Skywalker\":\"Rebel Alliance\",\n",
        "    \"Darth Vader\":\"Galactic Empire\",\n",
        "    \"Obi-Wan Kenobi\":\"Jedi Order\"\n",
        "    }"
      ],
      "metadata": {
        "id": "06YA67tX9lfJ"
      },
      "execution_count": 34,
      "outputs": []
    },
    {
      "cell_type": "code",
      "source": [
        "allegiances.get(\"Darth Vader\") # or, allegiances[\"Darth Vader\"]"
      ],
      "metadata": {
        "colab": {
          "base_uri": "https://localhost:8080/",
          "height": 35
        },
        "id": "W1OdXT79_edH",
        "outputId": "13c4edf7-689d-4f1b-aaea-fae43e62f804"
      },
      "execution_count": 36,
      "outputs": [
        {
          "output_type": "execute_result",
          "data": {
            "text/plain": [
              "'Galactic Empire'"
            ],
            "application/vnd.google.colaboratory.intrinsic+json": {
              "type": "string"
            }
          },
          "metadata": {},
          "execution_count": 36
        }
      ]
    },
    {
      "cell_type": "code",
      "source": [
        "allegiances[\"Darth Vader\"]=\"Sith Order\" # or, allegiances.update({\"Darth Vader\":\"Sith Order\"})"
      ],
      "metadata": {
        "id": "exjN9OLv_kjA"
      },
      "execution_count": 38,
      "outputs": []
    },
    {
      "cell_type": "code",
      "source": [
        "allegiances.update({\"Leia\":\"Rebel Alliance\"}) # or,allegiances[\"Leia\"]=\"Rebel Alliance\""
      ],
      "metadata": {
        "id": "KWCrcG20AEwZ"
      },
      "execution_count": 39,
      "outputs": []
    },
    {
      "cell_type": "code",
      "source": [
        "for keys, values in allegiances.items():\n",
        "    print(f\"{keys} belongs to {values}.\")"
      ],
      "metadata": {
        "colab": {
          "base_uri": "https://localhost:8080/"
        },
        "id": "KT_1TXvAASgo",
        "outputId": "1f07c791-f2d5-463b-a496-75f14a5d9176"
      },
      "execution_count": 43,
      "outputs": [
        {
          "output_type": "stream",
          "name": "stdout",
          "text": [
            "Luke Skywalker belongs to Rebel Alliance.\n",
            "Darth Vader belongs to Sith Order.\n",
            "Obi-Wan Kenobi belongs to Jedi Order.\n",
            "Leia belongs to Rebel Alliance.\n"
          ]
        }
      ]
    },
    {
      "cell_type": "markdown",
      "source": [
        "## **Sets**"
      ],
      "metadata": {
        "id": "DX4ct2D1C0NP"
      }
    },
    {
      "cell_type": "markdown",
      "source": [
        "Sets don't contain duplicates."
      ],
      "metadata": {
        "id": "u057PYIzC8QH"
      }
    },
    {
      "cell_type": "markdown",
      "source": [
        "Let's convert a list with duplicate elements to a set."
      ],
      "metadata": {
        "id": "Y88WTGQzDO5m"
      }
    },
    {
      "cell_type": "code",
      "source": [
        "list1=[1,1,2,2,3,3,4,4,5,5]\n",
        "set1=set(list1)\n",
        "set1"
      ],
      "metadata": {
        "colab": {
          "base_uri": "https://localhost:8080/"
        },
        "id": "zjCuNUELC12r",
        "outputId": "5b14ba30-b161-48fc-e25a-d443955d2db8"
      },
      "execution_count": 53,
      "outputs": [
        {
          "output_type": "execute_result",
          "data": {
            "text/plain": [
              "{1, 2, 3, 4, 5}"
            ]
          },
          "metadata": {},
          "execution_count": 53
        }
      ]
    },
    {
      "cell_type": "code",
      "source": [
        "set1.add(6) # to add an element to a set\n",
        "set1"
      ],
      "metadata": {
        "colab": {
          "base_uri": "https://localhost:8080/"
        },
        "id": "fw6V3_LRDm9-",
        "outputId": "986bf6be-ac9a-43fd-c71a-13e0ef2bb94b"
      },
      "execution_count": 54,
      "outputs": [
        {
          "output_type": "execute_result",
          "data": {
            "text/plain": [
              "{1, 2, 3, 4, 5, 6}"
            ]
          },
          "metadata": {},
          "execution_count": 54
        }
      ]
    },
    {
      "cell_type": "markdown",
      "source": [
        "A set will never contain a duplicate even if we try to do."
      ],
      "metadata": {
        "id": "r193Le7sDzAv"
      }
    },
    {
      "cell_type": "code",
      "source": [
        "set1.add(1) # 1 already exists in set1\n",
        "set1"
      ],
      "metadata": {
        "colab": {
          "base_uri": "https://localhost:8080/"
        },
        "id": "HkUylcTwD3zE",
        "outputId": "2ada0640-a3a0-4944-9127-17d48755eb59"
      },
      "execution_count": 55,
      "outputs": [
        {
          "output_type": "execute_result",
          "data": {
            "text/plain": [
              "{1, 2, 3, 4, 5, 6}"
            ]
          },
          "metadata": {},
          "execution_count": 55
        }
      ]
    },
    {
      "cell_type": "code",
      "source": [
        "set1.difference(list1) # to find the difference between two sets, or a set and any kind of other iterable"
      ],
      "metadata": {
        "colab": {
          "base_uri": "https://localhost:8080/"
        },
        "id": "jFwpk2KOEMpG",
        "outputId": "b80e2d22-57e4-460a-8fbb-8c88c56c4e63"
      },
      "execution_count": 56,
      "outputs": [
        {
          "output_type": "execute_result",
          "data": {
            "text/plain": [
              "{6}"
            ]
          },
          "metadata": {},
          "execution_count": 56
        }
      ]
    },
    {
      "cell_type": "code",
      "source": [
        "set1.intersection(list1) # to find the intersection of two sets, or a set and any kind of other iterable"
      ],
      "metadata": {
        "colab": {
          "base_uri": "https://localhost:8080/"
        },
        "id": "RwJss6GnEqif",
        "outputId": "28d20786-b026-4420-b857-11e249c0cad5"
      },
      "execution_count": 57,
      "outputs": [
        {
          "output_type": "execute_result",
          "data": {
            "text/plain": [
              "{1, 2, 3, 4, 5}"
            ]
          },
          "metadata": {},
          "execution_count": 57
        }
      ]
    },
    {
      "cell_type": "code",
      "source": [
        "set1.pop() # to remove the first element from a set\n"
      ],
      "metadata": {
        "colab": {
          "base_uri": "https://localhost:8080/"
        },
        "id": "tJ8CizCrFAhx",
        "outputId": "80c6154b-2b70-489c-b19e-376e061652f9"
      },
      "execution_count": 58,
      "outputs": [
        {
          "output_type": "execute_result",
          "data": {
            "text/plain": [
              "1"
            ]
          },
          "metadata": {},
          "execution_count": 58
        }
      ]
    },
    {
      "cell_type": "code",
      "source": [
        "set1"
      ],
      "metadata": {
        "colab": {
          "base_uri": "https://localhost:8080/"
        },
        "id": "NPvUYQLQFXg2",
        "outputId": "b8b7df14-db6e-4bd7-ca7d-02e97ce6823f"
      },
      "execution_count": 59,
      "outputs": [
        {
          "output_type": "execute_result",
          "data": {
            "text/plain": [
              "{2, 3, 4, 5, 6}"
            ]
          },
          "metadata": {},
          "execution_count": 59
        }
      ]
    },
    {
      "cell_type": "code",
      "source": [
        "set1.union(list1) # to find the union of two sets, or a set and any kind of other iterable"
      ],
      "metadata": {
        "colab": {
          "base_uri": "https://localhost:8080/"
        },
        "id": "EDznfSsqFk2v",
        "outputId": "d17278e9-0d8f-4cd3-d3dc-d866bf229dfc"
      },
      "execution_count": 60,
      "outputs": [
        {
          "output_type": "execute_result",
          "data": {
            "text/plain": [
              "{1, 2, 3, 4, 5, 6}"
            ]
          },
          "metadata": {},
          "execution_count": 60
        }
      ]
    }
  ]
}