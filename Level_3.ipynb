{
  "nbformat": 4,
  "nbformat_minor": 0,
  "metadata": {
    "colab": {
      "provenance": [],
      "authorship_tag": "ABX9TyM5z4Nr6U/UlVnwb8ytGhMG",
      "include_colab_link": true
    },
    "kernelspec": {
      "name": "python3",
      "display_name": "Python 3"
    },
    "language_info": {
      "name": "python"
    }
  },
  "cells": [
    {
      "cell_type": "markdown",
      "metadata": {
        "id": "view-in-github",
        "colab_type": "text"
      },
      "source": [
        "<a href=\"https://colab.research.google.com/github/nayem-uddin/udemy-python-course/blob/main/Level3.ipynb\" target=\"_parent\"><img src=\"https://colab.research.google.com/assets/colab-badge.svg\" alt=\"Open In Colab\"/></a>"
      ]
    },
    {
      "cell_type": "markdown",
      "source": [
        "# **Arithmatic Operations in Python**"
      ],
      "metadata": {
        "id": "m9di6u4v9g5S"
      }
    },
    {
      "cell_type": "code",
      "execution_count": null,
      "metadata": {
        "colab": {
          "base_uri": "https://localhost:8080/"
        },
        "id": "2IQrpW0d9XxF",
        "outputId": "b1d28437-2757-4d68-c5ec-e1ee9ccaea09"
      },
      "outputs": [
        {
          "output_type": "stream",
          "name": "stdout",
          "text": [
            "46.4\n"
          ]
        }
      ],
      "source": [
        "age = 44.4\n",
        "print(age+1*2) # multiplication executes before plus or minus"
      ]
    },
    {
      "cell_type": "code",
      "source": [
        "print((age+1)*2) # add 1 first, then multiply by 2"
      ],
      "metadata": {
        "colab": {
          "base_uri": "https://localhost:8080/"
        },
        "id": "JuT_PkTV-GiV",
        "outputId": "31e30a72-bdb1-4797-cddb-39126704ce68"
      },
      "execution_count": null,
      "outputs": [
        {
          "output_type": "stream",
          "name": "stdout",
          "text": [
            "90.8\n"
          ]
        }
      ]
    },
    {
      "cell_type": "code",
      "source": [
        "print(age**2) # age to the power 2, or age squared"
      ],
      "metadata": {
        "colab": {
          "base_uri": "https://localhost:8080/"
        },
        "id": "97hfOE6h-ozP",
        "outputId": "982c238f-9cee-4f28-8bd1-3da13dbab084"
      },
      "execution_count": null,
      "outputs": [
        {
          "output_type": "stream",
          "name": "stdout",
          "text": [
            "1971.36\n"
          ]
        }
      ]
    },
    {
      "cell_type": "markdown",
      "source": [
        "#### **Exercise 3.1**"
      ],
      "metadata": {
        "id": "Hl8IBVt__H5M"
      }
    },
    {
      "cell_type": "code",
      "source": [
        "Ahsoka_height = 1.70\n",
        "Yoda_height = 0.66\n",
        "R2D2_height = 1.09\n",
        "C3P0_height = 1.75"
      ],
      "metadata": {
        "id": "9u5dIKqa_NlV"
      },
      "execution_count": null,
      "outputs": []
    },
    {
      "cell_type": "code",
      "source": [
        "print((Ahsoka_height+Yoda_height+R2D2_height+C3P0_height)/4)"
      ],
      "metadata": {
        "colab": {
          "base_uri": "https://localhost:8080/"
        },
        "id": "H-8Vex5R_7OW",
        "outputId": "ee03f0ab-b7d0-48a5-9347-345b6f80a4c8"
      },
      "execution_count": null,
      "outputs": [
        {
          "output_type": "stream",
          "name": "stdout",
          "text": [
            "1.3\n"
          ]
        }
      ]
    },
    {
      "cell_type": "markdown",
      "source": [
        "# **Stringing Together Variables**"
      ],
      "metadata": {
        "id": "7X1JzEyKIlQ6"
      }
    },
    {
      "cell_type": "code",
      "source": [
        "name = \"Yoda\"\n",
        "print(\"Your name is \"+name)\n",
        "print(\"Your name is\"+name) # to see the difference of putting and not putting a space"
      ],
      "metadata": {
        "colab": {
          "base_uri": "https://localhost:8080/"
        },
        "id": "z2gXC3IgIuBj",
        "outputId": "473687ae-3a98-40f1-f9d6-194c7c2bfb88"
      },
      "execution_count": 3,
      "outputs": [
        {
          "output_type": "stream",
          "name": "stdout",
          "text": [
            "Your name isYoda\n"
          ]
        }
      ]
    },
    {
      "cell_type": "code",
      "source": [
        "height = 0.66\n",
        "age = 900\n",
        "print(\"Your name, height, and age is: \"+name+\", \"+height+\", and \"+age) # to see that string and number can't be \"stringed\" together"
      ],
      "metadata": {
        "colab": {
          "base_uri": "https://localhost:8080/",
          "height": 176
        },
        "id": "jyOO-pYmJnGw",
        "outputId": "2dd3425f-056b-4b45-ff46-c0a3aa60a5c4"
      },
      "execution_count": 6,
      "outputs": [
        {
          "output_type": "error",
          "ename": "TypeError",
          "evalue": "can only concatenate str (not \"float\") to str",
          "traceback": [
            "\u001b[0;31m---------------------------------------------------------------------------\u001b[0m",
            "\u001b[0;31mTypeError\u001b[0m                                 Traceback (most recent call last)",
            "\u001b[0;32m<ipython-input-6-427c41c16e5c>\u001b[0m in \u001b[0;36m<cell line: 3>\u001b[0;34m()\u001b[0m\n\u001b[1;32m      1\u001b[0m \u001b[0mheight\u001b[0m \u001b[0;34m=\u001b[0m \u001b[0;36m0.66\u001b[0m\u001b[0;34m\u001b[0m\u001b[0;34m\u001b[0m\u001b[0m\n\u001b[1;32m      2\u001b[0m \u001b[0mage\u001b[0m \u001b[0;34m=\u001b[0m \u001b[0;36m900\u001b[0m\u001b[0;34m\u001b[0m\u001b[0;34m\u001b[0m\u001b[0m\n\u001b[0;32m----> 3\u001b[0;31m \u001b[0mprint\u001b[0m\u001b[0;34m(\u001b[0m\u001b[0;34m\"Your name, height, and age is: \"\u001b[0m\u001b[0;34m+\u001b[0m\u001b[0mname\u001b[0m\u001b[0;34m+\u001b[0m\u001b[0;34m\", \"\u001b[0m\u001b[0;34m+\u001b[0m\u001b[0mheight\u001b[0m\u001b[0;34m+\u001b[0m\u001b[0;34m\", and \"\u001b[0m\u001b[0;34m+\u001b[0m\u001b[0mage\u001b[0m\u001b[0;34m)\u001b[0m \u001b[0;31m# to see that string and number can't be \"stringed\" together\u001b[0m\u001b[0;34m\u001b[0m\u001b[0;34m\u001b[0m\u001b[0m\n\u001b[0m",
            "\u001b[0;31mTypeError\u001b[0m: can only concatenate str (not \"float\") to str"
          ]
        }
      ]
    },
    {
      "cell_type": "markdown",
      "source": [
        "To string together a number and a string, we need to convert (cast) the number to string first."
      ],
      "metadata": {
        "id": "oPDTHReAK_k3"
      }
    },
    {
      "cell_type": "code",
      "source": [
        "print(\"Your name, height, and age is: \"+str(name)+\", \"+str(height)+\", and \"+str(age))"
      ],
      "metadata": {
        "colab": {
          "base_uri": "https://localhost:8080/"
        },
        "id": "4S3qmWygKrdy",
        "outputId": "e8eed919-41f4-4280-db19-6399985b47c7"
      },
      "execution_count": 7,
      "outputs": [
        {
          "output_type": "stream",
          "name": "stdout",
          "text": [
            "Your name, height, and age is: Yoda, 0.66, and 900\n"
          ]
        }
      ]
    },
    {
      "cell_type": "markdown",
      "source": [
        "#### **Exercise 3.2**"
      ],
      "metadata": {
        "id": "VEQ9PE9BLoBi"
      }
    },
    {
      "cell_type": "code",
      "source": [
        "name1 = \"Jack\"\n",
        "name2 = \"Rose\"\n",
        "year = 1912\n",
        "print(name1+\" and \"+name2+\" were on the Titanic in \"+str(year))"
      ],
      "metadata": {
        "colab": {
          "base_uri": "https://localhost:8080/"
        },
        "id": "qZFmhGSPLtdo",
        "outputId": "afd6f176-4045-4757-ff3d-d5ebeb6f453d"
      },
      "execution_count": 8,
      "outputs": [
        {
          "output_type": "stream",
          "name": "stdout",
          "text": [
            "Jack and Rose were on the Titanic in 1912\n"
          ]
        }
      ]
    },
    {
      "cell_type": "markdown",
      "source": [
        "#### **Final Exercise**"
      ],
      "metadata": {
        "id": "5oQ7t4RhM-y-"
      }
    },
    {
      "cell_type": "code",
      "source": [
        "principal = 1000\n",
        "rate = 5\n",
        "time = 2\n",
        "interest = (principal*rate*time)/100\n",
        "print(\"The interest for $\"+str(principal)+\" principal with \"+str(rate)+\"% rate after \"+str(time)+ \" years is: \"+str(interest))"
      ],
      "metadata": {
        "colab": {
          "base_uri": "https://localhost:8080/"
        },
        "id": "C7SmSsyVNESW",
        "outputId": "cfdc51de-15a2-4f71-bd21-cdfccee9d644"
      },
      "execution_count": 12,
      "outputs": [
        {
          "output_type": "stream",
          "name": "stdout",
          "text": [
            "The interest for $1000 principal with 5% rate after 2 years is: 100.0\n"
          ]
        }
      ]
    }
  ]
}
