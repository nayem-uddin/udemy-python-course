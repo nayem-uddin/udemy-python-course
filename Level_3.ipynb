{
  "nbformat": 4,
  "nbformat_minor": 0,
  "metadata": {
    "colab": {
      "provenance": [],
      "authorship_tag": "ABX9TyO1zNNkFMWQwhM7O0hcwQnd",
      "include_colab_link": true
    },
    "kernelspec": {
      "name": "python3",
      "display_name": "Python 3"
    },
    "language_info": {
      "name": "python"
    }
  },
  "cells": [
    {
      "cell_type": "markdown",
      "metadata": {
        "id": "view-in-github",
        "colab_type": "text"
      },
      "source": [
        "<a href=\"https://colab.research.google.com/github/nayem-uddin/udemy-python-course/blob/main/Level_3.ipynb\" target=\"_parent\"><img src=\"https://colab.research.google.com/assets/colab-badge.svg\" alt=\"Open In Colab\"/></a>"
      ]
    },
    {
      "cell_type": "markdown",
      "source": [
        "# **Arithmatic Operations in Python**"
      ],
      "metadata": {
        "id": "m9di6u4v9g5S"
      }
    },
    {
      "cell_type": "code",
      "execution_count": 1,
      "metadata": {
        "colab": {
          "base_uri": "https://localhost:8080/"
        },
        "id": "2IQrpW0d9XxF",
        "outputId": "b1d28437-2757-4d68-c5ec-e1ee9ccaea09"
      },
      "outputs": [
        {
          "output_type": "stream",
          "name": "stdout",
          "text": [
            "46.4\n"
          ]
        }
      ],
      "source": [
        "age = 44.4\n",
        "print(age+1*2) # multiplication executes before plus or minus"
      ]
    },
    {
      "cell_type": "code",
      "source": [
        "print((age+1)*2) # add 1 first, then multiply by 2"
      ],
      "metadata": {
        "colab": {
          "base_uri": "https://localhost:8080/"
        },
        "id": "JuT_PkTV-GiV",
        "outputId": "31e30a72-bdb1-4797-cddb-39126704ce68"
      },
      "execution_count": 3,
      "outputs": [
        {
          "output_type": "stream",
          "name": "stdout",
          "text": [
            "90.8\n"
          ]
        }
      ]
    },
    {
      "cell_type": "code",
      "source": [
        "print(age**2) # age to the power 2, or age squared"
      ],
      "metadata": {
        "colab": {
          "base_uri": "https://localhost:8080/"
        },
        "id": "97hfOE6h-ozP",
        "outputId": "982c238f-9cee-4f28-8bd1-3da13dbab084"
      },
      "execution_count": 4,
      "outputs": [
        {
          "output_type": "stream",
          "name": "stdout",
          "text": [
            "1971.36\n"
          ]
        }
      ]
    },
    {
      "cell_type": "markdown",
      "source": [
        "#### **Exercise 3.1**"
      ],
      "metadata": {
        "id": "Hl8IBVt__H5M"
      }
    },
    {
      "cell_type": "code",
      "source": [
        "Ahsoka_height = 1.70\n",
        "Yoda_height = 0.66\n",
        "R2D2_height = 1.09\n",
        "C3P0_height = 1.75"
      ],
      "metadata": {
        "id": "9u5dIKqa_NlV"
      },
      "execution_count": 7,
      "outputs": []
    },
    {
      "cell_type": "code",
      "source": [
        "print((Ahsoka_height+Yoda_height+R2D2_height+C3P0_height)/4)"
      ],
      "metadata": {
        "colab": {
          "base_uri": "https://localhost:8080/"
        },
        "id": "H-8Vex5R_7OW",
        "outputId": "ee03f0ab-b7d0-48a5-9347-345b6f80a4c8"
      },
      "execution_count": 8,
      "outputs": [
        {
          "output_type": "stream",
          "name": "stdout",
          "text": [
            "1.3\n"
          ]
        }
      ]
    }
  ]
}