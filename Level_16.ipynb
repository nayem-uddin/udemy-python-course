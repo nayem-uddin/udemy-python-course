{
  "nbformat": 4,
  "nbformat_minor": 0,
  "metadata": {
    "colab": {
      "provenance": [],
      "authorship_tag": "ABX9TyOxhUDdqQ1jK2BD7+Xm9Q3/",
      "include_colab_link": true
    },
    "kernelspec": {
      "name": "python3",
      "display_name": "Python 3"
    },
    "language_info": {
      "name": "python"
    }
  },
  "cells": [
    {
      "cell_type": "markdown",
      "metadata": {
        "id": "view-in-github",
        "colab_type": "text"
      },
      "source": [
        "<a href=\"https://colab.research.google.com/github/nayem-uddin/udemy-python-course/blob/main/Level_16.ipynb\" target=\"_parent\"><img src=\"https://colab.research.google.com/assets/colab-badge.svg\" alt=\"Open In Colab\"/></a>"
      ]
    },
    {
      "cell_type": "code",
      "execution_count": null,
      "metadata": {
        "colab": {
          "base_uri": "https://localhost:8080/"
        },
        "id": "hCKdeSSRpx1j",
        "outputId": "b0676680-c6e8-46b6-b832-e61dc77391a2"
      },
      "outputs": [
        {
          "output_type": "stream",
          "name": "stdout",
          "text": [
            "'a'\n"
          ]
        }
      ],
      "source": [
        "string='a'\n",
        "print(ascii('a'))"
      ]
    },
    {
      "cell_type": "code",
      "source": [
        "print(ascii('41'))"
      ],
      "metadata": {
        "colab": {
          "base_uri": "https://localhost:8080/"
        },
        "id": "4ubzVhoEq7tq",
        "outputId": "e3f0b50c-326f-4842-bed8-fbf01cf9a68e"
      },
      "execution_count": null,
      "outputs": [
        {
          "output_type": "stream",
          "name": "stdout",
          "text": [
            "'41'\n"
          ]
        }
      ]
    },
    {
      "cell_type": "code",
      "source": [
        "bytearray(list(range(65, 91))) # converts decimal ASCII values to equivalent characters"
      ],
      "metadata": {
        "colab": {
          "base_uri": "https://localhost:8080/"
        },
        "id": "WPVPjfZeutLv",
        "outputId": "f1d35726-cae8-4626-c27b-c78794f2358b"
      },
      "execution_count": null,
      "outputs": [
        {
          "output_type": "execute_result",
          "data": {
            "text/plain": [
              "bytearray(b'ABCDEFGHIJKLMNOPQRSTUVWXYZ')"
            ]
          },
          "metadata": {},
          "execution_count": 25
        }
      ]
    },
    {
      "cell_type": "code",
      "source": [
        "bytes(list(range(65, 91)))"
      ],
      "metadata": {
        "colab": {
          "base_uri": "https://localhost:8080/"
        },
        "id": "rS_00izVv3WG",
        "outputId": "36fdd348-dd8e-4616-ced9-85b6ff4c0490"
      },
      "execution_count": null,
      "outputs": [
        {
          "output_type": "execute_result",
          "data": {
            "text/plain": [
              "b'ABCDEFGHIJKLMNOPQRSTUVWXYZ'"
            ]
          },
          "metadata": {},
          "execution_count": 28
        }
      ]
    },
    {
      "cell_type": "code",
      "source": [
        "def fun(n):\n",
        "  return 0\n",
        "num=0\n",
        "print(callable(fun))\n",
        "print(callable(num))"
      ],
      "metadata": {
        "colab": {
          "base_uri": "https://localhost:8080/"
        },
        "id": "lQwDfDzLuv6g",
        "outputId": "a83c354b-1b95-4210-bc98-7047590912c6"
      },
      "execution_count": null,
      "outputs": [
        {
          "output_type": "stream",
          "name": "stdout",
          "text": [
            "True\n",
            "False\n"
          ]
        }
      ]
    },
    {
      "cell_type": "code",
      "source": [
        "my_c=65\n",
        "print(chr(my_c)) # to convert ASCII to character"
      ],
      "metadata": {
        "colab": {
          "base_uri": "https://localhost:8080/"
        },
        "id": "dR8KJ_TVvN6X",
        "outputId": "47a7aeda-c01c-45da-93ec-1d695684339d"
      },
      "execution_count": null,
      "outputs": [
        {
          "output_type": "stream",
          "name": "stdout",
          "text": [
            "A\n"
          ]
        }
      ]
    },
    {
      "cell_type": "code",
      "source": [
        "class myclass():\n",
        "  class_v=\"hello there!\"\n",
        "  def class_m(self):\n",
        "    return myclass.class_v\n"
      ],
      "metadata": {
        "id": "rXNNyLyQvqy1"
      },
      "execution_count": null,
      "outputs": []
    },
    {
      "cell_type": "code",
      "source": [
        "myclass.class_m(myclass)"
      ],
      "metadata": {
        "colab": {
          "base_uri": "https://localhost:8080/",
          "height": 35
        },
        "id": "Jf6cy-wewXK8",
        "outputId": "57aed41c-e1dd-44ff-8ebc-8d3f9e684a9d"
      },
      "execution_count": null,
      "outputs": [
        {
          "output_type": "execute_result",
          "data": {
            "text/plain": [
              "'hello there!'"
            ],
            "application/vnd.google.colaboratory.intrinsic+json": {
              "type": "string"
            }
          },
          "metadata": {},
          "execution_count": 5
        }
      ]
    },
    {
      "cell_type": "code",
      "source": [
        "myclass.class_m()"
      ],
      "metadata": {
        "colab": {
          "base_uri": "https://localhost:8080/",
          "height": 141
        },
        "id": "-37z2ELWwX1T",
        "outputId": "78e1aeab-74ba-497c-e2e3-46e0ec6100db"
      },
      "execution_count": null,
      "outputs": [
        {
          "output_type": "error",
          "ename": "TypeError",
          "evalue": "myclass.class_m() missing 1 required positional argument: 'self'",
          "traceback": [
            "\u001b[0;31m---------------------------------------------------------------------------\u001b[0m",
            "\u001b[0;31mTypeError\u001b[0m                                 Traceback (most recent call last)",
            "\u001b[0;32m<ipython-input-6-1d1546c78c74>\u001b[0m in \u001b[0;36m<cell line: 1>\u001b[0;34m()\u001b[0m\n\u001b[0;32m----> 1\u001b[0;31m \u001b[0mmyclass\u001b[0m\u001b[0;34m.\u001b[0m\u001b[0mclass_m\u001b[0m\u001b[0;34m(\u001b[0m\u001b[0;34m)\u001b[0m\u001b[0;34m\u001b[0m\u001b[0;34m\u001b[0m\u001b[0m\n\u001b[0m",
            "\u001b[0;31mTypeError\u001b[0m: myclass.class_m() missing 1 required positional argument: 'self'"
          ]
        }
      ]
    },
    {
      "cell_type": "markdown",
      "source": [
        "To handle this error, we can use \"classmethod\" function."
      ],
      "metadata": {
        "id": "S5AoC2yLwhak"
      }
    },
    {
      "cell_type": "code",
      "source": [
        "class myclass():\n",
        "  class_v=\"hello there!\"\n",
        "  @classmethod\n",
        "  def class_m(self):\n",
        "    return myclass.class_v\n"
      ],
      "metadata": {
        "id": "BPmK5ZICv6pS"
      },
      "execution_count": null,
      "outputs": []
    },
    {
      "cell_type": "code",
      "source": [
        "myclass.class_m()"
      ],
      "metadata": {
        "colab": {
          "base_uri": "https://localhost:8080/",
          "height": 35
        },
        "id": "NVcEt_YYwCOT",
        "outputId": "76a08206-e1aa-4f76-a446-fa8191cbb768"
      },
      "execution_count": null,
      "outputs": [
        {
          "output_type": "execute_result",
          "data": {
            "text/plain": [
              "'hello there!'"
            ],
            "application/vnd.google.colaboratory.intrinsic+json": {
              "type": "string"
            }
          },
          "metadata": {},
          "execution_count": 9
        }
      ]
    },
    {
      "cell_type": "code",
      "source": [
        "divmod(16,5) # returns the result and the remainder of the division of the first argument by the second argument"
      ],
      "metadata": {
        "colab": {
          "base_uri": "https://localhost:8080/"
        },
        "id": "UbwKEaBjl3Qi",
        "outputId": "306a18ea-aeff-4eae-91e3-6edd47207c8d"
      },
      "execution_count": null,
      "outputs": [
        {
          "output_type": "execute_result",
          "data": {
            "text/plain": [
              "(3, 1)"
            ]
          },
          "metadata": {},
          "execution_count": 2
        }
      ]
    },
    {
      "cell_type": "code",
      "source": [
        "r_list=[\"A\",\"B\",\"C\"]\n",
        "for index,letter in enumerate(r_list): # returns the index and the value\n",
        "  print(index,letter)"
      ],
      "metadata": {
        "colab": {
          "base_uri": "https://localhost:8080/"
        },
        "id": "4zfje6otmFQK",
        "outputId": "83db90d5-5945-4511-9d0a-fbd676b2a10a"
      },
      "execution_count": null,
      "outputs": [
        {
          "output_type": "stream",
          "name": "stdout",
          "text": [
            "0 A\n",
            "1 B\n",
            "2 C\n"
          ]
        }
      ]
    },
    {
      "cell_type": "code",
      "source": [
        "x=\"append('d')\"\n",
        "com=\"r_list.\"+x\n",
        "eval(\"com\")\n",
        "r_list"
      ],
      "metadata": {
        "colab": {
          "base_uri": "https://localhost:8080/"
        },
        "id": "A9VFeEBOmh06",
        "outputId": "fa60667d-4be5-4e29-87e7-abb066204b57"
      },
      "execution_count": null,
      "outputs": [
        {
          "output_type": "execute_result",
          "data": {
            "text/plain": [
              "['A', 'B', 'C', 'd']"
            ]
          },
          "metadata": {},
          "execution_count": 7
        }
      ]
    },
    {
      "cell_type": "code",
      "source": [
        "def even(x):\n",
        "  return x%2==0\n",
        "list(filter(even,range(10))) # even numbers from 0 to 9"
      ],
      "metadata": {
        "colab": {
          "base_uri": "https://localhost:8080/"
        },
        "id": "bzFxRlZsyrDV",
        "outputId": "b83c3e60-f7df-4a04-caca-d6601ce84202"
      },
      "execution_count": null,
      "outputs": [
        {
          "output_type": "execute_result",
          "data": {
            "text/plain": [
              "[0, 2, 4, 6, 8]"
            ]
          },
          "metadata": {},
          "execution_count": 11
        }
      ]
    },
    {
      "cell_type": "code",
      "source": [
        "name=\"Alice\"\n",
        "age=29\n",
        "name+\" is \"+str(age)+\" years old.\""
      ],
      "metadata": {
        "colab": {
          "base_uri": "https://localhost:8080/",
          "height": 35
        },
        "id": "7a9HY2yy3SOS",
        "outputId": "3ba97a1c-b6a2-4c56-fd5d-55d27b08d055"
      },
      "execution_count": null,
      "outputs": [
        {
          "output_type": "execute_result",
          "data": {
            "text/plain": [
              "'Alice is 29 years old.'"
            ],
            "application/vnd.google.colaboratory.intrinsic+json": {
              "type": "string"
            }
          },
          "metadata": {},
          "execution_count": 1
        }
      ]
    },
    {
      "cell_type": "markdown",
      "source": [
        "Instead, we can write it in an easier way as follows."
      ],
      "metadata": {
        "id": "orZ4q9o1SD6a"
      }
    },
    {
      "cell_type": "code",
      "source": [
        "\"{} is {} years old.\".format(name,age)"
      ],
      "metadata": {
        "colab": {
          "base_uri": "https://localhost:8080/",
          "height": 35
        },
        "id": "ElKBWkLb3ph6",
        "outputId": "d62eada9-f4c9-4dd1-b6d8-630329cc979f"
      },
      "execution_count": null,
      "outputs": [
        {
          "output_type": "execute_result",
          "data": {
            "text/plain": [
              "'Alice is 29 years old.'"
            ],
            "application/vnd.google.colaboratory.intrinsic+json": {
              "type": "string"
            }
          },
          "metadata": {},
          "execution_count": 6
        }
      ]
    },
    {
      "cell_type": "code",
      "source": [
        "frozenset(range(5)) # an immutable set"
      ],
      "metadata": {
        "colab": {
          "base_uri": "https://localhost:8080/"
        },
        "id": "aqz4lHhkUuID",
        "outputId": "091c68a9-5e4e-4412-d697-5669659c0aff"
      },
      "execution_count": null,
      "outputs": [
        {
          "output_type": "execute_result",
          "data": {
            "text/plain": [
              "frozenset({0, 1, 2, 3, 4})"
            ]
          },
          "metadata": {},
          "execution_count": 8
        }
      ]
    },
    {
      "cell_type": "code",
      "source": [
        "# to see the details about a function, use \"help\"\n",
        "help(print)"
      ],
      "metadata": {
        "colab": {
          "base_uri": "https://localhost:8080/"
        },
        "id": "m_fmsNLlWQ7y",
        "outputId": "d4c8e327-d41f-4970-b769-9ccbc7812239"
      },
      "execution_count": null,
      "outputs": [
        {
          "output_type": "stream",
          "name": "stdout",
          "text": [
            "Help on built-in function print in module builtins:\n",
            "\n",
            "print(...)\n",
            "    print(value, ..., sep=' ', end='\\n', file=sys.stdout, flush=False)\n",
            "    \n",
            "    Prints the values to a stream, or to sys.stdout by default.\n",
            "    Optional keyword arguments:\n",
            "    file:  a file-like object (stream); defaults to the current sys.stdout.\n",
            "    sep:   string inserted between values, default a space.\n",
            "    end:   string appended after the last value, default a newline.\n",
            "    flush: whether to forcibly flush the stream.\n",
            "\n"
          ]
        }
      ]
    },
    {
      "cell_type": "markdown",
      "source": [
        "\"isinstance\" is used to check if a data belongs to the specific class that the user wants the data to belong to."
      ],
      "metadata": {
        "id": "_7Jm5SDvZS_Q"
      }
    },
    {
      "cell_type": "code",
      "source": [
        "print(isinstance(10,int)) # to check if 10 belongs to the integer class\n",
        "print(isinstance(10,str)) # to check if 10 belongs to the string class"
      ],
      "metadata": {
        "colab": {
          "base_uri": "https://localhost:8080/"
        },
        "id": "Hwwmv51XZScu",
        "outputId": "549accbb-9954-4ea2-ef5b-16cc6e0994ba"
      },
      "execution_count": null,
      "outputs": [
        {
          "output_type": "stream",
          "name": "stdout",
          "text": [
            "True\n",
            "False\n"
          ]
        }
      ]
    },
    {
      "cell_type": "markdown",
      "source": [
        "\"issubclass\" is used to check if a class is a subclass of another class."
      ],
      "metadata": {
        "id": "nyRt8d4PaZGN"
      }
    },
    {
      "cell_type": "code",
      "source": [
        "class parent:\n",
        "  pass\n",
        "class child(parent):\n",
        "  pass\n",
        "issubclass(child, parent)"
      ],
      "metadata": {
        "colab": {
          "base_uri": "https://localhost:8080/"
        },
        "id": "k6h7pizxZxsx",
        "outputId": "3eef5cd3-a8ad-4999-d88e-b7597f1476a6"
      },
      "execution_count": null,
      "outputs": [
        {
          "output_type": "execute_result",
          "data": {
            "text/plain": [
              "True"
            ]
          },
          "metadata": {},
          "execution_count": 17
        }
      ]
    },
    {
      "cell_type": "markdown",
      "source": [
        "\"ord\" returns the unicode value of a character."
      ],
      "metadata": {
        "id": "E2phvDjkjTmF"
      }
    },
    {
      "cell_type": "code",
      "source": [
        "ord(\"A\") # returns the unicode value of A"
      ],
      "metadata": {
        "id": "t8gq9fsikrhd",
        "outputId": "cce18827-bdca-4034-fe9d-dc8b24f13bfb",
        "colab": {
          "base_uri": "https://localhost:8080/"
        }
      },
      "execution_count": 1,
      "outputs": [
        {
          "output_type": "execute_result",
          "data": {
            "text/plain": [
              "65"
            ]
          },
          "metadata": {},
          "execution_count": 1
        }
      ]
    },
    {
      "cell_type": "markdown",
      "source": [
        "\"reversed\" function returns the reversed (not reverse sorted) version of a list, tuple, set or string - whatever it is provided with."
      ],
      "metadata": {
        "id": "F-aDnj2dkUKV"
      }
    },
    {
      "cell_type": "code",
      "source": [
        "l=[1,2,5,1,3]\n",
        "list(reversed(l))"
      ],
      "metadata": {
        "colab": {
          "base_uri": "https://localhost:8080/"
        },
        "id": "dJROIUaVjPmu",
        "outputId": "7606ac01-e321-42c2-abed-32102ee3d1ad"
      },
      "execution_count": 2,
      "outputs": [
        {
          "output_type": "execute_result",
          "data": {
            "text/plain": [
              "[3, 1, 5, 2, 1]"
            ]
          },
          "metadata": {},
          "execution_count": 2
        }
      ]
    },
    {
      "cell_type": "code",
      "source": [
        "l[slice(1,4)] # return values from the 1st indexed element up to, but not including, the 4th indexed element"
      ],
      "metadata": {
        "colab": {
          "base_uri": "https://localhost:8080/"
        },
        "id": "y_YSMyJXlJFE",
        "outputId": "88e5a0b4-7056-41e3-efb8-9d9e6b17e961"
      },
      "execution_count": 6,
      "outputs": [
        {
          "output_type": "execute_result",
          "data": {
            "text/plain": [
              "[2, 5, 1]"
            ]
          },
          "metadata": {},
          "execution_count": 6
        }
      ]
    }
  ]
}