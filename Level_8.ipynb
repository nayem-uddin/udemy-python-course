{
  "nbformat": 4,
  "nbformat_minor": 0,
  "metadata": {
    "colab": {
      "provenance": [],
      "include_colab_link": true
    },
    "kernelspec": {
      "name": "python3",
      "display_name": "Python 3"
    },
    "language_info": {
      "name": "python"
    }
  },
  "cells": [
    {
      "cell_type": "markdown",
      "metadata": {
        "id": "view-in-github",
        "colab_type": "text"
      },
      "source": [
        "<a href=\"https://colab.research.google.com/github/nayem-uddin/udemy-python-course/blob/main/Level_8.ipynb\" target=\"_parent\"><img src=\"https://colab.research.google.com/assets/colab-badge.svg\" alt=\"Open In Colab\"/></a>"
      ]
    },
    {
      "cell_type": "markdown",
      "source": [
        "## **Methods**"
      ],
      "metadata": {
        "id": "N51w5VyoA-W7"
      }
    },
    {
      "cell_type": "markdown",
      "source": [
        "Methods are used to modify a variable."
      ],
      "metadata": {
        "id": "KGIxyTUHMY6z"
      }
    },
    {
      "cell_type": "code",
      "execution_count": null,
      "metadata": {
        "colab": {
          "base_uri": "https://localhost:8080/"
        },
        "id": "MiF5nvWLAZ7n",
        "outputId": "3ecd22a2-7dec-4bd1-c7fe-0479e7324cf0"
      },
      "outputs": [
        {
          "output_type": "stream",
          "name": "stdout",
          "text": [
            "REY\n"
          ]
        },
        {
          "output_type": "execute_result",
          "data": {
            "text/plain": [
              "['__add__',\n",
              " '__class__',\n",
              " '__contains__',\n",
              " '__delattr__',\n",
              " '__dir__',\n",
              " '__doc__',\n",
              " '__eq__',\n",
              " '__format__',\n",
              " '__ge__',\n",
              " '__getattribute__',\n",
              " '__getitem__',\n",
              " '__getnewargs__',\n",
              " '__gt__',\n",
              " '__hash__',\n",
              " '__init__',\n",
              " '__init_subclass__',\n",
              " '__iter__',\n",
              " '__le__',\n",
              " '__len__',\n",
              " '__lt__',\n",
              " '__mod__',\n",
              " '__mul__',\n",
              " '__ne__',\n",
              " '__new__',\n",
              " '__reduce__',\n",
              " '__reduce_ex__',\n",
              " '__repr__',\n",
              " '__rmod__',\n",
              " '__rmul__',\n",
              " '__setattr__',\n",
              " '__sizeof__',\n",
              " '__str__',\n",
              " '__subclasshook__',\n",
              " 'capitalize',\n",
              " 'casefold',\n",
              " 'center',\n",
              " 'count',\n",
              " 'encode',\n",
              " 'endswith',\n",
              " 'expandtabs',\n",
              " 'find',\n",
              " 'format',\n",
              " 'format_map',\n",
              " 'index',\n",
              " 'isalnum',\n",
              " 'isalpha',\n",
              " 'isascii',\n",
              " 'isdecimal',\n",
              " 'isdigit',\n",
              " 'isidentifier',\n",
              " 'islower',\n",
              " 'isnumeric',\n",
              " 'isprintable',\n",
              " 'isspace',\n",
              " 'istitle',\n",
              " 'isupper',\n",
              " 'join',\n",
              " 'ljust',\n",
              " 'lower',\n",
              " 'lstrip',\n",
              " 'maketrans',\n",
              " 'partition',\n",
              " 'removeprefix',\n",
              " 'removesuffix',\n",
              " 'replace',\n",
              " 'rfind',\n",
              " 'rindex',\n",
              " 'rjust',\n",
              " 'rpartition',\n",
              " 'rsplit',\n",
              " 'rstrip',\n",
              " 'split',\n",
              " 'splitlines',\n",
              " 'startswith',\n",
              " 'strip',\n",
              " 'swapcase',\n",
              " 'title',\n",
              " 'translate',\n",
              " 'upper',\n",
              " 'zfill']"
            ]
          },
          "metadata": {},
          "execution_count": 3
        }
      ],
      "source": [
        "name = str(\"Rey\")\n",
        "print(name.upper())\n",
        "dir(name) # to see which methods we can use with the variable \"name\""
      ]
    },
    {
      "cell_type": "code",
      "source": [
        "print(name.lower())"
      ],
      "metadata": {
        "colab": {
          "base_uri": "https://localhost:8080/"
        },
        "id": "K7WC4VsQLdh8",
        "outputId": "adbed362-7ce9-4236-e68b-bd459a3214fd"
      },
      "execution_count": null,
      "outputs": [
        {
          "output_type": "stream",
          "name": "stdout",
          "text": [
            "rey\n"
          ]
        }
      ]
    },
    {
      "cell_type": "code",
      "source": [
        "print(name.count(\"y\")) # to see how many times \"y\" occurs in the name \"rey\""
      ],
      "metadata": {
        "colab": {
          "base_uri": "https://localhost:8080/"
        },
        "id": "dFeUrwQCLyFW",
        "outputId": "40bde8f8-a4de-4fe5-8ec0-b4ba6ebb9500"
      },
      "execution_count": null,
      "outputs": [
        {
          "output_type": "stream",
          "name": "stdout",
          "text": [
            "1\n"
          ]
        }
      ]
    },
    {
      "cell_type": "code",
      "source": [
        "print(name.replace(\"y\",\"d\"))"
      ],
      "metadata": {
        "colab": {
          "base_uri": "https://localhost:8080/"
        },
        "id": "74e265Y7ML4D",
        "outputId": "c6137a8a-5cef-4593-c255-796e78387f9c"
      },
      "execution_count": null,
      "outputs": [
        {
          "output_type": "stream",
          "name": "stdout",
          "text": [
            "Red\n"
          ]
        }
      ]
    },
    {
      "cell_type": "markdown",
      "source": [
        "#### **Exercise 8.1**"
      ],
      "metadata": {
        "id": "fD4H8xUoMi0r"
      }
    },
    {
      "cell_type": "code",
      "source": [
        "name = \"C3PO\"\n",
        "print(name.replace(\"C3PO\",\"R2D2\"))"
      ],
      "metadata": {
        "colab": {
          "base_uri": "https://localhost:8080/"
        },
        "id": "B_gc53F3MpoC",
        "outputId": "faf8f3e5-c8ae-4d2d-d1f5-4064df033e86"
      },
      "execution_count": null,
      "outputs": [
        {
          "output_type": "stream",
          "name": "stdout",
          "text": [
            "R2D2\n"
          ]
        }
      ]
    },
    {
      "cell_type": "markdown",
      "source": [
        "### **String Methods**"
      ],
      "metadata": {
        "id": "vaQaMGfkPSyG"
      }
    },
    {
      "cell_type": "markdown",
      "source": [
        "* \"isdigit\" method is used to check if the variable is numeric.\n",
        "* \"isalpha\" method is used to check if the variable is alphabetic.\n",
        "* \"isspace\" method is used to check if the variable contains only a space and nothing else (\"contains space\" doesn't mean the variable is empty).\n",
        "\n"
      ],
      "metadata": {
        "id": "-Vga9H9nUvpo"
      }
    },
    {
      "cell_type": "code",
      "source": [
        "name = \"chris\"\n",
        "print(name.upper())\n",
        "print(name.isdigit())\n",
        "print(name.isalpha())\n",
        "print(name.isspace())"
      ],
      "metadata": {
        "colab": {
          "base_uri": "https://localhost:8080/"
        },
        "id": "wk3n_4d1PVTB",
        "outputId": "e1a7aa8d-d315-41dc-990b-92618e06fe4e"
      },
      "execution_count": null,
      "outputs": [
        {
          "output_type": "stream",
          "name": "stdout",
          "text": [
            "CHRIS\n",
            "False\n",
            "True\n",
            "False\n"
          ]
        }
      ]
    },
    {
      "cell_type": "code",
      "source": [
        "digval=\"51\"\n",
        "print(digval.isdigit())\n",
        "print(digval.isalpha())"
      ],
      "metadata": {
        "colab": {
          "base_uri": "https://localhost:8080/"
        },
        "id": "I7F81P18QNg6",
        "outputId": "cb6f6587-123f-48e8-fddd-9ade34b6f2cc"
      },
      "execution_count": null,
      "outputs": [
        {
          "output_type": "stream",
          "name": "stdout",
          "text": [
            "True\n",
            "False\n"
          ]
        }
      ]
    },
    {
      "cell_type": "code",
      "source": [
        "sp = ' '\n",
        "print(sp.isspace())"
      ],
      "metadata": {
        "colab": {
          "base_uri": "https://localhost:8080/"
        },
        "id": "nwqbhLCBRLXR",
        "outputId": "edade015-459b-4f6f-d13e-3f381a7a6bc9"
      },
      "execution_count": null,
      "outputs": [
        {
          "output_type": "stream",
          "name": "stdout",
          "text": [
            "True\n"
          ]
        }
      ]
    },
    {
      "cell_type": "code",
      "source": [
        "name2 = \"Chris Haroun\"\n",
        "print(name2.isspace())"
      ],
      "metadata": {
        "colab": {
          "base_uri": "https://localhost:8080/"
        },
        "id": "t3ybNd-QRXTJ",
        "outputId": "4b9c48d3-1b4b-45d7-eca1-c1b3de551f6a"
      },
      "execution_count": null,
      "outputs": [
        {
          "output_type": "stream",
          "name": "stdout",
          "text": [
            "False\n"
          ]
        }
      ]
    },
    {
      "cell_type": "code",
      "source": [
        "em = ''\n",
        "print(em.isspace())"
      ],
      "metadata": {
        "colab": {
          "base_uri": "https://localhost:8080/"
        },
        "id": "U9jUK6B7R0k6",
        "outputId": "c4d9f434-1bd7-441a-d0e3-9a028c97ba12"
      },
      "execution_count": null,
      "outputs": [
        {
          "output_type": "stream",
          "name": "stdout",
          "text": [
            "False\n"
          ]
        }
      ]
    },
    {
      "cell_type": "markdown",
      "source": [
        "#### **Exercise 8.2**"
      ],
      "metadata": {
        "id": "AEqD8__tSWXh"
      }
    },
    {
      "cell_type": "code",
      "source": [
        "jacks_name = \"Jack\"\n",
        "empty_glass_case = \" \"\n",
        "print(jacks_name.isalpha())\n",
        "print(empty_glass_case.isspace())"
      ],
      "metadata": {
        "colab": {
          "base_uri": "https://localhost:8080/"
        },
        "id": "3QRDhDzxSZaf",
        "outputId": "75bd3adb-a2f0-4814-b368-f2365eddbf3e"
      },
      "execution_count": null,
      "outputs": [
        {
          "output_type": "stream",
          "name": "stdout",
          "text": [
            "True\n",
            "True\n"
          ]
        }
      ]
    },
    {
      "cell_type": "markdown",
      "source": [
        "### **Advanced String Operations**"
      ],
      "metadata": {
        "id": "D5ZHIIJfTVLx"
      }
    },
    {
      "cell_type": "markdown",
      "source": [
        "\"Split\" method is used to split the strings into several fragments."
      ],
      "metadata": {
        "id": "dOA7HpYZWA4H"
      }
    },
    {
      "cell_type": "code",
      "source": [
        "name = \"Darth Vader\"\n",
        "x= name.split(\" \")\n",
        "print(x)\n",
        "print(type(x))"
      ],
      "metadata": {
        "colab": {
          "base_uri": "https://localhost:8080/"
        },
        "id": "31LlQNE2TZBd",
        "outputId": "7ad43f02-2fc9-4f6e-f148-101fdddfef9f"
      },
      "execution_count": null,
      "outputs": [
        {
          "output_type": "stream",
          "name": "stdout",
          "text": [
            "['Darth', 'Vader']\n",
            "<class 'list'>\n"
          ]
        }
      ]
    },
    {
      "cell_type": "code",
      "source": [
        "v = \"bear/carry/hold/contain\"\n",
        "x = v.split(\"/\")\n",
        "print(x)"
      ],
      "metadata": {
        "colab": {
          "base_uri": "https://localhost:8080/"
        },
        "id": "TOM_gqqKUNy5",
        "outputId": "ad649d8c-d363-4ba3-efde-ab40434a79d4"
      },
      "execution_count": null,
      "outputs": [
        {
          "output_type": "stream",
          "name": "stdout",
          "text": [
            "['bear', 'carry', 'hold', 'contain']\n"
          ]
        }
      ]
    },
    {
      "cell_type": "markdown",
      "source": [
        "The second argument in the \"split\" method defines after how many occurances of the first argument the string won't be split anymore."
      ],
      "metadata": {
        "id": "59Z4pxD-WMwW"
      }
    },
    {
      "cell_type": "code",
      "source": [
        "x=v.split(\"/\",1)\n",
        "print(x)\n",
        "x=v.split(\"/\",2)\n",
        "print(x)"
      ],
      "metadata": {
        "colab": {
          "base_uri": "https://localhost:8080/"
        },
        "id": "N3FWveXLUn-Y",
        "outputId": "3ae9fa13-ca8b-4270-ff52-d02314926fb6"
      },
      "execution_count": null,
      "outputs": [
        {
          "output_type": "stream",
          "name": "stdout",
          "text": [
            "['bear', 'carry/hold/contain']\n",
            "['bear', 'carry', 'hold/contain']\n"
          ]
        }
      ]
    },
    {
      "cell_type": "markdown",
      "source": [
        "\"splitlines\" method is used to split a string based on the occurances of \"\\n\". (Recall that \"\\n\" means \"line break\" in Python)"
      ],
      "metadata": {
        "id": "jKLbl8I0XBWH"
      }
    },
    {
      "cell_type": "code",
      "source": [
        "m='aghaghag\\nagtoagtoiafjoa\\noaigeighahg'\n",
        "print(m.splitlines())"
      ],
      "metadata": {
        "colab": {
          "base_uri": "https://localhost:8080/"
        },
        "id": "AvOnOnQoXMRq",
        "outputId": "124af160-2ae1-4419-8c5e-455eb7862747"
      },
      "execution_count": null,
      "outputs": [
        {
          "output_type": "stream",
          "name": "stdout",
          "text": [
            "['aghaghag', 'agtoagtoiafjoa', 'oaigeighahg']\n"
          ]
        }
      ]
    },
    {
      "cell_type": "markdown",
      "source": [
        "\"join\" method is used to join the elements of a tuple."
      ],
      "metadata": {
        "id": "87pe-VjTX7ru"
      }
    },
    {
      "cell_type": "code",
      "source": [
        "name=(\"Christopher\",\"Haroun\")\n",
        "print(\"Andrew\".join(name))"
      ],
      "metadata": {
        "colab": {
          "base_uri": "https://localhost:8080/"
        },
        "id": "EAebckNLYA_6",
        "outputId": "6690552f-7213-4599-b1a9-88040cde3358"
      },
      "execution_count": null,
      "outputs": [
        {
          "output_type": "stream",
          "name": "stdout",
          "text": [
            "ChristopherAndrewHaroun\n"
          ]
        }
      ]
    },
    {
      "cell_type": "markdown",
      "source": [
        "\"strip\" method is used to eliminate a character or string from a string."
      ],
      "metadata": {
        "id": "GRkJGWE6YWRO"
      }
    },
    {
      "cell_type": "code",
      "source": [
        "name=\"Chrisy\"\n",
        "print(name.strip(\"y\"))"
      ],
      "metadata": {
        "colab": {
          "base_uri": "https://localhost:8080/"
        },
        "id": "XZI50yigYfNt",
        "outputId": "adcf50f2-48e8-4f27-9015-9049211458b2"
      },
      "execution_count": null,
      "outputs": [
        {
          "output_type": "stream",
          "name": "stdout",
          "text": [
            "Chris\n"
          ]
        }
      ]
    },
    {
      "cell_type": "markdown",
      "source": [
        "\"strip\" method with no argument removes spaces before and after a string."
      ],
      "metadata": {
        "id": "1XoAyhN1Yzke"
      }
    },
    {
      "cell_type": "code",
      "source": [
        "name = \"   Chris Haroun   \"\n",
        "print(name.strip())"
      ],
      "metadata": {
        "colab": {
          "base_uri": "https://localhost:8080/"
        },
        "id": "TLD_IwnBY6CS",
        "outputId": "3c1f03c3-e1ec-4542-8d2a-49ad3d6ea08b"
      },
      "execution_count": null,
      "outputs": [
        {
          "output_type": "stream",
          "name": "stdout",
          "text": [
            "Chris Haroun\n"
          ]
        }
      ]
    },
    {
      "cell_type": "markdown",
      "source": [
        "\"rstrip\" and \"lstrip\" function similar to \"strip\", except that they remove the elements on the right and the left of the string only, respectively."
      ],
      "metadata": {
        "id": "1rKO_H3UZM_G"
      }
    },
    {
      "cell_type": "code",
      "source": [
        "print(name.rstrip())\n",
        "print(name.lstrip())"
      ],
      "metadata": {
        "colab": {
          "base_uri": "https://localhost:8080/"
        },
        "id": "CuHS3uDQZYVh",
        "outputId": "18c5906c-815c-44cf-f31b-c9a1fdd2c69d"
      },
      "execution_count": null,
      "outputs": [
        {
          "output_type": "stream",
          "name": "stdout",
          "text": [
            "   Chris Haroun\n",
            "Chris Haroun   \n"
          ]
        }
      ]
    },
    {
      "cell_type": "markdown",
      "source": [
        "\"find\" method gets the position of the first occurance of a character or string in a string."
      ],
      "metadata": {
        "id": "hHjcHBCoaTn_"
      }
    },
    {
      "cell_type": "code",
      "source": [
        "print(\"Darth Vader\".find(\"r\"))\n",
        "print(\"Darth Vader\".find(\"Vader\"))"
      ],
      "metadata": {
        "colab": {
          "base_uri": "https://localhost:8080/"
        },
        "id": "OA0cRTLKaZV5",
        "outputId": "15574432-0cad-4d6e-c544-cdd3cbd8a20c"
      },
      "execution_count": null,
      "outputs": [
        {
          "output_type": "stream",
          "name": "stdout",
          "text": [
            "2\n",
            "6\n"
          ]
        }
      ]
    },
    {
      "cell_type": "markdown",
      "source": [
        "If the string or character is not found, it returns -1."
      ],
      "metadata": {
        "id": "G86_n2R_bI1e"
      }
    },
    {
      "cell_type": "code",
      "source": [
        "print(\"Darth Vader\".find(\"yoda\"))"
      ],
      "metadata": {
        "colab": {
          "base_uri": "https://localhost:8080/"
        },
        "id": "8xhtP6kobOdF",
        "outputId": "54f65a46-a005-4743-832e-4cf2266cbdfc"
      },
      "execution_count": null,
      "outputs": [
        {
          "output_type": "stream",
          "name": "stdout",
          "text": [
            "-1\n"
          ]
        }
      ]
    },
    {
      "cell_type": "markdown",
      "source": [
        "Two more arguments, which should be numerical, can be used in it. The first one defines the position of starting the counting and the second one defines the position before which the counting should end."
      ],
      "metadata": {
        "id": "F4zVwViobkPd"
      }
    },
    {
      "cell_type": "code",
      "source": [
        "print(\"Darth Vader\".find(\"r\",6,11)) # start at 6 and end before 11"
      ],
      "metadata": {
        "colab": {
          "base_uri": "https://localhost:8080/"
        },
        "id": "wODKm7x-cBsZ",
        "outputId": "f0fb7ed9-a4c3-4720-e726-d23b397c06f9"
      },
      "execution_count": null,
      "outputs": [
        {
          "output_type": "stream",
          "name": "stdout",
          "text": [
            "10\n"
          ]
        }
      ]
    },
    {
      "cell_type": "markdown",
      "source": [
        "\"index\" method works the same as \"find\", except that it raises an error when it can't find the character or string defined by the user."
      ],
      "metadata": {
        "id": "cKDUK_x1cfeW"
      }
    },
    {
      "cell_type": "code",
      "source": [
        "print(\"Darth Vader\".index(\"r\"))"
      ],
      "metadata": {
        "colab": {
          "base_uri": "https://localhost:8080/"
        },
        "id": "y9cKEJeXcvUB",
        "outputId": "cd47e4ab-b150-4167-cbde-46a0edf4fc50"
      },
      "execution_count": null,
      "outputs": [
        {
          "output_type": "stream",
          "name": "stdout",
          "text": [
            "2\n"
          ]
        }
      ]
    },
    {
      "cell_type": "code",
      "source": [
        "print(\"Darth Vader\".index(\"yoda\"))"
      ],
      "metadata": {
        "colab": {
          "base_uri": "https://localhost:8080/",
          "height": 141
        },
        "id": "CyJNDW3lc1Xs",
        "outputId": "c6b58c9b-1f9e-4415-970f-1ebae6b8706c"
      },
      "execution_count": null,
      "outputs": [
        {
          "output_type": "error",
          "ename": "ValueError",
          "evalue": "substring not found",
          "traceback": [
            "\u001b[0;31m---------------------------------------------------------------------------\u001b[0m",
            "\u001b[0;31mValueError\u001b[0m                                Traceback (most recent call last)",
            "\u001b[0;32m<ipython-input-51-8ac1b0bf8fd3>\u001b[0m in \u001b[0;36m<cell line: 1>\u001b[0;34m()\u001b[0m\n\u001b[0;32m----> 1\u001b[0;31m \u001b[0mprint\u001b[0m\u001b[0;34m(\u001b[0m\u001b[0;34m\"Darth Vader\"\u001b[0m\u001b[0;34m.\u001b[0m\u001b[0mindex\u001b[0m\u001b[0;34m(\u001b[0m\u001b[0;34m\"yoda\"\u001b[0m\u001b[0;34m)\u001b[0m\u001b[0;34m)\u001b[0m\u001b[0;34m\u001b[0m\u001b[0;34m\u001b[0m\u001b[0m\n\u001b[0m",
            "\u001b[0;31mValueError\u001b[0m: substring not found"
          ]
        }
      ]
    },
    {
      "cell_type": "markdown",
      "source": [
        "\"replace\" method is used to replace a string or character with another string or character."
      ],
      "metadata": {
        "id": "gSu5IIZKdNm1"
      }
    },
    {
      "cell_type": "code",
      "source": [
        "name = \"Luka Skywalker\"\n",
        "print(name.replace(\"Luka\",\"Anakin\"))"
      ],
      "metadata": {
        "colab": {
          "base_uri": "https://localhost:8080/"
        },
        "id": "yhuMjACGdUFh",
        "outputId": "a97b0615-d9ff-474d-af96-f2a8dce1b065"
      },
      "execution_count": null,
      "outputs": [
        {
          "output_type": "stream",
          "name": "stdout",
          "text": [
            "Anakin Skywalker\n"
          ]
        }
      ]
    },
    {
      "cell_type": "markdown",
      "source": [
        "\"count\" method also takes two more arguments like \"find\", and their function is also similar to the extra two arguments in \"find\"."
      ],
      "metadata": {
        "id": "vnhIvZVBd2iW"
      }
    },
    {
      "cell_type": "code",
      "source": [
        "print(name.count(\"a\")) # total number of \"a\"s in the whole name\n",
        "print(name.count(\"a\",0,5)) # total number of \"a\"s in the first five characters of the name"
      ],
      "metadata": {
        "colab": {
          "base_uri": "https://localhost:8080/"
        },
        "id": "kXKH4ndReGhp",
        "outputId": "de6d9542-d3a7-4deb-9416-5474f96e4467"
      },
      "execution_count": null,
      "outputs": [
        {
          "output_type": "stream",
          "name": "stdout",
          "text": [
            "2\n",
            "1\n"
          ]
        }
      ]
    },
    {
      "cell_type": "markdown",
      "source": [
        "\"startswith\" methods returns \"true\" or \"false\" based on that the string starts with the character or string defined by the user."
      ],
      "metadata": {
        "id": "eeJnoMjIeafN"
      }
    },
    {
      "cell_type": "code",
      "source": [
        "print(name.startswith(\"Luka\"))\n",
        "print(name.startswith(\"Darth\"))"
      ],
      "metadata": {
        "colab": {
          "base_uri": "https://localhost:8080/"
        },
        "id": "rmfS9OLRexKY",
        "outputId": "7b6bbcc4-a0d6-4445-986b-c1e65fb351a0"
      },
      "execution_count": null,
      "outputs": [
        {
          "output_type": "stream",
          "name": "stdout",
          "text": [
            "True\n",
            "False\n"
          ]
        }
      ]
    },
    {
      "cell_type": "markdown",
      "source": [
        "\"endswith\" functions similar to \"startswith\", except that it checks the end."
      ],
      "metadata": {
        "id": "34RyEj9afBXV"
      }
    },
    {
      "cell_type": "code",
      "source": [
        "print(name.endswith(\"ker\"))\n",
        "print(name.endswith(\"Vader\"))"
      ],
      "metadata": {
        "colab": {
          "base_uri": "https://localhost:8080/"
        },
        "id": "ZC9u3dSffKJA",
        "outputId": "ee48603f-15d1-4eb5-e12f-26f2de2fe0f2"
      },
      "execution_count": null,
      "outputs": [
        {
          "output_type": "stream",
          "name": "stdout",
          "text": [
            "True\n",
            "False\n"
          ]
        }
      ]
    },
    {
      "cell_type": "markdown",
      "source": [
        "#### **Exercise 8.3**"
      ],
      "metadata": {
        "id": "-VycQJmkfYx8"
      }
    },
    {
      "cell_type": "code",
      "source": [
        "name1 = \"Princess Leia\"\n",
        "print(name1.split())"
      ],
      "metadata": {
        "colab": {
          "base_uri": "https://localhost:8080/"
        },
        "id": "rDqpt9iefbC6",
        "outputId": "faa882f0-6ee8-4101-ef8e-04ef08589ab9"
      },
      "execution_count": null,
      "outputs": [
        {
          "output_type": "stream",
          "name": "stdout",
          "text": [
            "['Princess', 'Leia']\n"
          ]
        }
      ]
    },
    {
      "cell_type": "code",
      "source": [
        "name2 = \"Baby Yoda\"\n",
        "print(name2.lstrip(\"Baby \"))\n",
        "print(name2.replace(\"Baby\",\"Master\"))"
      ],
      "metadata": {
        "colab": {
          "base_uri": "https://localhost:8080/"
        },
        "id": "r9jP2M9hfsfb",
        "outputId": "16d68710-e2bb-445c-f04d-0c91164436e6"
      },
      "execution_count": null,
      "outputs": [
        {
          "output_type": "stream",
          "name": "stdout",
          "text": [
            "Yoda\n",
            "Master Yoda\n"
          ]
        }
      ]
    },
    {
      "cell_type": "markdown",
      "source": [
        "## **Lambda Functions & Map**"
      ],
      "metadata": {
        "id": "f99gMbalgruU"
      }
    },
    {
      "cell_type": "markdown",
      "source": [
        "Conventionally, if we want to make a list of squares of a given list, we do it in the following way."
      ],
      "metadata": {
        "id": "NRkdGAJfd4jA"
      }
    },
    {
      "cell_type": "code",
      "source": [
        "example_list=[1,2,3,4,5]"
      ],
      "metadata": {
        "id": "GXYBlkQPgwbG"
      },
      "execution_count": null,
      "outputs": []
    },
    {
      "cell_type": "code",
      "source": [
        "def square(x):\n",
        "  return x**2"
      ],
      "metadata": {
        "id": "GP23nki7eJGw"
      },
      "execution_count": null,
      "outputs": []
    },
    {
      "cell_type": "code",
      "source": [
        "new_list=[]\n",
        "for i in example_list:\n",
        "  new_list.append(square(i))"
      ],
      "metadata": {
        "id": "y6oBAwqAeM6_"
      },
      "execution_count": null,
      "outputs": []
    },
    {
      "cell_type": "code",
      "source": [
        "new_list"
      ],
      "metadata": {
        "colab": {
          "base_uri": "https://localhost:8080/"
        },
        "id": "a3lQubkOeb43",
        "outputId": "cc7854b5-398c-40a8-d861-88ad73cb112d"
      },
      "execution_count": null,
      "outputs": [
        {
          "output_type": "execute_result",
          "data": {
            "text/plain": [
              "[1, 4, 9, 16, 25]"
            ]
          },
          "metadata": {},
          "execution_count": 4
        }
      ]
    },
    {
      "cell_type": "markdown",
      "source": [
        "We can do the same using \"lambda\" and \"map\" functions using only a single line of code."
      ],
      "metadata": {
        "id": "-3C8-EbfegLf"
      }
    },
    {
      "cell_type": "code",
      "source": [
        "lambda x:x**2"
      ],
      "metadata": {
        "colab": {
          "base_uri": "https://localhost:8080/"
        },
        "id": "2DB_isFgenEn",
        "outputId": "fa3ecabc-dd8e-46c7-fcdd-48002dcd2abf"
      },
      "execution_count": null,
      "outputs": [
        {
          "output_type": "execute_result",
          "data": {
            "text/plain": [
              "<function __main__.<lambda>(x)>"
            ]
          },
          "metadata": {},
          "execution_count": 8
        }
      ]
    },
    {
      "cell_type": "markdown",
      "source": [
        "The format to define a function using \"lambda\" is - \"lambda input:function\". Instead of using \"def\", this technique can be used as well to produce the same result."
      ],
      "metadata": {
        "id": "bBH0ABCfhG_W"
      }
    },
    {
      "cell_type": "markdown",
      "source": [
        "\"map\" takes a function as the first argument and an iterable as the second argument."
      ],
      "metadata": {
        "id": "817Hszz8guYW"
      }
    },
    {
      "cell_type": "code",
      "source": [
        "map(lambda x:x**2,example_list)"
      ],
      "metadata": {
        "colab": {
          "base_uri": "https://localhost:8080/"
        },
        "id": "uSEWLquXhmxG",
        "outputId": "bdfcf23d-eb74-4747-9f9a-ce7da37affc9"
      },
      "execution_count": null,
      "outputs": [
        {
          "output_type": "execute_result",
          "data": {
            "text/plain": [
              "<map at 0x7d3996073e20>"
            ]
          },
          "metadata": {},
          "execution_count": 6
        }
      ]
    },
    {
      "cell_type": "markdown",
      "source": [
        "To see the final result, we should place the whole thing in a list. (Note that the above two code cells containing \"lambda\" and \"map\" functions are to explain the mechanisms of the two functions only, the necessary line of code is in the following cell.)"
      ],
      "metadata": {
        "id": "zabtjANAhwni"
      }
    },
    {
      "cell_type": "code",
      "source": [
        "list(map(lambda x:x**2,example_list))"
      ],
      "metadata": {
        "colab": {
          "base_uri": "https://localhost:8080/"
        },
        "id": "ejHBJ4kLhsTG",
        "outputId": "4a67508b-ad03-48d6-ab94-79c89f475736"
      },
      "execution_count": null,
      "outputs": [
        {
          "output_type": "execute_result",
          "data": {
            "text/plain": [
              "[1, 4, 9, 16, 25]"
            ]
          },
          "metadata": {},
          "execution_count": 9
        }
      ]
    },
    {
      "cell_type": "markdown",
      "source": [
        "And thus we can get the result of a 4/5 line code in a single line only !!!"
      ],
      "metadata": {
        "id": "aRGvSH_9iPm1"
      }
    },
    {
      "cell_type": "markdown",
      "source": [
        "Now let's try a new example. Calculate the sum of each tuple in a list."
      ],
      "metadata": {
        "id": "0I8NL8-goaHi"
      }
    },
    {
      "cell_type": "code",
      "source": [
        "second_list=[(1,2,3),(4,5,6)]\n",
        "list(map(lambda x:x[0]+x[1]+x[2],second_list))"
      ],
      "metadata": {
        "colab": {
          "base_uri": "https://localhost:8080/"
        },
        "id": "uoIQ1BeeiYth",
        "outputId": "a7da7218-49d2-4e94-b1bb-bf0204c046e5"
      },
      "execution_count": null,
      "outputs": [
        {
          "output_type": "execute_result",
          "data": {
            "text/plain": [
              "[6, 15]"
            ]
          },
          "metadata": {},
          "execution_count": 10
        }
      ]
    },
    {
      "cell_type": "markdown",
      "source": [
        "## **Recursion**"
      ],
      "metadata": {
        "id": "-LW1ZdpTcefG"
      }
    },
    {
      "cell_type": "markdown",
      "source": [
        "Recursion means calling a function within that same function repetitively.\n",
        "Let's understand this with an example - factorial of a number."
      ],
      "metadata": {
        "id": "mKBWsnXzdURm"
      }
    },
    {
      "cell_type": "code",
      "source": [
        "def factorial(n):\n",
        "  if n==0:\n",
        "    return 1\n",
        "  else:\n",
        "    return n*factorial(n-1)"
      ],
      "metadata": {
        "id": "ET7b1x66cgY2"
      },
      "execution_count": null,
      "outputs": []
    },
    {
      "cell_type": "markdown",
      "source": [
        "# Level 8 Final Exercise: Customer Support Chat Log Analysis\n",
        "\n",
        "## Objective\n",
        "You've been hired by an e-commerce company to analyze their customer support chat logs. They want you to create a tool that summarizes the types of support issues raised by customers. The tool should also allow for keyword searches within the logs.\n",
        "\n",
        "## Instructions\n",
        "\n",
        "1. Create a function `categorize_issues` that takes the `chat_logs` list and returns a dictionary categorizing the issues by type.\n",
        "2. Create a function `keyword_search` that takes a keyword and the `chat_logs` list and returns all messages containing that keyword, ignoring case.\n",
        "3. Display the categorized issues and allow the user to perform keyword searches.\n"
      ],
      "metadata": {
        "id": "CtUswjU6f_l-"
      }
    },
    {
      "cell_type": "code",
      "source": [
        "# Step 0: Sample chat logs\n",
        "chat_logs = [\n",
        "    \"My order is delayed\",\n",
        "    \"I want to return my purchase\",\n",
        "    \"The app is crashing frequently\",\n",
        "    \"Payment issues, please help\",\n",
        "    \"Need help with account recovery\",\n",
        "    \"Delivery was incomplete\",\n",
        "    \"Can't login to my account\",\n",
        "    \"Having trouble with checkout\"\n",
        "]\n",
        "categories = {\"Order\": 0, \"App\": 0, \"Payment\": 0, \"Account\": 0, \"Delivery\": 0}\n",
        "# Step 1: Function to categorize issues\n",
        "def categorize_issues(chat_logs):\n",
        "  for message in chat_logs:\n",
        "    for category in categories.keys():\n",
        "      if category.lower() in message.lower():\n",
        "        categories[category]+=1\n",
        "  return categories\n",
        "\n",
        "# Step 2: Function to search by keyword\n",
        "def keyword_search(keyword, chat_logs):\n",
        "  result = []\n",
        "  for message in chat_logs:\n",
        "    if keyword.lower() in message.lower():\n",
        "      result.append(message)\n",
        "  return result\n",
        "\n",
        "# Step 3: Display and search\n",
        "print(categories)\n",
        "print(categorize_issues(chat_logs))\n",
        "keyword = input(\"Enter the search keyword: \")\n",
        "print(keyword_search(keyword, chat_logs))"
      ],
      "metadata": {
        "colab": {
          "base_uri": "https://localhost:8080/"
        },
        "id": "jj847jDwgAE1",
        "outputId": "86276d26-4485-429f-815e-8afe56797ece"
      },
      "execution_count": 5,
      "outputs": [
        {
          "output_type": "stream",
          "name": "stdout",
          "text": [
            "{'Order': 0, 'App': 0, 'Payment': 0, 'Account': 0, 'Delivery': 0}\n",
            "{'Order': 1, 'App': 1, 'Payment': 1, 'Account': 2, 'Delivery': 1}\n",
            "Enter the search keyword: app\n",
            "['The app is crashing frequently']\n"
          ]
        }
      ]
    }
  ]
}