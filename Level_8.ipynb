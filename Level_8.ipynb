{
  "nbformat": 4,
  "nbformat_minor": 0,
  "metadata": {
    "colab": {
      "provenance": [],
      "include_colab_link": true
    },
    "kernelspec": {
      "name": "python3",
      "display_name": "Python 3"
    },
    "language_info": {
      "name": "python"
    }
  },
  "cells": [
    {
      "cell_type": "markdown",
      "metadata": {
        "id": "view-in-github",
        "colab_type": "text"
      },
      "source": [
        "<a href=\"https://colab.research.google.com/github/nayem-uddin/udemy-python-course/blob/main/Level_8.ipynb\" target=\"_parent\"><img src=\"https://colab.research.google.com/assets/colab-badge.svg\" alt=\"Open In Colab\"/></a>"
      ]
    },
    {
      "cell_type": "markdown",
      "source": [
        "## **Methods**"
      ],
      "metadata": {
        "id": "N51w5VyoA-W7"
      }
    },
    {
      "cell_type": "markdown",
      "source": [
        "Methods are used to modify a variable."
      ],
      "metadata": {
        "id": "KGIxyTUHMY6z"
      }
    },
    {
      "cell_type": "code",
      "execution_count": null,
      "metadata": {
        "colab": {
          "base_uri": "https://localhost:8080/"
        },
        "id": "MiF5nvWLAZ7n",
        "outputId": "3ecd22a2-7dec-4bd1-c7fe-0479e7324cf0"
      },
      "outputs": [
        {
          "output_type": "stream",
          "name": "stdout",
          "text": [
            "REY\n"
          ]
        },
        {
          "output_type": "execute_result",
          "data": {
            "text/plain": [
              "['__add__',\n",
              " '__class__',\n",
              " '__contains__',\n",
              " '__delattr__',\n",
              " '__dir__',\n",
              " '__doc__',\n",
              " '__eq__',\n",
              " '__format__',\n",
              " '__ge__',\n",
              " '__getattribute__',\n",
              " '__getitem__',\n",
              " '__getnewargs__',\n",
              " '__gt__',\n",
              " '__hash__',\n",
              " '__init__',\n",
              " '__init_subclass__',\n",
              " '__iter__',\n",
              " '__le__',\n",
              " '__len__',\n",
              " '__lt__',\n",
              " '__mod__',\n",
              " '__mul__',\n",
              " '__ne__',\n",
              " '__new__',\n",
              " '__reduce__',\n",
              " '__reduce_ex__',\n",
              " '__repr__',\n",
              " '__rmod__',\n",
              " '__rmul__',\n",
              " '__setattr__',\n",
              " '__sizeof__',\n",
              " '__str__',\n",
              " '__subclasshook__',\n",
              " 'capitalize',\n",
              " 'casefold',\n",
              " 'center',\n",
              " 'count',\n",
              " 'encode',\n",
              " 'endswith',\n",
              " 'expandtabs',\n",
              " 'find',\n",
              " 'format',\n",
              " 'format_map',\n",
              " 'index',\n",
              " 'isalnum',\n",
              " 'isalpha',\n",
              " 'isascii',\n",
              " 'isdecimal',\n",
              " 'isdigit',\n",
              " 'isidentifier',\n",
              " 'islower',\n",
              " 'isnumeric',\n",
              " 'isprintable',\n",
              " 'isspace',\n",
              " 'istitle',\n",
              " 'isupper',\n",
              " 'join',\n",
              " 'ljust',\n",
              " 'lower',\n",
              " 'lstrip',\n",
              " 'maketrans',\n",
              " 'partition',\n",
              " 'removeprefix',\n",
              " 'removesuffix',\n",
              " 'replace',\n",
              " 'rfind',\n",
              " 'rindex',\n",
              " 'rjust',\n",
              " 'rpartition',\n",
              " 'rsplit',\n",
              " 'rstrip',\n",
              " 'split',\n",
              " 'splitlines',\n",
              " 'startswith',\n",
              " 'strip',\n",
              " 'swapcase',\n",
              " 'title',\n",
              " 'translate',\n",
              " 'upper',\n",
              " 'zfill']"
            ]
          },
          "metadata": {},
          "execution_count": 3
        }
      ],
      "source": [
        "name = str(\"Rey\")\n",
        "print(name.upper())\n",
        "dir(name) # to see which methods we can use with the variable \"name\""
      ]
    },
    {
      "cell_type": "code",
      "source": [
        "print(name.lower())"
      ],
      "metadata": {
        "colab": {
          "base_uri": "https://localhost:8080/"
        },
        "id": "K7WC4VsQLdh8",
        "outputId": "adbed362-7ce9-4236-e68b-bd459a3214fd"
      },
      "execution_count": null,
      "outputs": [
        {
          "output_type": "stream",
          "name": "stdout",
          "text": [
            "rey\n"
          ]
        }
      ]
    },
    {
      "cell_type": "code",
      "source": [
        "print(name.count(\"y\")) # to see how many times \"y\" occurs in the name \"rey\""
      ],
      "metadata": {
        "colab": {
          "base_uri": "https://localhost:8080/"
        },
        "id": "dFeUrwQCLyFW",
        "outputId": "40bde8f8-a4de-4fe5-8ec0-b4ba6ebb9500"
      },
      "execution_count": null,
      "outputs": [
        {
          "output_type": "stream",
          "name": "stdout",
          "text": [
            "1\n"
          ]
        }
      ]
    },
    {
      "cell_type": "code",
      "source": [
        "print(name.replace(\"y\",\"d\"))"
      ],
      "metadata": {
        "colab": {
          "base_uri": "https://localhost:8080/"
        },
        "id": "74e265Y7ML4D",
        "outputId": "c6137a8a-5cef-4593-c255-796e78387f9c"
      },
      "execution_count": null,
      "outputs": [
        {
          "output_type": "stream",
          "name": "stdout",
          "text": [
            "Red\n"
          ]
        }
      ]
    },
    {
      "cell_type": "markdown",
      "source": [
        "#### **Exercise 8.1**"
      ],
      "metadata": {
        "id": "fD4H8xUoMi0r"
      }
    },
    {
      "cell_type": "code",
      "source": [
        "name = \"C3PO\"\n",
        "print(name.replace(\"C3PO\",\"R2D2\"))"
      ],
      "metadata": {
        "colab": {
          "base_uri": "https://localhost:8080/"
        },
        "id": "B_gc53F3MpoC",
        "outputId": "faf8f3e5-c8ae-4d2d-d1f5-4064df033e86"
      },
      "execution_count": null,
      "outputs": [
        {
          "output_type": "stream",
          "name": "stdout",
          "text": [
            "R2D2\n"
          ]
        }
      ]
    },
    {
      "cell_type": "code",
      "source": [],
      "metadata": {
        "colab": {
          "base_uri": "https://localhost:8080/"
        },
        "id": "WNn44vlBOwlL",
        "outputId": "6cac8d3f-0766-4b4c-a643-bf5ac4894670"
      },
      "execution_count": null,
      "outputs": [
        {
          "output_type": "stream",
          "name": "stdout",
          "text": [
            "1\n"
          ]
        }
      ]
    },
    {
      "cell_type": "markdown",
      "source": [
        "### **String Methods**"
      ],
      "metadata": {
        "id": "vaQaMGfkPSyG"
      }
    },
    {
      "cell_type": "markdown",
      "source": [
        "* \"isdigit\" method is used to check if the variable is numeric.\n",
        "* \"isalpha\" method is used to check if the variable is alphabetic.\n",
        "* \"isspace\" method is used to check if the variable contains only a space and nothing else (\"contains space\" doesn't mean the variable is empty).\n",
        "\n"
      ],
      "metadata": {
        "id": "-Vga9H9nUvpo"
      }
    },
    {
      "cell_type": "code",
      "source": [
        "name = \"chris\"\n",
        "print(name.upper())\n",
        "print(name.isdigit())\n",
        "print(name.isalpha())\n",
        "print(name.isspace())"
      ],
      "metadata": {
        "colab": {
          "base_uri": "https://localhost:8080/"
        },
        "id": "wk3n_4d1PVTB",
        "outputId": "e1a7aa8d-d315-41dc-990b-92618e06fe4e"
      },
      "execution_count": null,
      "outputs": [
        {
          "output_type": "stream",
          "name": "stdout",
          "text": [
            "CHRIS\n",
            "False\n",
            "True\n",
            "False\n"
          ]
        }
      ]
    },
    {
      "cell_type": "code",
      "source": [
        "digval=\"51\"\n",
        "print(digval.isdigit())\n",
        "print(digval.isalpha())"
      ],
      "metadata": {
        "colab": {
          "base_uri": "https://localhost:8080/"
        },
        "id": "I7F81P18QNg6",
        "outputId": "cb6f6587-123f-48e8-fddd-9ade34b6f2cc"
      },
      "execution_count": null,
      "outputs": [
        {
          "output_type": "stream",
          "name": "stdout",
          "text": [
            "True\n",
            "False\n"
          ]
        }
      ]
    },
    {
      "cell_type": "code",
      "source": [
        "sp = ' '\n",
        "print(sp.isspace())"
      ],
      "metadata": {
        "colab": {
          "base_uri": "https://localhost:8080/"
        },
        "id": "nwqbhLCBRLXR",
        "outputId": "edade015-459b-4f6f-d13e-3f381a7a6bc9"
      },
      "execution_count": null,
      "outputs": [
        {
          "output_type": "stream",
          "name": "stdout",
          "text": [
            "True\n"
          ]
        }
      ]
    },
    {
      "cell_type": "code",
      "source": [
        "name2 = \"Chris Haroun\"\n",
        "print(name2.isspace())"
      ],
      "metadata": {
        "colab": {
          "base_uri": "https://localhost:8080/"
        },
        "id": "t3ybNd-QRXTJ",
        "outputId": "4b9c48d3-1b4b-45d7-eca1-c1b3de551f6a"
      },
      "execution_count": null,
      "outputs": [
        {
          "output_type": "stream",
          "name": "stdout",
          "text": [
            "False\n"
          ]
        }
      ]
    },
    {
      "cell_type": "code",
      "source": [
        "em = ''\n",
        "print(em.isspace())"
      ],
      "metadata": {
        "colab": {
          "base_uri": "https://localhost:8080/"
        },
        "id": "U9jUK6B7R0k6",
        "outputId": "c4d9f434-1bd7-441a-d0e3-9a028c97ba12"
      },
      "execution_count": null,
      "outputs": [
        {
          "output_type": "stream",
          "name": "stdout",
          "text": [
            "False\n"
          ]
        }
      ]
    },
    {
      "cell_type": "markdown",
      "source": [
        "#### **Exercise 8.2**"
      ],
      "metadata": {
        "id": "AEqD8__tSWXh"
      }
    },
    {
      "cell_type": "code",
      "source": [
        "jacks_name = \"Jack\"\n",
        "empty_glass_case = \" \"\n",
        "print(jacks_name.isalpha())\n",
        "print(empty_glass_case.isspace())"
      ],
      "metadata": {
        "colab": {
          "base_uri": "https://localhost:8080/"
        },
        "id": "3QRDhDzxSZaf",
        "outputId": "75bd3adb-a2f0-4814-b368-f2365eddbf3e"
      },
      "execution_count": null,
      "outputs": [
        {
          "output_type": "stream",
          "name": "stdout",
          "text": [
            "True\n",
            "True\n"
          ]
        }
      ]
    },
    {
      "cell_type": "markdown",
      "source": [
        "### **Advanced String Operations**"
      ],
      "metadata": {
        "id": "D5ZHIIJfTVLx"
      }
    },
    {
      "cell_type": "markdown",
      "source": [
        "\"Split\" method is used to split the strings into several fragments."
      ],
      "metadata": {
        "id": "dOA7HpYZWA4H"
      }
    },
    {
      "cell_type": "code",
      "source": [
        "name = \"Darth Vader\"\n",
        "x= name.split(\" \")\n",
        "print(x)\n",
        "print(type(x))"
      ],
      "metadata": {
        "colab": {
          "base_uri": "https://localhost:8080/"
        },
        "id": "31LlQNE2TZBd",
        "outputId": "7ad43f02-2fc9-4f6e-f148-101fdddfef9f"
      },
      "execution_count": null,
      "outputs": [
        {
          "output_type": "stream",
          "name": "stdout",
          "text": [
            "['Darth', 'Vader']\n",
            "<class 'list'>\n"
          ]
        }
      ]
    },
    {
      "cell_type": "code",
      "source": [
        "v = \"bear/carry/hold/contain\"\n",
        "x = v.split(\"/\")\n",
        "print(x)"
      ],
      "metadata": {
        "colab": {
          "base_uri": "https://localhost:8080/"
        },
        "id": "TOM_gqqKUNy5",
        "outputId": "ad649d8c-d363-4ba3-efde-ab40434a79d4"
      },
      "execution_count": null,
      "outputs": [
        {
          "output_type": "stream",
          "name": "stdout",
          "text": [
            "['bear', 'carry', 'hold', 'contain']\n"
          ]
        }
      ]
    },
    {
      "cell_type": "markdown",
      "source": [
        "The second argument in the \"split\" method defines after how many occurances of the first argument the string won't be split anymore."
      ],
      "metadata": {
        "id": "59Z4pxD-WMwW"
      }
    },
    {
      "cell_type": "code",
      "source": [
        "x=v.split(\"/\",1)\n",
        "print(x)\n",
        "x=v.split(\"/\",2)\n",
        "print(x)"
      ],
      "metadata": {
        "colab": {
          "base_uri": "https://localhost:8080/"
        },
        "id": "N3FWveXLUn-Y",
        "outputId": "3ae9fa13-ca8b-4270-ff52-d02314926fb6"
      },
      "execution_count": null,
      "outputs": [
        {
          "output_type": "stream",
          "name": "stdout",
          "text": [
            "['bear', 'carry/hold/contain']\n",
            "['bear', 'carry', 'hold/contain']\n"
          ]
        }
      ]
    },
    {
      "cell_type": "markdown",
      "source": [
        "\"splitlines\" method is used to split a string based on the occurances of \"\\n\". (Recall that \"\\n\" means \"line break\" in Python)"
      ],
      "metadata": {
        "id": "jKLbl8I0XBWH"
      }
    },
    {
      "cell_type": "code",
      "source": [
        "m='aghaghag\\nagtoagtoiafjoa\\noaigeighahg'\n",
        "print(m.splitlines())"
      ],
      "metadata": {
        "colab": {
          "base_uri": "https://localhost:8080/"
        },
        "id": "AvOnOnQoXMRq",
        "outputId": "124af160-2ae1-4419-8c5e-455eb7862747"
      },
      "execution_count": null,
      "outputs": [
        {
          "output_type": "stream",
          "name": "stdout",
          "text": [
            "['aghaghag', 'agtoagtoiafjoa', 'oaigeighahg']\n"
          ]
        }
      ]
    },
    {
      "cell_type": "markdown",
      "source": [
        "\"join\" method is used to join the elements of a tuple."
      ],
      "metadata": {
        "id": "87pe-VjTX7ru"
      }
    },
    {
      "cell_type": "code",
      "source": [
        "name=(\"Christopher\",\"Haroun\")\n",
        "print(\"Andrew\".join(name))"
      ],
      "metadata": {
        "colab": {
          "base_uri": "https://localhost:8080/"
        },
        "id": "EAebckNLYA_6",
        "outputId": "6690552f-7213-4599-b1a9-88040cde3358"
      },
      "execution_count": null,
      "outputs": [
        {
          "output_type": "stream",
          "name": "stdout",
          "text": [
            "ChristopherAndrewHaroun\n"
          ]
        }
      ]
    },
    {
      "cell_type": "markdown",
      "source": [
        "\"strip\" method is used to eliminate a character or string from a string."
      ],
      "metadata": {
        "id": "GRkJGWE6YWRO"
      }
    },
    {
      "cell_type": "code",
      "source": [
        "name=\"Chrisy\"\n",
        "print(name.strip(\"y\"))"
      ],
      "metadata": {
        "colab": {
          "base_uri": "https://localhost:8080/"
        },
        "id": "XZI50yigYfNt",
        "outputId": "adcf50f2-48e8-4f27-9015-9049211458b2"
      },
      "execution_count": null,
      "outputs": [
        {
          "output_type": "stream",
          "name": "stdout",
          "text": [
            "Chris\n"
          ]
        }
      ]
    },
    {
      "cell_type": "markdown",
      "source": [
        "\"strip\" method with no argument removes spaces before and after a string."
      ],
      "metadata": {
        "id": "1XoAyhN1Yzke"
      }
    },
    {
      "cell_type": "code",
      "source": [
        "name = \"   Chris Haroun   \"\n",
        "print(name.strip())"
      ],
      "metadata": {
        "colab": {
          "base_uri": "https://localhost:8080/"
        },
        "id": "TLD_IwnBY6CS",
        "outputId": "3c1f03c3-e1ec-4542-8d2a-49ad3d6ea08b"
      },
      "execution_count": null,
      "outputs": [
        {
          "output_type": "stream",
          "name": "stdout",
          "text": [
            "Chris Haroun\n"
          ]
        }
      ]
    },
    {
      "cell_type": "markdown",
      "source": [
        "\"rstrip\" and \"lstrip\" function similar to \"strip\", except that they remove the elements on the right and the left of the string only, respectively."
      ],
      "metadata": {
        "id": "1rKO_H3UZM_G"
      }
    },
    {
      "cell_type": "code",
      "source": [
        "print(name.rstrip())\n",
        "print(name.lstrip())"
      ],
      "metadata": {
        "colab": {
          "base_uri": "https://localhost:8080/"
        },
        "id": "CuHS3uDQZYVh",
        "outputId": "18c5906c-815c-44cf-f31b-c9a1fdd2c69d"
      },
      "execution_count": null,
      "outputs": [
        {
          "output_type": "stream",
          "name": "stdout",
          "text": [
            "   Chris Haroun\n",
            "Chris Haroun   \n"
          ]
        }
      ]
    },
    {
      "cell_type": "markdown",
      "source": [
        "\"find\" method gets the position of the first occurance of a character or string in a string."
      ],
      "metadata": {
        "id": "hHjcHBCoaTn_"
      }
    },
    {
      "cell_type": "code",
      "source": [
        "print(\"Darth Vader\".find(\"r\"))\n",
        "print(\"Darth Vader\".find(\"Vader\"))"
      ],
      "metadata": {
        "colab": {
          "base_uri": "https://localhost:8080/"
        },
        "id": "OA0cRTLKaZV5",
        "outputId": "15574432-0cad-4d6e-c544-cdd3cbd8a20c"
      },
      "execution_count": null,
      "outputs": [
        {
          "output_type": "stream",
          "name": "stdout",
          "text": [
            "2\n",
            "6\n"
          ]
        }
      ]
    },
    {
      "cell_type": "markdown",
      "source": [
        "If the string or character is not found, it returns -1."
      ],
      "metadata": {
        "id": "G86_n2R_bI1e"
      }
    },
    {
      "cell_type": "code",
      "source": [
        "print(\"Darth Vader\".find(\"yoda\"))"
      ],
      "metadata": {
        "colab": {
          "base_uri": "https://localhost:8080/"
        },
        "id": "8xhtP6kobOdF",
        "outputId": "54f65a46-a005-4743-832e-4cf2266cbdfc"
      },
      "execution_count": null,
      "outputs": [
        {
          "output_type": "stream",
          "name": "stdout",
          "text": [
            "-1\n"
          ]
        }
      ]
    },
    {
      "cell_type": "markdown",
      "source": [
        "Two more arguments, which should be numerical, can be used in it. The first one defines the position of starting the counting and the second one defines the position before which the counting should end."
      ],
      "metadata": {
        "id": "F4zVwViobkPd"
      }
    },
    {
      "cell_type": "code",
      "source": [
        "print(\"Darth Vader\".find(\"r\",6,11)) # start at 6 and end before 11"
      ],
      "metadata": {
        "colab": {
          "base_uri": "https://localhost:8080/"
        },
        "id": "wODKm7x-cBsZ",
        "outputId": "f0fb7ed9-a4c3-4720-e726-d23b397c06f9"
      },
      "execution_count": null,
      "outputs": [
        {
          "output_type": "stream",
          "name": "stdout",
          "text": [
            "10\n"
          ]
        }
      ]
    },
    {
      "cell_type": "markdown",
      "source": [
        "\"index\" method works the same as \"find\", except that it raises an error when it can't find the character or string defined by the user."
      ],
      "metadata": {
        "id": "cKDUK_x1cfeW"
      }
    },
    {
      "cell_type": "code",
      "source": [
        "print(\"Darth Vader\".index(\"r\"))"
      ],
      "metadata": {
        "colab": {
          "base_uri": "https://localhost:8080/"
        },
        "id": "y9cKEJeXcvUB",
        "outputId": "cd47e4ab-b150-4167-cbde-46a0edf4fc50"
      },
      "execution_count": null,
      "outputs": [
        {
          "output_type": "stream",
          "name": "stdout",
          "text": [
            "2\n"
          ]
        }
      ]
    },
    {
      "cell_type": "code",
      "source": [
        "print(\"Darth Vader\".index(\"yoda\"))"
      ],
      "metadata": {
        "colab": {
          "base_uri": "https://localhost:8080/",
          "height": 141
        },
        "id": "CyJNDW3lc1Xs",
        "outputId": "c6b58c9b-1f9e-4415-970f-1ebae6b8706c"
      },
      "execution_count": null,
      "outputs": [
        {
          "output_type": "error",
          "ename": "ValueError",
          "evalue": "substring not found",
          "traceback": [
            "\u001b[0;31m---------------------------------------------------------------------------\u001b[0m",
            "\u001b[0;31mValueError\u001b[0m                                Traceback (most recent call last)",
            "\u001b[0;32m<ipython-input-51-8ac1b0bf8fd3>\u001b[0m in \u001b[0;36m<cell line: 1>\u001b[0;34m()\u001b[0m\n\u001b[0;32m----> 1\u001b[0;31m \u001b[0mprint\u001b[0m\u001b[0;34m(\u001b[0m\u001b[0;34m\"Darth Vader\"\u001b[0m\u001b[0;34m.\u001b[0m\u001b[0mindex\u001b[0m\u001b[0;34m(\u001b[0m\u001b[0;34m\"yoda\"\u001b[0m\u001b[0;34m)\u001b[0m\u001b[0;34m)\u001b[0m\u001b[0;34m\u001b[0m\u001b[0;34m\u001b[0m\u001b[0m\n\u001b[0m",
            "\u001b[0;31mValueError\u001b[0m: substring not found"
          ]
        }
      ]
    },
    {
      "cell_type": "markdown",
      "source": [
        "\"replace\" method is used to replace a string or character with another string or character."
      ],
      "metadata": {
        "id": "gSu5IIZKdNm1"
      }
    },
    {
      "cell_type": "code",
      "source": [
        "name = \"Luka Skywalker\"\n",
        "print(name.replace(\"Luka\",\"Anakin\"))"
      ],
      "metadata": {
        "colab": {
          "base_uri": "https://localhost:8080/"
        },
        "id": "yhuMjACGdUFh",
        "outputId": "a97b0615-d9ff-474d-af96-f2a8dce1b065"
      },
      "execution_count": null,
      "outputs": [
        {
          "output_type": "stream",
          "name": "stdout",
          "text": [
            "Anakin Skywalker\n"
          ]
        }
      ]
    },
    {
      "cell_type": "markdown",
      "source": [
        "\"count\" method also takes two more arguments like \"find\", and their function is also similar to the extra two arguments in \"find\"."
      ],
      "metadata": {
        "id": "vnhIvZVBd2iW"
      }
    },
    {
      "cell_type": "code",
      "source": [
        "print(name.count(\"a\")) # total number of \"a\"s in the whole name\n",
        "print(name.count(\"a\",0,5)) # total number of \"a\"s in the first five characters of the name"
      ],
      "metadata": {
        "colab": {
          "base_uri": "https://localhost:8080/"
        },
        "id": "kXKH4ndReGhp",
        "outputId": "de6d9542-d3a7-4deb-9416-5474f96e4467"
      },
      "execution_count": null,
      "outputs": [
        {
          "output_type": "stream",
          "name": "stdout",
          "text": [
            "2\n",
            "1\n"
          ]
        }
      ]
    },
    {
      "cell_type": "markdown",
      "source": [
        "\"startswith\" methods returns \"true\" or \"false\" based on that the string starts with the character or string defined by the user."
      ],
      "metadata": {
        "id": "eeJnoMjIeafN"
      }
    },
    {
      "cell_type": "code",
      "source": [
        "print(name.startswith(\"Luka\"))\n",
        "print(name.startswith(\"Darth\"))"
      ],
      "metadata": {
        "colab": {
          "base_uri": "https://localhost:8080/"
        },
        "id": "rmfS9OLRexKY",
        "outputId": "7b6bbcc4-a0d6-4445-986b-c1e65fb351a0"
      },
      "execution_count": null,
      "outputs": [
        {
          "output_type": "stream",
          "name": "stdout",
          "text": [
            "True\n",
            "False\n"
          ]
        }
      ]
    },
    {
      "cell_type": "markdown",
      "source": [
        "\"endswith\" functions similar to \"startswith\", except that it checks the end."
      ],
      "metadata": {
        "id": "34RyEj9afBXV"
      }
    },
    {
      "cell_type": "code",
      "source": [
        "print(name.endswith(\"ker\"))\n",
        "print(name.endswith(\"Vader\"))"
      ],
      "metadata": {
        "colab": {
          "base_uri": "https://localhost:8080/"
        },
        "id": "ZC9u3dSffKJA",
        "outputId": "ee48603f-15d1-4eb5-e12f-26f2de2fe0f2"
      },
      "execution_count": null,
      "outputs": [
        {
          "output_type": "stream",
          "name": "stdout",
          "text": [
            "True\n",
            "False\n"
          ]
        }
      ]
    },
    {
      "cell_type": "markdown",
      "source": [
        "#### **Exercise 8.3**"
      ],
      "metadata": {
        "id": "-VycQJmkfYx8"
      }
    },
    {
      "cell_type": "code",
      "source": [
        "name1 = \"Princess Leia\"\n",
        "print(name1.split())"
      ],
      "metadata": {
        "colab": {
          "base_uri": "https://localhost:8080/"
        },
        "id": "rDqpt9iefbC6",
        "outputId": "faa882f0-6ee8-4101-ef8e-04ef08589ab9"
      },
      "execution_count": null,
      "outputs": [
        {
          "output_type": "stream",
          "name": "stdout",
          "text": [
            "['Princess', 'Leia']\n"
          ]
        }
      ]
    },
    {
      "cell_type": "code",
      "source": [
        "name2 = \"Baby Yoda\"\n",
        "print(name2.lstrip(\"Baby \"))\n",
        "print(name2.replace(\"Baby\",\"Master\"))"
      ],
      "metadata": {
        "colab": {
          "base_uri": "https://localhost:8080/"
        },
        "id": "r9jP2M9hfsfb",
        "outputId": "16d68710-e2bb-445c-f04d-0c91164436e6"
      },
      "execution_count": null,
      "outputs": [
        {
          "output_type": "stream",
          "name": "stdout",
          "text": [
            "Yoda\n",
            "Master Yoda\n"
          ]
        }
      ]
    },
    {
      "cell_type": "markdown",
      "source": [
        "## **Lambda Functions & Map**"
      ],
      "metadata": {
        "id": "f99gMbalgruU"
      }
    },
    {
      "cell_type": "code",
      "source": [],
      "metadata": {
        "id": "GXYBlkQPgwbG"
      },
      "execution_count": null,
      "outputs": []
    }
  ]
}