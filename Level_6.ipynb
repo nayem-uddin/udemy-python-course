{
  "nbformat": 4,
  "nbformat_minor": 0,
  "metadata": {
    "colab": {
      "provenance": [],
      "authorship_tag": "ABX9TyO6TMoDlKHPQuT2v5puJucd",
      "include_colab_link": true
    },
    "kernelspec": {
      "name": "python3",
      "display_name": "Python 3"
    },
    "language_info": {
      "name": "python"
    }
  },
  "cells": [
    {
      "cell_type": "markdown",
      "metadata": {
        "id": "view-in-github",
        "colab_type": "text"
      },
      "source": [
        "<a href=\"https://colab.research.google.com/github/nayem-uddin/udemy-python-course/blob/main/Level_6.ipynb\" target=\"_parent\"><img src=\"https://colab.research.google.com/assets/colab-badge.svg\" alt=\"Open In Colab\"/></a>"
      ]
    },
    {
      "cell_type": "markdown",
      "source": [
        "## **The IF-ELSE statement**"
      ],
      "metadata": {
        "id": "86SJeUyB-ewz"
      }
    },
    {
      "cell_type": "code",
      "execution_count": null,
      "metadata": {
        "colab": {
          "base_uri": "https://localhost:8080/"
        },
        "id": "sPClUZNO9bhz",
        "outputId": "b4f8e4c7-b87c-43b7-9c29-35ff3f57317a"
      },
      "outputs": [
        {
          "output_type": "stream",
          "name": "stdout",
          "text": [
            "What is the name of the Star Wars character? Yoda\n",
            "Is the character holding a lightsaber? yes\n",
            "Yoda is a Jedi.\n"
          ]
        }
      ],
      "source": [
        "name = input(\"What is the name of the Star Wars character? \")\n",
        "jedi_test = input(\"Is the character holding a lightsaber? \")\n",
        "if jedi_test == \"yes\":\n",
        "    print(name+\" is a Jedi.\")"
      ]
    },
    {
      "cell_type": "code",
      "source": [
        "name = input(\"What is the name of the Star Wars character? \")\n",
        "jedi_test = input(\"Is the character holding a lightsaber? \")\n",
        "if jedi_test == \"yes\":\n",
        "    print(name+\" is a Jedi.\")\n",
        "else:\n",
        "    print(name+\" is not a Jedi.\")"
      ],
      "metadata": {
        "colab": {
          "base_uri": "https://localhost:8080/"
        },
        "id": "ZHy2pCFnDH45",
        "outputId": "40fad1c7-5093-4d52-e9fb-2053e0a24313"
      },
      "execution_count": null,
      "outputs": [
        {
          "output_type": "stream",
          "name": "stdout",
          "text": [
            "What is the name of the Star Wars character? Finn\n",
            "Is the character holding a lightsaber? no\n",
            "Finn is not a Jedi.\n"
          ]
        }
      ]
    },
    {
      "cell_type": "markdown",
      "source": [
        "#### **Exercise 6.18**"
      ],
      "metadata": {
        "id": "BtbiWbM6EiLg"
      }
    },
    {
      "cell_type": "code",
      "source": [
        "x = input(\"Is Rose holding a lightsaber? \")\n",
        "if x == \"Yes\":\n",
        "    print(\"Yes\")\n",
        "else:\n",
        "    print(\"No\")"
      ],
      "metadata": {
        "colab": {
          "base_uri": "https://localhost:8080/"
        },
        "id": "wvPzEKXOEtr3",
        "outputId": "64eb187b-41bc-4f96-e09a-2e8fc435d574"
      },
      "execution_count": null,
      "outputs": [
        {
          "output_type": "stream",
          "name": "stdout",
          "text": [
            "Is Rose holding a lightsaber? Yes\n",
            "Yes\n"
          ]
        }
      ]
    },
    {
      "cell_type": "markdown",
      "source": [
        "## **The Nested IF-ELSE Statement**"
      ],
      "metadata": {
        "id": "dki-pdIiGI_Y"
      }
    },
    {
      "cell_type": "code",
      "source": [
        "jedi_test = input(\"Is the character holding a lightsaber? \")\n",
        "if jedi_test == \"yes\":\n",
        "    print(\"The character is a Jedi.\")\n",
        "    color = input(\"Is the lightsaber red? \")\n",
        "    if color == \"yes\":\n",
        "        print(\"The character is Darth Vader.\")\n",
        "else:\n",
        "    print(\"The character is not a Jedi.\")"
      ],
      "metadata": {
        "colab": {
          "base_uri": "https://localhost:8080/"
        },
        "id": "sEhXwxLtGOb3",
        "outputId": "42bfa4e6-c6e6-43fc-81bb-05c26cb8eded"
      },
      "execution_count": null,
      "outputs": [
        {
          "output_type": "stream",
          "name": "stdout",
          "text": [
            "Is the character holding a lightsaber? yes\n",
            "The character is a Jedi.\n",
            "Is the lightsaber red? yes\n",
            "The character is Darth Vader.\n"
          ]
        }
      ]
    },
    {
      "cell_type": "markdown",
      "source": [
        "#### **Exercise 6.2**"
      ],
      "metadata": {
        "id": "_bCNeSH6JRld"
      }
    },
    {
      "cell_type": "code",
      "source": [
        "jedi_test = input(\"Is the character holding a lightsaber? \")\n",
        "if jedi_test == \"yes\":\n",
        "    print(\"The character is a Jedi.\")\n",
        "    color = input(\"Is the lightsaber green? \")\n",
        "    if color == \"yes\":\n",
        "        print(\"The character is Yoda.\")"
      ],
      "metadata": {
        "colab": {
          "base_uri": "https://localhost:8080/"
        },
        "id": "bM2NK2q0JU9G",
        "outputId": "1503c865-49e5-406b-eb18-0905ae80ab93"
      },
      "execution_count": null,
      "outputs": [
        {
          "output_type": "stream",
          "name": "stdout",
          "text": [
            "Is the character holding a lightsaber? yes\n",
            "The character is a Jedi.\n",
            "Is the lightsaber green? yes\n",
            "The character is Yoda.\n"
          ]
        }
      ]
    },
    {
      "cell_type": "markdown",
      "source": [
        "## **ELIF statement and OR & AND Logic**"
      ],
      "metadata": {
        "id": "j4g-6FNxOKcU"
      }
    },
    {
      "cell_type": "code",
      "source": [
        "army_size = input(\"How many characters are in the army? Please enter only 1, 2 or 3? \")\n",
        "if army_size == \"1\":\n",
        "  print(\"The army of 1 will lose to the army of 2 and the army of 3.\")\n",
        "elif army_size == \"2\":\n",
        "  print(\"The army of 2 will beat the army of 1, but lose to the army of 3.\")\n",
        "elif army_size == \"3\":\n",
        "  print(\"The army of 3 will beat the army of 2 and the army of 1.\")\n",
        "else:\n",
        "  print(\"Please enter only 1, 2 or 3.\")"
      ],
      "metadata": {
        "colab": {
          "base_uri": "https://localhost:8080/"
        },
        "id": "Q7vN-FCTN8tW",
        "outputId": "e7830d47-cec1-4270-b284-7297be0d562e"
      },
      "execution_count": null,
      "outputs": [
        {
          "output_type": "stream",
          "name": "stdout",
          "text": [
            "How many characters are in the army? Please enter only 1, 2 or 3? 5\n",
            "Please enter only 1, 2 or 3.\n"
          ]
        }
      ]
    },
    {
      "cell_type": "markdown",
      "source": [
        "Let's learn NOT EQUAL (!=) and OR !!!"
      ],
      "metadata": {
        "id": "IIWv9LKQUqWW"
      }
    },
    {
      "cell_type": "code",
      "source": [
        "army_size = input(\"How many characters are in the army? Please enter only 1, 2 or 3? \")\n",
        "if army_size == \"1\":\n",
        "  print(\"The army of 1 will lose to the army of 2 and the army of 3.\")\n",
        "elif army_size == \"2\":\n",
        "  print(\"The army of 2 will beat the army of 1, but lose to the army of 3.\")\n",
        "elif army_size == \"3\":\n",
        "  print(\"The army of 3 will beat the army of 2 and the army of 1.\")\n",
        "elif army_size != \"1\" or \"2\" or \"3\":\n",
        "  print(\"Please enter only 1, 2 or 3.\")\n",
        "print(type(army_size))\n"
      ],
      "metadata": {
        "colab": {
          "base_uri": "https://localhost:8080/"
        },
        "id": "BVIsLFjKUIhj",
        "outputId": "9ee12900-45e9-47c4-d944-74daa562fe9c"
      },
      "execution_count": null,
      "outputs": [
        {
          "output_type": "stream",
          "name": "stdout",
          "text": [
            "How many characters are in the army? Please enter only 1, 2 or 3? 3\n",
            "The army of 3 will beat the army of 2 and the army of 1.\n",
            "<class 'str'>\n"
          ]
        }
      ]
    },
    {
      "cell_type": "code",
      "source": [
        "# Cost of the army\n",
        "# done by me\n",
        "print(\"The cost of the army is\",int(army_size)*10)\n",
        "# The mentor did it in the following way\n",
        "army_size = int(army_size)\n",
        "print(\"The cost of the army is \"+str(army_size*10))"
      ],
      "metadata": {
        "colab": {
          "base_uri": "https://localhost:8080/"
        },
        "id": "b0i_SsWNWGoy",
        "outputId": "ce6f8e08-1ba9-4d4f-ebb7-489d5f9be1e3"
      },
      "execution_count": null,
      "outputs": [
        {
          "output_type": "stream",
          "name": "stdout",
          "text": [
            "The cost of the army is 30\n",
            "The cost of the army is 30\n"
          ]
        }
      ]
    },
    {
      "cell_type": "code",
      "source": [
        "if army_size == 1 or army_size == 3:\n",
        "  print(\"There are an odd number of characters in the army you selected.\")\n",
        "else:\n",
        "  print(\"There are an even number of characters in the army you selected.\")"
      ],
      "metadata": {
        "colab": {
          "base_uri": "https://localhost:8080/"
        },
        "id": "oMN_MxSsWm-y",
        "outputId": "da422330-5097-4c2e-ce6c-b0c79988ef38"
      },
      "execution_count": null,
      "outputs": [
        {
          "output_type": "stream",
          "name": "stdout",
          "text": [
            "There are an odd number of characters in the army you selected.\n"
          ]
        }
      ]
    },
    {
      "cell_type": "markdown",
      "source": [
        "Let's learn how to use AND !!!"
      ],
      "metadata": {
        "id": "eh6GwX0mYQRo"
      }
    },
    {
      "cell_type": "code",
      "source": [
        "good_or_not_good = input(\"Type good or not good. \")\n",
        "if good_or_not_good == \"good\" and army_size == 1:\n",
        "  print(\"You selected an army of 1 and C3PO, which is good.\")\n",
        "else:\n",
        "  print(\"You didn't select an army size of 1 AND good.\")"
      ],
      "metadata": {
        "colab": {
          "base_uri": "https://localhost:8080/"
        },
        "id": "Twjgv5CyXXVJ",
        "outputId": "1923fa71-e88a-402b-a292-5f99b191eaa4"
      },
      "execution_count": null,
      "outputs": [
        {
          "output_type": "stream",
          "name": "stdout",
          "text": [
            "Type good or not good. good\n",
            "You didn't select an army size of 1 AND good.\n"
          ]
        }
      ]
    },
    {
      "cell_type": "markdown",
      "source": [
        "#### **Exercise 6.3**"
      ],
      "metadata": {
        "id": "Ha9BZnhQcgfa"
      }
    },
    {
      "cell_type": "code",
      "source": [
        "# part 1\n",
        "select_team = input(\"Select your team. Input 1, 2 or 3: \")\n",
        "if select_team == '1':\n",
        "  print(\"You picked team 1, which has 1 character, which is Yoda.\")\n",
        "elif select_team == '2':\n",
        "  print(\"You picked team 2, which has 2 characters, Jack and Rose.\")\n",
        "elif select_team == '3':\n",
        "  print(\"You picked team 3, which has 2 characters, Darth Vader and Leah.\")\n",
        "else:\n",
        "  print(\"Please enter only 1, 2 or 3.\")\n",
        "\n",
        "# part 2\n",
        "if select_team != \"1\" and select_team != \"3\":\n",
        "  print(\"The number of people on the team you selected is even.\")\n",
        "else:\n",
        "  print(\"The number of people on the team you selected is odd.\")"
      ],
      "metadata": {
        "colab": {
          "base_uri": "https://localhost:8080/"
        },
        "id": "8lr3o-0BclUB",
        "outputId": "7c1a21ba-bd0a-446d-d6be-dd70663d5b6d"
      },
      "execution_count": null,
      "outputs": [
        {
          "output_type": "stream",
          "name": "stdout",
          "text": [
            "Select your team. Input 1, 2 or 3: 2\n",
            "You picked team 2, which has 2 characters, Jack and Rose.\n",
            "The number of people on the team you selected is even.\n"
          ]
        }
      ]
    },
    {
      "cell_type": "markdown",
      "source": [
        "Please don't ask this question, \"Man! this code will show any number outside 1 and 3 as even, which is intuitively not correct.\" Have patience, we're just learning now !!!"
      ],
      "metadata": {
        "id": "e2VW2ANGgbzp"
      }
    },
    {
      "cell_type": "markdown",
      "source": [
        "## **MATCH and CASE logic**"
      ],
      "metadata": {
        "id": "7Dh5v9h1wV__"
      }
    },
    {
      "cell_type": "markdown",
      "source": [
        "To check what version of Python you are using, do the following:"
      ],
      "metadata": {
        "id": "UbOSer_uxEv5"
      }
    },
    {
      "cell_type": "code",
      "source": [
        "import platform\n",
        "print(platform.python_version())"
      ],
      "metadata": {
        "id": "NzaN3JHOYM2L",
        "colab": {
          "base_uri": "https://localhost:8080/"
        },
        "outputId": "5f7a711f-9bce-4bca-8049-fd34968935b9"
      },
      "execution_count": null,
      "outputs": [
        {
          "output_type": "stream",
          "name": "stdout",
          "text": [
            "3.10.12\n"
          ]
        }
      ]
    },
    {
      "cell_type": "code",
      "source": [
        "army_size = input(\"How many characters are in the army? Please enter only 1, 2 or 3? \")\n",
        "good_or_not_good = input(\"Is the army good or not good? \")\n",
        "army_size = int(army_size)\n",
        "match good_or_not_good:\n",
        "  case \"good\":\n",
        "    print(\"good\")\n",
        "  case \"not good\":\n",
        "    print(\"not good\")"
      ],
      "metadata": {
        "colab": {
          "base_uri": "https://localhost:8080/"
        },
        "id": "eVQ1AA5Gyd5k",
        "outputId": "051c7a51-aca1-4642-d667-4051870d5577"
      },
      "execution_count": null,
      "outputs": [
        {
          "output_type": "stream",
          "name": "stdout",
          "text": [
            "How many characters are in the army? Please enter only 1, 2 or 3? 3\n",
            "Is the army good or not good? not good\n",
            "not good\n"
          ]
        }
      ]
    },
    {
      "cell_type": "markdown",
      "source": [
        "### **Nested MATCH CASE**"
      ],
      "metadata": {
        "id": "Soe-FO880zd5"
      }
    },
    {
      "cell_type": "code",
      "source": [
        "match good_or_not_good:\n",
        "  case \"good\":\n",
        "    match army_size:\n",
        "      case 1:\n",
        "        print(\"good 1\")\n",
        "      case 2:\n",
        "        print(\"good 2\")\n",
        "      case 3:\n",
        "        print(\"good 3\")\n",
        "  case \"not good\":\n",
        "    match army_size:\n",
        "      case 1:\n",
        "        print(\"not good 1\")\n",
        "      case 2:\n",
        "        print(\"not good 2\")\n",
        "      case 3:\n",
        "        print(\"not good 3\")"
      ],
      "metadata": {
        "colab": {
          "base_uri": "https://localhost:8080/"
        },
        "id": "mugNrabT0tMc",
        "outputId": "d4249daf-d3c9-4616-ba14-e0e9cb24bb39"
      },
      "execution_count": null,
      "outputs": [
        {
          "output_type": "stream",
          "name": "stdout",
          "text": [
            "not good 3\n"
          ]
        }
      ]
    },
    {
      "cell_type": "markdown",
      "source": [
        "#### **Exercise 6.4**"
      ],
      "metadata": {
        "id": "XDGfqz5J3pYD"
      }
    },
    {
      "cell_type": "code",
      "source": [
        "team_choice = input(\"Choose your team. Enter 1, 2 or 3: \")\n",
        "team_choice = int(team_choice)\n",
        "match team_choice:\n",
        "  case 1:\n",
        "    print(\"You selected Team 1.\")\n",
        "  case 2:\n",
        "    print(\"You selected Team 2.\")\n",
        "  case 3:\n",
        "    print(\"You selected Team 3.\")"
      ],
      "metadata": {
        "colab": {
          "base_uri": "https://localhost:8080/"
        },
        "id": "t5ca58Ox3t_S",
        "outputId": "13ff2c09-ebec-4fa0-a8db-fd91ba8fba46"
      },
      "execution_count": null,
      "outputs": [
        {
          "output_type": "stream",
          "name": "stdout",
          "text": [
            "Choose your team. Enter 1, 2 or 3: 2\n",
            "You selected Team 2.\n"
          ]
        }
      ]
    },
    {
      "cell_type": "markdown",
      "source": [
        "## **Formatting**"
      ],
      "metadata": {
        "id": "MajSC21o7BmX"
      }
    },
    {
      "cell_type": "code",
      "source": [
        "name = input(\"What is your name?\\n\") #\\n means new line"
      ],
      "metadata": {
        "colab": {
          "base_uri": "https://localhost:8080/"
        },
        "id": "4z1AYuBW6xbt",
        "outputId": "3d29ce56-bb66-4bd9-e396-7d47ad17c57a"
      },
      "execution_count": null,
      "outputs": [
        {
          "name": "stdout",
          "output_type": "stream",
          "text": [
            "What is your name?\n",
            "pial\n"
          ]
        }
      ]
    },
    {
      "cell_type": "code",
      "source": [
        "ticket = input(\"What class of ticket do you want to buy for the Titanic? Select 1 or 3\\n\")\n",
        "print(f\"You selected class {ticket}\") #f for formatting\n",
        "if ticket == '1':\n",
        "  price = 870\n",
        "else:\n",
        "  price = 7\n",
        "\n",
        "print(f\"The price of your ticket is {price:.2f} pounds.\") #.2f means 2 decimal places"
      ],
      "metadata": {
        "colab": {
          "base_uri": "https://localhost:8080/"
        },
        "id": "-1fiR--ckkyp",
        "outputId": "3037373f-d8a2-4fda-feeb-a66ebde78194"
      },
      "execution_count": null,
      "outputs": [
        {
          "output_type": "stream",
          "name": "stdout",
          "text": [
            "What class of ticket do you want to buy for the Titanic? Select 1 or 3\n",
            "1\n",
            "You selected class 1\n",
            "The price of your ticket is 870.00 pounds.\n"
          ]
        }
      ]
    },
    {
      "cell_type": "markdown",
      "source": [
        "#### **Exercise 6.5**"
      ],
      "metadata": {
        "id": "Zq7ov-yymTUq"
      }
    },
    {
      "cell_type": "code",
      "source": [
        "f_class = input(\"Enter the number of 1st class tickets you want to purchase: \")\n",
        "s_class = input(\"Enter the number of 2nd class tickets you want to purchase: \")\n",
        "t_class = input(\"Enter the number of 3rd class tickets you want to purchase: \")\n",
        "price = 870*int(f_class) + 100.42*int(s_class) + 7*int(t_class)\n",
        "print(f\"The Total price is {price:.2f} pounds.\")"
      ],
      "metadata": {
        "colab": {
          "base_uri": "https://localhost:8080/"
        },
        "id": "iEXjJTPymagK",
        "outputId": "10ae005d-30aa-4884-e61c-3f207652cfd8"
      },
      "execution_count": null,
      "outputs": [
        {
          "output_type": "stream",
          "name": "stdout",
          "text": [
            "Enter the number of 1st class tickets you want to purchase: 1\n",
            "Enter the number of 2nd class tickets you want to purchase: 1\n",
            "Enter the number of 3rd class tickets you want to purchase: 1\n",
            "The Total price is 977.42 pounds.\n"
          ]
        }
      ]
    },
    {
      "cell_type": "markdown",
      "source": [
        "## **Slicing**"
      ],
      "metadata": {
        "id": "ChL4iryFVvie"
      }
    },
    {
      "cell_type": "markdown",
      "source": [
        "\"Slicing\" refers to extracting the parts of the data."
      ],
      "metadata": {
        "id": "J7lXLeOQV07m"
      }
    },
    {
      "cell_type": "code",
      "source": [
        "name = \"James Bond\"\n",
        "first_name = name[0:5] #this will print first 5 characters\n",
        "last_name = name[6:10] #this will print last 4 characters\n",
        "print(f\"The full name is {first_name} {last_name}\")"
      ],
      "metadata": {
        "colab": {
          "base_uri": "https://localhost:8080/"
        },
        "id": "Zlt3Q891VnTP",
        "outputId": "c95fee3e-a47a-490e-9cec-6dda8c9c6e9a"
      },
      "execution_count": null,
      "outputs": [
        {
          "output_type": "stream",
          "name": "stdout",
          "text": [
            "The full name is James Bond\n"
          ]
        }
      ]
    },
    {
      "cell_type": "markdown",
      "source": [
        "We can write the above code as follows."
      ],
      "metadata": {
        "id": "e27Mf2DMYPbW"
      }
    },
    {
      "cell_type": "code",
      "source": [
        "name = \"James Bond\"\n",
        "first_name = name[:5] #this will print first 5 characters\n",
        "last_name = name[6:] #this will print last 4 characters\n",
        "print(f\"The full name is {first_name} {last_name}\")"
      ],
      "metadata": {
        "colab": {
          "base_uri": "https://localhost:8080/"
        },
        "id": "I-roh3CrYTMO",
        "outputId": "12bc286d-fb60-4f8c-8326-d8dc2233966f"
      },
      "execution_count": null,
      "outputs": [
        {
          "output_type": "stream",
          "name": "stdout",
          "text": [
            "The full name is James Bond\n"
          ]
        }
      ]
    },
    {
      "cell_type": "markdown",
      "source": [
        "To extract a single character, write a single number withing the square brackets."
      ],
      "metadata": {
        "id": "dJCYhUdHYp91"
      }
    },
    {
      "cell_type": "code",
      "source": [
        "n = name[0]\n",
        "print(n)"
      ],
      "metadata": {
        "colab": {
          "base_uri": "https://localhost:8080/"
        },
        "id": "rbhcxWiCYpv_",
        "outputId": "91023652-fa8e-4dc9-a71d-f0c7b6f046de"
      },
      "execution_count": null,
      "outputs": [
        {
          "output_type": "stream",
          "name": "stdout",
          "text": [
            "J\n"
          ]
        }
      ]
    },
    {
      "cell_type": "markdown",
      "source": [
        "Using a '+'ve number within the square brackets starts counting from the beginning, whereas using '-'ve one starts from the end."
      ],
      "metadata": {
        "id": "XurobOIjZAUl"
      }
    },
    {
      "cell_type": "code",
      "source": [
        "x = name[1]\n",
        "print(x)\n",
        "y = name[-1]\n",
        "print(y)"
      ],
      "metadata": {
        "colab": {
          "base_uri": "https://localhost:8080/"
        },
        "id": "52Hyj4YSZdle",
        "outputId": "a9232758-a05c-489c-ca05-debdaf4191d3"
      },
      "execution_count": null,
      "outputs": [
        {
          "output_type": "stream",
          "name": "stdout",
          "text": [
            "a\n",
            "d\n"
          ]
        }
      ]
    },
    {
      "cell_type": "markdown",
      "source": [
        "#### **Exercise 6.6**"
      ],
      "metadata": {
        "id": "UieTM2A0bc_N"
      }
    },
    {
      "cell_type": "code",
      "source": [
        "ship = 'Titanic'\n",
        "print(ship[-1])\n",
        "print(ship[6])\n",
        "print(ship[6:])"
      ],
      "metadata": {
        "colab": {
          "base_uri": "https://localhost:8080/"
        },
        "id": "XsXpUdOwbiwW",
        "outputId": "1a8f3b01-821e-4f7f-c464-dadcf44d25e6"
      },
      "execution_count": null,
      "outputs": [
        {
          "output_type": "stream",
          "name": "stdout",
          "text": [
            "c\n",
            "c\n",
            "c\n"
          ]
        }
      ]
    },
    {
      "cell_type": "markdown",
      "source": [
        "## **\"For\" loop**"
      ],
      "metadata": {
        "id": "ZLwZULR8g7aV"
      }
    },
    {
      "cell_type": "code",
      "source": [
        "jedis = [\"Darth Vader\",\"Rey\",\"Yoda\",\"Ahsoka\",\"Mr. Skywalker\",\"Leia\"]\n",
        "for x in jedis:\n",
        "  print(x+\" is a Jedi.\")"
      ],
      "metadata": {
        "colab": {
          "base_uri": "https://localhost:8080/"
        },
        "id": "2cwZqx53g_YU",
        "outputId": "dae547d6-2eb9-4f12-d47e-e2482dd3f800"
      },
      "execution_count": null,
      "outputs": [
        {
          "output_type": "stream",
          "name": "stdout",
          "text": [
            "Darth Vader is a Jedi.\n",
            "Rey is a Jedi.\n",
            "Yoda is a Jedi.\n",
            "Ahsoka is a Jedi.\n",
            "Mr. Skywalker is a Jedi.\n",
            "Leia is a Jedi.\n"
          ]
        }
      ]
    },
    {
      "cell_type": "markdown",
      "source": [
        "We can use \"For\" loop in a string as well."
      ],
      "metadata": {
        "id": "TiuU4YVghy2E"
      }
    },
    {
      "cell_type": "code",
      "source": [
        "for x in \"camera\":\n",
        "  print(x)"
      ],
      "metadata": {
        "colab": {
          "base_uri": "https://localhost:8080/"
        },
        "id": "fwhXmRFth5FF",
        "outputId": "67dbe305-7ed3-4ca6-8f81-9955de91a786"
      },
      "execution_count": null,
      "outputs": [
        {
          "output_type": "stream",
          "name": "stdout",
          "text": [
            "c\n",
            "a\n",
            "m\n",
            "e\n",
            "r\n",
            "a\n"
          ]
        }
      ]
    },
    {
      "cell_type": "markdown",
      "source": [
        "To exit a loop, use \"break\"."
      ],
      "metadata": {
        "id": "U2rea7lXiM2c"
      }
    },
    {
      "cell_type": "code",
      "source": [
        "for x in jedis:\n",
        "  print(x+\" is a Jedi.\")\n",
        "  if x == \"Yoda\":\n",
        "    break"
      ],
      "metadata": {
        "colab": {
          "base_uri": "https://localhost:8080/"
        },
        "id": "tV_UX4lsiMou",
        "outputId": "652cb7b2-21c9-4d65-b070-72a11f623591"
      },
      "execution_count": null,
      "outputs": [
        {
          "output_type": "stream",
          "name": "stdout",
          "text": [
            "Darth Vader is a Jedi.\n",
            "Rey is a Jedi.\n",
            "Yoda is a Jedi.\n"
          ]
        }
      ]
    },
    {
      "cell_type": "code",
      "source": [
        "#\"for\" loop using \"range\"\n",
        "for x in range(1,9): #up to, but not including, 9\n",
        "  print(x)"
      ],
      "metadata": {
        "colab": {
          "base_uri": "https://localhost:8080/"
        },
        "id": "KGQou943iros",
        "outputId": "24e24850-4d40-4915-9cf4-f3dfba197428"
      },
      "execution_count": null,
      "outputs": [
        {
          "output_type": "stream",
          "name": "stdout",
          "text": [
            "1\n",
            "2\n",
            "3\n",
            "4\n",
            "5\n",
            "6\n",
            "7\n",
            "8\n"
          ]
        }
      ]
    },
    {
      "cell_type": "markdown",
      "source": [
        "#### **Exercise 6.7**"
      ],
      "metadata": {
        "id": "dXrmkIuEvb2A"
      }
    },
    {
      "cell_type": "code",
      "source": [
        "names=[\"Luka\",\"Leia\"]\n",
        "for name in names:\n",
        "  print(name+' I am your father.')"
      ],
      "metadata": {
        "colab": {
          "base_uri": "https://localhost:8080/"
        },
        "id": "ErTJviIsvfTQ",
        "outputId": "f46ebbda-0a71-47b1-822e-38ca56223953"
      },
      "execution_count": 5,
      "outputs": [
        {
          "output_type": "stream",
          "name": "stdout",
          "text": [
            "Luka I am your father.\n",
            "Leia I am your father.\n"
          ]
        }
      ]
    },
    {
      "cell_type": "markdown",
      "source": [
        "## **\"while\" loop**"
      ],
      "metadata": {
        "id": "rOZQYv1Hw2Mn"
      }
    },
    {
      "cell_type": "code",
      "source": [
        "baby_yoda_age = 50\n",
        "while baby_yoda_age<=100:\n",
        "  print(f\"You cannot use the lightsaber until you are 100. You are currently {baby_yoda_age}.\")\n",
        "  baby_yoda_age = baby_yoda_age + 1\n"
      ],
      "metadata": {
        "colab": {
          "base_uri": "https://localhost:8080/"
        },
        "id": "D_CWVk-nw8d3",
        "outputId": "9aad2b18-e6ff-4436-e5b2-84ba6cbfe08f"
      },
      "execution_count": 6,
      "outputs": [
        {
          "output_type": "stream",
          "name": "stdout",
          "text": [
            "You cannot use the lightsaber until you are 100. You are currently 50.\n",
            "You cannot use the lightsaber until you are 100. You are currently 51.\n",
            "You cannot use the lightsaber until you are 100. You are currently 52.\n",
            "You cannot use the lightsaber until you are 100. You are currently 53.\n",
            "You cannot use the lightsaber until you are 100. You are currently 54.\n",
            "You cannot use the lightsaber until you are 100. You are currently 55.\n",
            "You cannot use the lightsaber until you are 100. You are currently 56.\n",
            "You cannot use the lightsaber until you are 100. You are currently 57.\n",
            "You cannot use the lightsaber until you are 100. You are currently 58.\n",
            "You cannot use the lightsaber until you are 100. You are currently 59.\n",
            "You cannot use the lightsaber until you are 100. You are currently 60.\n",
            "You cannot use the lightsaber until you are 100. You are currently 61.\n",
            "You cannot use the lightsaber until you are 100. You are currently 62.\n",
            "You cannot use the lightsaber until you are 100. You are currently 63.\n",
            "You cannot use the lightsaber until you are 100. You are currently 64.\n",
            "You cannot use the lightsaber until you are 100. You are currently 65.\n",
            "You cannot use the lightsaber until you are 100. You are currently 66.\n",
            "You cannot use the lightsaber until you are 100. You are currently 67.\n",
            "You cannot use the lightsaber until you are 100. You are currently 68.\n",
            "You cannot use the lightsaber until you are 100. You are currently 69.\n",
            "You cannot use the lightsaber until you are 100. You are currently 70.\n",
            "You cannot use the lightsaber until you are 100. You are currently 71.\n",
            "You cannot use the lightsaber until you are 100. You are currently 72.\n",
            "You cannot use the lightsaber until you are 100. You are currently 73.\n",
            "You cannot use the lightsaber until you are 100. You are currently 74.\n",
            "You cannot use the lightsaber until you are 100. You are currently 75.\n",
            "You cannot use the lightsaber until you are 100. You are currently 76.\n",
            "You cannot use the lightsaber until you are 100. You are currently 77.\n",
            "You cannot use the lightsaber until you are 100. You are currently 78.\n",
            "You cannot use the lightsaber until you are 100. You are currently 79.\n",
            "You cannot use the lightsaber until you are 100. You are currently 80.\n",
            "You cannot use the lightsaber until you are 100. You are currently 81.\n",
            "You cannot use the lightsaber until you are 100. You are currently 82.\n",
            "You cannot use the lightsaber until you are 100. You are currently 83.\n",
            "You cannot use the lightsaber until you are 100. You are currently 84.\n",
            "You cannot use the lightsaber until you are 100. You are currently 85.\n",
            "You cannot use the lightsaber until you are 100. You are currently 86.\n",
            "You cannot use the lightsaber until you are 100. You are currently 87.\n",
            "You cannot use the lightsaber until you are 100. You are currently 88.\n",
            "You cannot use the lightsaber until you are 100. You are currently 89.\n",
            "You cannot use the lightsaber until you are 100. You are currently 90.\n",
            "You cannot use the lightsaber until you are 100. You are currently 91.\n",
            "You cannot use the lightsaber until you are 100. You are currently 92.\n",
            "You cannot use the lightsaber until you are 100. You are currently 93.\n",
            "You cannot use the lightsaber until you are 100. You are currently 94.\n",
            "You cannot use the lightsaber until you are 100. You are currently 95.\n",
            "You cannot use the lightsaber until you are 100. You are currently 96.\n",
            "You cannot use the lightsaber until you are 100. You are currently 97.\n",
            "You cannot use the lightsaber until you are 100. You are currently 98.\n",
            "You cannot use the lightsaber until you are 100. You are currently 99.\n",
            "You cannot use the lightsaber until you are 100. You are currently 100.\n"
          ]
        }
      ]
    },
    {
      "cell_type": "markdown",
      "source": [
        "We can use \"if-else\" in \"for\" and \"while\" loop."
      ],
      "metadata": {
        "id": "uFZlgAO1ysEo"
      }
    },
    {
      "cell_type": "code",
      "source": [
        "baby_yoda_age = 50\n",
        "while baby_yoda_age<=100:\n",
        "  print(f\"You cannot use the lightsaber until you are 100. You are currently {baby_yoda_age}.\")\n",
        "  baby_yoda_age = baby_yoda_age + 1\n",
        "  if baby_yoda_age >= 90:\n",
        "    print(\"I am getting too old for this. Leave me alone b.y.\")"
      ],
      "metadata": {
        "colab": {
          "base_uri": "https://localhost:8080/"
        },
        "id": "l2dpgSkoy0X0",
        "outputId": "8f11c989-5964-4802-fcd0-55e41c330723"
      },
      "execution_count": 7,
      "outputs": [
        {
          "output_type": "stream",
          "name": "stdout",
          "text": [
            "You cannot use the lightsaber until you are 100. You are currently 50.\n",
            "You cannot use the lightsaber until you are 100. You are currently 51.\n",
            "You cannot use the lightsaber until you are 100. You are currently 52.\n",
            "You cannot use the lightsaber until you are 100. You are currently 53.\n",
            "You cannot use the lightsaber until you are 100. You are currently 54.\n",
            "You cannot use the lightsaber until you are 100. You are currently 55.\n",
            "You cannot use the lightsaber until you are 100. You are currently 56.\n",
            "You cannot use the lightsaber until you are 100. You are currently 57.\n",
            "You cannot use the lightsaber until you are 100. You are currently 58.\n",
            "You cannot use the lightsaber until you are 100. You are currently 59.\n",
            "You cannot use the lightsaber until you are 100. You are currently 60.\n",
            "You cannot use the lightsaber until you are 100. You are currently 61.\n",
            "You cannot use the lightsaber until you are 100. You are currently 62.\n",
            "You cannot use the lightsaber until you are 100. You are currently 63.\n",
            "You cannot use the lightsaber until you are 100. You are currently 64.\n",
            "You cannot use the lightsaber until you are 100. You are currently 65.\n",
            "You cannot use the lightsaber until you are 100. You are currently 66.\n",
            "You cannot use the lightsaber until you are 100. You are currently 67.\n",
            "You cannot use the lightsaber until you are 100. You are currently 68.\n",
            "You cannot use the lightsaber until you are 100. You are currently 69.\n",
            "You cannot use the lightsaber until you are 100. You are currently 70.\n",
            "You cannot use the lightsaber until you are 100. You are currently 71.\n",
            "You cannot use the lightsaber until you are 100. You are currently 72.\n",
            "You cannot use the lightsaber until you are 100. You are currently 73.\n",
            "You cannot use the lightsaber until you are 100. You are currently 74.\n",
            "You cannot use the lightsaber until you are 100. You are currently 75.\n",
            "You cannot use the lightsaber until you are 100. You are currently 76.\n",
            "You cannot use the lightsaber until you are 100. You are currently 77.\n",
            "You cannot use the lightsaber until you are 100. You are currently 78.\n",
            "You cannot use the lightsaber until you are 100. You are currently 79.\n",
            "You cannot use the lightsaber until you are 100. You are currently 80.\n",
            "You cannot use the lightsaber until you are 100. You are currently 81.\n",
            "You cannot use the lightsaber until you are 100. You are currently 82.\n",
            "You cannot use the lightsaber until you are 100. You are currently 83.\n",
            "You cannot use the lightsaber until you are 100. You are currently 84.\n",
            "You cannot use the lightsaber until you are 100. You are currently 85.\n",
            "You cannot use the lightsaber until you are 100. You are currently 86.\n",
            "You cannot use the lightsaber until you are 100. You are currently 87.\n",
            "You cannot use the lightsaber until you are 100. You are currently 88.\n",
            "You cannot use the lightsaber until you are 100. You are currently 89.\n",
            "I am getting too old for this. Leave me alone b.y.\n",
            "You cannot use the lightsaber until you are 100. You are currently 90.\n",
            "I am getting too old for this. Leave me alone b.y.\n",
            "You cannot use the lightsaber until you are 100. You are currently 91.\n",
            "I am getting too old for this. Leave me alone b.y.\n",
            "You cannot use the lightsaber until you are 100. You are currently 92.\n",
            "I am getting too old for this. Leave me alone b.y.\n",
            "You cannot use the lightsaber until you are 100. You are currently 93.\n",
            "I am getting too old for this. Leave me alone b.y.\n",
            "You cannot use the lightsaber until you are 100. You are currently 94.\n",
            "I am getting too old for this. Leave me alone b.y.\n",
            "You cannot use the lightsaber until you are 100. You are currently 95.\n",
            "I am getting too old for this. Leave me alone b.y.\n",
            "You cannot use the lightsaber until you are 100. You are currently 96.\n",
            "I am getting too old for this. Leave me alone b.y.\n",
            "You cannot use the lightsaber until you are 100. You are currently 97.\n",
            "I am getting too old for this. Leave me alone b.y.\n",
            "You cannot use the lightsaber until you are 100. You are currently 98.\n",
            "I am getting too old for this. Leave me alone b.y.\n",
            "You cannot use the lightsaber until you are 100. You are currently 99.\n",
            "I am getting too old for this. Leave me alone b.y.\n",
            "You cannot use the lightsaber until you are 100. You are currently 100.\n",
            "I am getting too old for this. Leave me alone b.y.\n"
          ]
        }
      ]
    },
    {
      "cell_type": "markdown",
      "source": [
        "#### **Exercise 6.8**"
      ],
      "metadata": {
        "id": "P6GVLdUczotw"
      }
    },
    {
      "cell_type": "code",
      "source": [
        "year = 1912\n",
        "while year <= 1984:\n",
        "  print(f\"It is {year} and nobody has found the Titanic yet.\")\n",
        "  year = year + 1"
      ],
      "metadata": {
        "colab": {
          "base_uri": "https://localhost:8080/"
        },
        "id": "cax71zHvzt8e",
        "outputId": "02a55671-b7d8-43c2-afc0-70d54a5151f9"
      },
      "execution_count": 8,
      "outputs": [
        {
          "output_type": "stream",
          "name": "stdout",
          "text": [
            "It is 1912 and nobody has found the Titanic yet.\n",
            "It is 1913 and nobody has found the Titanic yet.\n",
            "It is 1914 and nobody has found the Titanic yet.\n",
            "It is 1915 and nobody has found the Titanic yet.\n",
            "It is 1916 and nobody has found the Titanic yet.\n",
            "It is 1917 and nobody has found the Titanic yet.\n",
            "It is 1918 and nobody has found the Titanic yet.\n",
            "It is 1919 and nobody has found the Titanic yet.\n",
            "It is 1920 and nobody has found the Titanic yet.\n",
            "It is 1921 and nobody has found the Titanic yet.\n",
            "It is 1922 and nobody has found the Titanic yet.\n",
            "It is 1923 and nobody has found the Titanic yet.\n",
            "It is 1924 and nobody has found the Titanic yet.\n",
            "It is 1925 and nobody has found the Titanic yet.\n",
            "It is 1926 and nobody has found the Titanic yet.\n",
            "It is 1927 and nobody has found the Titanic yet.\n",
            "It is 1928 and nobody has found the Titanic yet.\n",
            "It is 1929 and nobody has found the Titanic yet.\n",
            "It is 1930 and nobody has found the Titanic yet.\n",
            "It is 1931 and nobody has found the Titanic yet.\n",
            "It is 1932 and nobody has found the Titanic yet.\n",
            "It is 1933 and nobody has found the Titanic yet.\n",
            "It is 1934 and nobody has found the Titanic yet.\n",
            "It is 1935 and nobody has found the Titanic yet.\n",
            "It is 1936 and nobody has found the Titanic yet.\n",
            "It is 1937 and nobody has found the Titanic yet.\n",
            "It is 1938 and nobody has found the Titanic yet.\n",
            "It is 1939 and nobody has found the Titanic yet.\n",
            "It is 1940 and nobody has found the Titanic yet.\n",
            "It is 1941 and nobody has found the Titanic yet.\n",
            "It is 1942 and nobody has found the Titanic yet.\n",
            "It is 1943 and nobody has found the Titanic yet.\n",
            "It is 1944 and nobody has found the Titanic yet.\n",
            "It is 1945 and nobody has found the Titanic yet.\n",
            "It is 1946 and nobody has found the Titanic yet.\n",
            "It is 1947 and nobody has found the Titanic yet.\n",
            "It is 1948 and nobody has found the Titanic yet.\n",
            "It is 1949 and nobody has found the Titanic yet.\n",
            "It is 1950 and nobody has found the Titanic yet.\n",
            "It is 1951 and nobody has found the Titanic yet.\n",
            "It is 1952 and nobody has found the Titanic yet.\n",
            "It is 1953 and nobody has found the Titanic yet.\n",
            "It is 1954 and nobody has found the Titanic yet.\n",
            "It is 1955 and nobody has found the Titanic yet.\n",
            "It is 1956 and nobody has found the Titanic yet.\n",
            "It is 1957 and nobody has found the Titanic yet.\n",
            "It is 1958 and nobody has found the Titanic yet.\n",
            "It is 1959 and nobody has found the Titanic yet.\n",
            "It is 1960 and nobody has found the Titanic yet.\n",
            "It is 1961 and nobody has found the Titanic yet.\n",
            "It is 1962 and nobody has found the Titanic yet.\n",
            "It is 1963 and nobody has found the Titanic yet.\n",
            "It is 1964 and nobody has found the Titanic yet.\n",
            "It is 1965 and nobody has found the Titanic yet.\n",
            "It is 1966 and nobody has found the Titanic yet.\n",
            "It is 1967 and nobody has found the Titanic yet.\n",
            "It is 1968 and nobody has found the Titanic yet.\n",
            "It is 1969 and nobody has found the Titanic yet.\n",
            "It is 1970 and nobody has found the Titanic yet.\n",
            "It is 1971 and nobody has found the Titanic yet.\n",
            "It is 1972 and nobody has found the Titanic yet.\n",
            "It is 1973 and nobody has found the Titanic yet.\n",
            "It is 1974 and nobody has found the Titanic yet.\n",
            "It is 1975 and nobody has found the Titanic yet.\n",
            "It is 1976 and nobody has found the Titanic yet.\n",
            "It is 1977 and nobody has found the Titanic yet.\n",
            "It is 1978 and nobody has found the Titanic yet.\n",
            "It is 1979 and nobody has found the Titanic yet.\n",
            "It is 1980 and nobody has found the Titanic yet.\n",
            "It is 1981 and nobody has found the Titanic yet.\n",
            "It is 1982 and nobody has found the Titanic yet.\n",
            "It is 1983 and nobody has found the Titanic yet.\n",
            "It is 1984 and nobody has found the Titanic yet.\n"
          ]
        }
      ]
    },
    {
      "cell_type": "markdown",
      "source": [
        "# Level 6 Final Exercise: Time Tracker for Tasks\n",
        "\n",
        "## Objective\n",
        "You work for a project management company, and they want to offer a simple time tracker tool for their clients. The tool will let users log the number of hours spent on different tasks and then provide a summary at the end.\n",
        "\n",
        "## Instructions\n",
        "\n",
        "1. Create a list called `tasks` and populate it with initial tasks: \"Planning\", \"Design\", \"Coding\", \"Testing\".\n",
        "2. Create another list called `time_spent` to store the time spent on each task. Initialize it with zeros.\n",
        "3. Create a function called `log_time` that takes a task name and an amount of time. It will find the task in the `tasks` list and update the corresponding time in `time_spent`.\n",
        "4. Use a `while` loop to repeatedly ask the user for a task and time spent on that task until they choose to exit.\n",
        "5. Use a `for` loop to go through the `tasks` and `time_spent` lists, printing out a summary of time spent on each task.\n"
      ],
      "metadata": {
        "id": "XBMoLlm51Dyn"
      }
    },
    {
      "cell_type": "code",
      "source": [
        "# Step 1: Initial list of tasks\n",
        "tasks = [\"Planning\",\"Design\",\"Coding\",\"Testing\"]\n",
        "\n",
        "# Step 2: Initial list of time spent on tasks (list)\n",
        "time_spent = [0,0,0,0]\n",
        "\n",
        "# Step 3: Log time function\n",
        "def log_time(task_name,amount_of_time):\n",
        "  match task_name:\n",
        "      case \"Planning\":\n",
        "        time_spent[0] = time_spent[0] + amount_of_time\n",
        "      case \"Design\":\n",
        "        time_spent[1] = time_spent[1] + amount_of_time\n",
        "      case \"Coding\":\n",
        "        time_spent[2] = time_spent[2] + amount_of_time\n",
        "      case \"Testing\":\n",
        "        time_spent[3] = time_spent[3] + amount_of_time\n",
        "\n",
        "# Step 4: User input and loop\n",
        "print(\"Tasks: \",tasks)\n",
        "while True:\n",
        "  task = input(\"Enter a task to log time for it / or enter exit to stop the program. \")\n",
        "  if task == \"exit\":\n",
        "    break\n",
        "  elif task not in tasks:\n",
        "    print(\"Oops! We coudn't find that taks, please try again.\")\n",
        "    continue\n",
        "  time_spent_input = float(input(\"How many hours did you spend on this task? \"))\n",
        "  log_time(task,time_spent_input)\n",
        "\n",
        "# Step 5: Summary of time spent\n",
        "print(\"\\nSummary of time spent on tasks:\")\n",
        "for x in range(0,4):\n",
        "  print(f\"{tasks[x]}: {time_spent[x]:.1f} hours.\")"
      ],
      "metadata": {
        "colab": {
          "base_uri": "https://localhost:8080/"
        },
        "id": "Tp8bekrj1GIu",
        "outputId": "09156961-5653-4971-e71e-931213ce4ae2"
      },
      "execution_count": 29,
      "outputs": [
        {
          "output_type": "stream",
          "name": "stdout",
          "text": [
            "Tasks:  ['Planning', 'Design', 'Coding', 'Testing']\n",
            "Enter a task to log time for it / or enter exit to stop the program. dasa\n",
            "Oops! We coudn't find that taks, please try again.\n",
            "Enter a task to log time for it / or enter exit to stop the program. Planning\n",
            "How many hours did you spend on this task? 2\n",
            "Enter a task to log time for it / or enter exit to stop the program. Design\n",
            "How many hours did you spend on this task? 4\n",
            "Enter a task to log time for it / or enter exit to stop the program. Coding\n",
            "How many hours did you spend on this task? 5\n",
            "Enter a task to log time for it / or enter exit to stop the program. Testing\n",
            "How many hours did you spend on this task? 1\n",
            "Enter a task to log time for it / or enter exit to stop the program. exit\n",
            "\n",
            "Summary of time spent on tasks:\n",
            "Planning: 2.0 hours.\n",
            "Design: 4.0 hours.\n",
            "Coding: 5.0 hours.\n",
            "Testing: 1.0 hours.\n"
          ]
        }
      ]
    }
  ]
}