{
  "nbformat": 4,
  "nbformat_minor": 0,
  "metadata": {
    "colab": {
      "provenance": [],
      "authorship_tag": "ABX9TyM/OD6UAzYlEREarAu1jP53",
      "include_colab_link": true
    },
    "kernelspec": {
      "name": "python3",
      "display_name": "Python 3"
    },
    "language_info": {
      "name": "python"
    }
  },
  "cells": [
    {
      "cell_type": "markdown",
      "metadata": {
        "id": "view-in-github",
        "colab_type": "text"
      },
      "source": [
        "<a href=\"https://colab.research.google.com/github/nayem-uddin/udemy-python-course/blob/main/Level_6.ipynb\" target=\"_parent\"><img src=\"https://colab.research.google.com/assets/colab-badge.svg\" alt=\"Open In Colab\"/></a>"
      ]
    },
    {
      "cell_type": "markdown",
      "source": [
        "## **The IF-ELSE statement**"
      ],
      "metadata": {
        "id": "86SJeUyB-ewz"
      }
    },
    {
      "cell_type": "code",
      "execution_count": 4,
      "metadata": {
        "colab": {
          "base_uri": "https://localhost:8080/"
        },
        "id": "sPClUZNO9bhz",
        "outputId": "b4f8e4c7-b87c-43b7-9c29-35ff3f57317a"
      },
      "outputs": [
        {
          "output_type": "stream",
          "name": "stdout",
          "text": [
            "What is the name of the Star Wars character? Yoda\n",
            "Is the character holding a lightsaber? yes\n",
            "Yoda is a Jedi.\n"
          ]
        }
      ],
      "source": [
        "name = input(\"What is the name of the Star Wars character? \")\n",
        "jedi_test = input(\"Is the character holding a lightsaber? \")\n",
        "if jedi_test == \"yes\":\n",
        "    print(name+\" is a Jedi.\")"
      ]
    },
    {
      "cell_type": "code",
      "source": [
        "name = input(\"What is the name of the Star Wars character? \")\n",
        "jedi_test = input(\"Is the character holding a lightsaber? \")\n",
        "if jedi_test == \"yes\":\n",
        "    print(name+\" is a Jedi.\")\n",
        "else:\n",
        "    print(name+\" is not a Jedi.\")"
      ],
      "metadata": {
        "colab": {
          "base_uri": "https://localhost:8080/"
        },
        "id": "ZHy2pCFnDH45",
        "outputId": "40fad1c7-5093-4d52-e9fb-2053e0a24313"
      },
      "execution_count": 3,
      "outputs": [
        {
          "output_type": "stream",
          "name": "stdout",
          "text": [
            "What is the name of the Star Wars character? Finn\n",
            "Is the character holding a lightsaber? no\n",
            "Finn is not a Jedi.\n"
          ]
        }
      ]
    },
    {
      "cell_type": "markdown",
      "source": [
        "#### **Exercise 6.18**"
      ],
      "metadata": {
        "id": "BtbiWbM6EiLg"
      }
    },
    {
      "cell_type": "code",
      "source": [
        "x = input(\"Is Rose holding a lightsaber? \")\n",
        "if x == \"Yes\":\n",
        "    print(\"Yes\")\n",
        "else:\n",
        "    print(\"No\")"
      ],
      "metadata": {
        "colab": {
          "base_uri": "https://localhost:8080/"
        },
        "id": "wvPzEKXOEtr3",
        "outputId": "64eb187b-41bc-4f96-e09a-2e8fc435d574"
      },
      "execution_count": 5,
      "outputs": [
        {
          "output_type": "stream",
          "name": "stdout",
          "text": [
            "Is Rose holding a lightsaber? Yes\n",
            "Yes\n"
          ]
        }
      ]
    },
    {
      "cell_type": "markdown",
      "source": [
        "## **The Nested IF-ELSE Statement**"
      ],
      "metadata": {
        "id": "dki-pdIiGI_Y"
      }
    },
    {
      "cell_type": "code",
      "source": [
        "jedi_test = input(\"Is the character holding a lightsaber? \")\n",
        "if jedi_test == \"yes\":\n",
        "    print(\"The character is a Jedi.\")\n",
        "    color = input(\"Is the lightsaber red? \")\n",
        "    if color == \"yes\":\n",
        "        print(\"The character is Darth Vader.\")\n",
        "else:\n",
        "    print(\"The character is not a Jedi.\")"
      ],
      "metadata": {
        "colab": {
          "base_uri": "https://localhost:8080/"
        },
        "id": "sEhXwxLtGOb3",
        "outputId": "42bfa4e6-c6e6-43fc-81bb-05c26cb8eded"
      },
      "execution_count": 9,
      "outputs": [
        {
          "output_type": "stream",
          "name": "stdout",
          "text": [
            "Is the character holding a lightsaber? yes\n",
            "The character is a Jedi.\n",
            "Is the lightsaber red? yes\n",
            "The character is Darth Vader.\n"
          ]
        }
      ]
    },
    {
      "cell_type": "markdown",
      "source": [
        "#### **Exercise 6.2**"
      ],
      "metadata": {
        "id": "_bCNeSH6JRld"
      }
    },
    {
      "cell_type": "code",
      "source": [
        "jedi_test = input(\"Is the character holding a lightsaber? \")\n",
        "if jedi_test == \"yes\":\n",
        "    print(\"The character is a Jedi.\")\n",
        "    color = input(\"Is the lightsaber green? \")\n",
        "    if color == \"yes\":\n",
        "        print(\"The character is Yoda.\")"
      ],
      "metadata": {
        "colab": {
          "base_uri": "https://localhost:8080/"
        },
        "id": "bM2NK2q0JU9G",
        "outputId": "1503c865-49e5-406b-eb18-0905ae80ab93"
      },
      "execution_count": 10,
      "outputs": [
        {
          "output_type": "stream",
          "name": "stdout",
          "text": [
            "Is the character holding a lightsaber? yes\n",
            "The character is a Jedi.\n",
            "Is the lightsaber green? yes\n",
            "The character is Yoda.\n"
          ]
        }
      ]
    }
  ]
}