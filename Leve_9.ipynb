{
  "nbformat": 4,
  "nbformat_minor": 0,
  "metadata": {
    "colab": {
      "provenance": [],
      "authorship_tag": "ABX9TyNfI8kFYr5OWxtdTcrpVsRc",
      "include_colab_link": true
    },
    "kernelspec": {
      "name": "python3",
      "display_name": "Python 3"
    },
    "language_info": {
      "name": "python"
    }
  },
  "cells": [
    {
      "cell_type": "markdown",
      "metadata": {
        "id": "view-in-github",
        "colab_type": "text"
      },
      "source": [
        "<a href=\"https://colab.research.google.com/github/nayem-uddin/udemy-python-course/blob/main/Leve_9.ipynb\" target=\"_parent\"><img src=\"https://colab.research.google.com/assets/colab-badge.svg\" alt=\"Open In Colab\"/></a>"
      ]
    },
    {
      "cell_type": "markdown",
      "source": [
        "## **Object Oriented Programming**"
      ],
      "metadata": {
        "id": "XIyydaa6lTPU"
      }
    },
    {
      "cell_type": "markdown",
      "source": [
        "### **Classes and Instances**"
      ],
      "metadata": {
        "id": "9tu4zHGklh3z"
      }
    },
    {
      "cell_type": "markdown",
      "source": [
        "- \"Classes\" are blueprints or templates of \"objects\".\n",
        "- \"Instances\" are copies of \"classes\".\n",
        "- \"Method\" is a function within a class.\n",
        "- \"Constructor\" is a method which is called immediately when an instance of the class is created.\n",
        "- \"Attributes\" are the variables in a class."
      ],
      "metadata": {
        "id": "ClASF6Prlu1j"
      }
    },
    {
      "cell_type": "code",
      "execution_count": null,
      "metadata": {
        "id": "UbUW58RFlSf1"
      },
      "outputs": [],
      "source": [
        "class Dog(): # or class Dog:\n",
        "  pass"
      ]
    },
    {
      "cell_type": "code",
      "source": [
        "dog1=Dog() # Dog() is a class and dog1 is an instance of Dog()\n",
        "dog2=Dog()"
      ],
      "metadata": {
        "id": "LzRTLZEjmT4g"
      },
      "execution_count": null,
      "outputs": []
    },
    {
      "cell_type": "code",
      "source": [
        "type(dog1)"
      ],
      "metadata": {
        "colab": {
          "base_uri": "https://localhost:8080/"
        },
        "id": "IwFb74s9m75Y",
        "outputId": "e6c431c9-ec28-4a13-8c63-ad1eb851f0aa"
      },
      "execution_count": null,
      "outputs": [
        {
          "output_type": "execute_result",
          "data": {
            "text/plain": [
              "__main__.Dog"
            ]
          },
          "metadata": {},
          "execution_count": 5
        }
      ]
    },
    {
      "cell_type": "code",
      "source": [
        "type(dog2)"
      ],
      "metadata": {
        "colab": {
          "base_uri": "https://localhost:8080/"
        },
        "id": "14fxH-1gnBKR",
        "outputId": "30182217-0baa-468e-e029-d79781fe3a6d"
      },
      "execution_count": null,
      "outputs": [
        {
          "output_type": "execute_result",
          "data": {
            "text/plain": [
              "__main__.Dog"
            ]
          },
          "metadata": {},
          "execution_count": 7
        }
      ]
    },
    {
      "cell_type": "code",
      "source": [
        "class Dog():\n",
        "  def __init__(self):\n",
        "    print(\"Hey! I am a dog! :)\")\n"
      ],
      "metadata": {
        "id": "SW0KmrgTnakZ"
      },
      "execution_count": null,
      "outputs": []
    },
    {
      "cell_type": "markdown",
      "source": [
        "__init__ is a constructor."
      ],
      "metadata": {
        "id": "29bC0cEf1EG9"
      }
    },
    {
      "cell_type": "code",
      "source": [
        "dog1=Dog()\n",
        "dog2=Dog()"
      ],
      "metadata": {
        "colab": {
          "base_uri": "https://localhost:8080/"
        },
        "id": "Or_AJf_X2jSc",
        "outputId": "1137061e-9bd8-44af-fdbd-285000268af5"
      },
      "execution_count": null,
      "outputs": [
        {
          "output_type": "stream",
          "name": "stdout",
          "text": [
            "Hey! I am a dog! :)\n",
            "Hey! I am a dog! :)\n"
          ]
        }
      ]
    },
    {
      "cell_type": "code",
      "source": [
        "class Dog():\n",
        "  def __init__(self,name):\n",
        "    print(\"Hey! I am a dog! :)\")\n",
        "    print(\"My name is: \",name)"
      ],
      "metadata": {
        "id": "_tCRsJYm2dPo"
      },
      "execution_count": null,
      "outputs": []
    },
    {
      "cell_type": "code",
      "source": [
        "dog1=Dog(\"John\")\n",
        "dog2=Dog(\"Mark\")"
      ],
      "metadata": {
        "colab": {
          "base_uri": "https://localhost:8080/"
        },
        "id": "7Ifi6nk93cml",
        "outputId": "ebdb8c68-1ee6-4924-a184-0f393adc2ca4"
      },
      "execution_count": null,
      "outputs": [
        {
          "output_type": "stream",
          "name": "stdout",
          "text": [
            "Hey! I am a dog! :)\n",
            "My name is:  John\n",
            "Hey! I am a dog! :)\n",
            "My name is:  Mark\n"
          ]
        }
      ]
    },
    {
      "cell_type": "markdown",
      "source": [
        "## **Exercise 9.1**"
      ],
      "metadata": {
        "id": "rvvo_C3I4JNV"
      }
    },
    {
      "cell_type": "code",
      "source": [
        "class person():\n",
        "  def __init__(self, name, age):\n",
        "    print(\"name:\",name)\n",
        "    print(\"age:\",age)"
      ],
      "metadata": {
        "id": "CkMBLDW73iey"
      },
      "execution_count": null,
      "outputs": []
    },
    {
      "cell_type": "code",
      "source": [
        "person1=person(\"Nayem\",23)"
      ],
      "metadata": {
        "colab": {
          "base_uri": "https://localhost:8080/"
        },
        "id": "iw8ObHM-4dNr",
        "outputId": "bc05698c-b394-48cd-d450-710ce542b0ef"
      },
      "execution_count": null,
      "outputs": [
        {
          "output_type": "stream",
          "name": "stdout",
          "text": [
            "name: Nayem\n",
            "age: 23\n"
          ]
        }
      ]
    },
    {
      "cell_type": "markdown",
      "source": [
        "## **Defining Methods in a class**"
      ],
      "metadata": {
        "id": "CaJlzwKmvZ8C"
      }
    },
    {
      "cell_type": "markdown",
      "source": [
        "Methods takes at least one argument. That's why \"self\" is required to write even if there is no argument to pass through the method."
      ],
      "metadata": {
        "id": "hha__4Mvv5XR"
      }
    },
    {
      "cell_type": "code",
      "source": [
        "class Dog():\n",
        "  def __init__(self,name):\n",
        "    print(\"Hey! I am a dog! :)\")\n",
        "    print(\"My name is: \",name)\n",
        "  def bark(self): # \"bark\" is a method here\n",
        "    print(\"Woof!\")"
      ],
      "metadata": {
        "id": "cA5sjn5r4lTS"
      },
      "execution_count": null,
      "outputs": []
    },
    {
      "cell_type": "code",
      "source": [
        "dog1=Dog(\"John\")\n",
        "dog2=Dog(\"Mark\")"
      ],
      "metadata": {
        "colab": {
          "base_uri": "https://localhost:8080/"
        },
        "id": "MaRAPW3jwJsP",
        "outputId": "8cd494fc-e4a0-4862-c465-55bc62d13ffc"
      },
      "execution_count": null,
      "outputs": [
        {
          "output_type": "stream",
          "name": "stdout",
          "text": [
            "Hey! I am a dog! :)\n",
            "My name is:  John\n",
            "Hey! I am a dog! :)\n",
            "My name is:  Mark\n"
          ]
        }
      ]
    },
    {
      "cell_type": "code",
      "source": [
        "dog1.bark()"
      ],
      "metadata": {
        "colab": {
          "base_uri": "https://localhost:8080/"
        },
        "id": "R2ZQdPilwMoJ",
        "outputId": "5a1f36f1-87a8-4db3-fa16-cb0afac0082a"
      },
      "execution_count": null,
      "outputs": [
        {
          "output_type": "stream",
          "name": "stdout",
          "text": [
            "Woof!\n"
          ]
        }
      ]
    },
    {
      "cell_type": "code",
      "source": [
        "dog2.bark()"
      ],
      "metadata": {
        "colab": {
          "base_uri": "https://localhost:8080/"
        },
        "id": "Dxe99SR3wfYa",
        "outputId": "27060583-891b-46b5-ae60-7a7258f03f4c"
      },
      "execution_count": null,
      "outputs": [
        {
          "output_type": "stream",
          "name": "stdout",
          "text": [
            "Woof!\n"
          ]
        }
      ]
    },
    {
      "cell_type": "markdown",
      "source": [
        "### **Understanding \"self\"**"
      ],
      "metadata": {
        "id": "5DSXgC1pxDFZ"
      }
    },
    {
      "cell_type": "markdown",
      "source": [
        "\"self\" is a reference to the current object or instance. <br>\n",
        "If we want to access a variable within the class from anywhere inside or outside the class, we always need to call \"self.variable\". <br>\n",
        "However, \"self\" is not a reserved keyword, we can name it whatever we want. But it's a convention to name it \"self\"."
      ],
      "metadata": {
        "id": "D8vYRVHbyDJR"
      }
    },
    {
      "cell_type": "code",
      "source": [
        "class Dog():\n",
        "  def __init__(self,name):\n",
        "    print(\"Hey! I am a dog! :)\")\n",
        "    print(\"My name is: \",name)\n",
        "    self.dogs_name=name # calling the variable \"dogs_name\" from inside the class \"Dog\"\n",
        "\n",
        "  def bark(self):\n",
        "    print(self.dogs_name,\"says Woof!\") # calling the variable \"dogs_name\" from inside the class \"Dog\""
      ],
      "metadata": {
        "id": "ctjw2w-CxIzO"
      },
      "execution_count": null,
      "outputs": []
    },
    {
      "cell_type": "code",
      "source": [
        "dog1=Dog(\"Rose\")\n",
        "dog2=Dog(\"Cutie\")"
      ],
      "metadata": {
        "colab": {
          "base_uri": "https://localhost:8080/"
        },
        "id": "ZCqdIUHszNxo",
        "outputId": "288a250b-60f3-426e-9a54-b363c7d83335"
      },
      "execution_count": null,
      "outputs": [
        {
          "output_type": "stream",
          "name": "stdout",
          "text": [
            "Hey! I am a dog! :)\n",
            "My name is:  Rose\n",
            "Hey! I am a dog! :)\n",
            "My name is:  Cutie\n"
          ]
        }
      ]
    },
    {
      "cell_type": "code",
      "source": [
        "dog1.bark()"
      ],
      "metadata": {
        "colab": {
          "base_uri": "https://localhost:8080/"
        },
        "id": "Xf_A4K_S0Od8",
        "outputId": "1cc4cbae-13b0-4448-dbd2-17ef8bdef962"
      },
      "execution_count": null,
      "outputs": [
        {
          "output_type": "stream",
          "name": "stdout",
          "text": [
            "Rose says Woof!\n"
          ]
        }
      ]
    },
    {
      "cell_type": "code",
      "source": [
        "dog2.bark()"
      ],
      "metadata": {
        "colab": {
          "base_uri": "https://localhost:8080/"
        },
        "outputId": "20e90396-a6b5-4cfa-aa1e-9894458faa68",
        "id": "xy3tNUJT0YJg"
      },
      "execution_count": null,
      "outputs": [
        {
          "output_type": "stream",
          "name": "stdout",
          "text": [
            "Cutie says Woof!\n"
          ]
        }
      ]
    },
    {
      "cell_type": "code",
      "source": [
        "dog1.dogs_name # calling the variable \"dogs_name\" from outside the class \"Dog\""
      ],
      "metadata": {
        "colab": {
          "base_uri": "https://localhost:8080/",
          "height": 35
        },
        "id": "Eypy4IcJ0kHX",
        "outputId": "a278a665-af15-4977-da0f-baaf6c44ec45"
      },
      "execution_count": null,
      "outputs": [
        {
          "output_type": "execute_result",
          "data": {
            "text/plain": [
              "'Rose'"
            ],
            "application/vnd.google.colaboratory.intrinsic+json": {
              "type": "string"
            }
          },
          "metadata": {},
          "execution_count": 12
        }
      ]
    },
    {
      "cell_type": "code",
      "source": [
        "class Dog():\n",
        "  def __init__(self,name):\n",
        "    print(\"Hey! I am a dog! :)\")\n",
        "    print(\"My name is: \",name)\n",
        "    self.dogs_name=name\n",
        "\n",
        "  def bark(self):\n",
        "    print(self.dogs_name,\"says Woof!\")\n",
        "\n",
        "  def walk(self,location):\n",
        "    print(self.dogs_name,\"is walking to\",location)"
      ],
      "metadata": {
        "id": "W_HLQ42P1naQ"
      },
      "execution_count": null,
      "outputs": []
    },
    {
      "cell_type": "markdown",
      "source": [
        "In the above code, the variable \"location\" can't be accessed outside of the \"walk\" method. To access that variable from outside the method, we should have defined it as \"self.variable=location\" or something like this."
      ],
      "metadata": {
        "id": "tQQcoW9e1t9_"
      }
    },
    {
      "cell_type": "code",
      "source": [
        "dog1=Dog(\"Rose\")\n",
        "dog2=Dog(\"Cutie\")"
      ],
      "metadata": {
        "colab": {
          "base_uri": "https://localhost:8080/"
        },
        "outputId": "8eb158ab-e77f-47f6-b47c-c0a55db885fb",
        "id": "PaKtyiPX2cBH"
      },
      "execution_count": null,
      "outputs": [
        {
          "output_type": "stream",
          "name": "stdout",
          "text": [
            "Hey! I am a dog! :)\n",
            "My name is:  Rose\n",
            "Hey! I am a dog! :)\n",
            "My name is:  Cutie\n"
          ]
        }
      ]
    },
    {
      "cell_type": "code",
      "source": [
        "dog1.walk(\"Park\")"
      ],
      "metadata": {
        "colab": {
          "base_uri": "https://localhost:8080/"
        },
        "id": "oH1ZXwxH14yc",
        "outputId": "6e74005a-fef2-4123-fc69-9fb90e753b3d"
      },
      "execution_count": null,
      "outputs": [
        {
          "output_type": "stream",
          "name": "stdout",
          "text": [
            "Rose is walking to Park\n"
          ]
        }
      ]
    },
    {
      "cell_type": "markdown",
      "source": [
        "## **Class Attributes vs Instance Attributes**"
      ],
      "metadata": {
        "id": "xvzhGxLd25wX"
      }
    },
    {
      "cell_type": "markdown",
      "source": [
        "Class attributes are defined directly within the class and shared across all instances. They are the common features of all the instances. They are accessed using the class name. <br>\n",
        "Instance attributes are features unique to each instance. They are accessed using the \"self\". <br>\n",
        "Changing one or more instance attribute doesn't affect the other instances."
      ],
      "metadata": {
        "id": "UqFWUmFf3Eon"
      }
    },
    {
      "cell_type": "code",
      "source": [
        "class Dog():\n",
        "  number_of_legs=4 # class attribute\n",
        "  def __init__(self,name):\n",
        "    print(\"Hey! I am a dog! :)\")\n",
        "    print(\"My name is: \",name)\n",
        "    self.dogs_name=name"
      ],
      "metadata": {
        "id": "flbilQLB2-Br"
      },
      "execution_count": null,
      "outputs": []
    },
    {
      "cell_type": "code",
      "source": [
        "dog1=Dog(\"Rose\")\n",
        "dog2=Dog(\"Cutie\")"
      ],
      "metadata": {
        "colab": {
          "base_uri": "https://localhost:8080/"
        },
        "id": "M-YK_TRe5ET9",
        "outputId": "0dcefffd-d39e-42bd-f650-dcf2ae1ee446"
      },
      "execution_count": null,
      "outputs": [
        {
          "output_type": "stream",
          "name": "stdout",
          "text": [
            "Hey! I am a dog! :)\n",
            "My name is:  Rose\n",
            "Hey! I am a dog! :)\n",
            "My name is:  Cutie\n"
          ]
        }
      ]
    },
    {
      "cell_type": "code",
      "source": [
        "dog1.number_of_legs"
      ],
      "metadata": {
        "colab": {
          "base_uri": "https://localhost:8080/"
        },
        "id": "LzyQfeQH5Hx1",
        "outputId": "0573882c-8bc2-4b4e-a929-41a8fb64cb8a"
      },
      "execution_count": null,
      "outputs": [
        {
          "output_type": "execute_result",
          "data": {
            "text/plain": [
              "4"
            ]
          },
          "metadata": {},
          "execution_count": 22
        }
      ]
    },
    {
      "cell_type": "code",
      "source": [
        "dog2.number_of_legs"
      ],
      "metadata": {
        "colab": {
          "base_uri": "https://localhost:8080/"
        },
        "id": "426BIae-5VDW",
        "outputId": "7d90f466-cd84-45fd-e67d-89e8b2a997a9"
      },
      "execution_count": null,
      "outputs": [
        {
          "output_type": "execute_result",
          "data": {
            "text/plain": [
              "4"
            ]
          },
          "metadata": {},
          "execution_count": 23
        }
      ]
    },
    {
      "cell_type": "markdown",
      "source": [
        "#### **Exercise 9.2**"
      ],
      "metadata": {
        "id": "46FkIOqd6Ik1"
      }
    },
    {
      "cell_type": "code",
      "source": [
        "class car():\n",
        "  number_of_wheels=4\n",
        "  def __init__(self,maker,model):\n",
        "    print(\"name:\",maker,model)\n"
      ],
      "metadata": {
        "id": "2u0BCyxI6MHU"
      },
      "execution_count": null,
      "outputs": []
    },
    {
      "cell_type": "code",
      "source": [
        "car1=car(\"BMW\",\"M3 GTR\")\n",
        "print(\"no. of wheels:\",car1.number_of_wheels)"
      ],
      "metadata": {
        "colab": {
          "base_uri": "https://localhost:8080/"
        },
        "id": "UdQf0SPN6jTO",
        "outputId": "964b4244-862c-49d9-fbbe-19b91066c8bb"
      },
      "execution_count": null,
      "outputs": [
        {
          "output_type": "stream",
          "name": "stdout",
          "text": [
            "name: BMW M3 GTR\n",
            "no. of wheels: 4\n"
          ]
        }
      ]
    },
    {
      "cell_type": "markdown",
      "source": [
        "## **Inheritance: Extending Functionality**"
      ],
      "metadata": {
        "id": "YivU67Mv8JrE"
      }
    },
    {
      "cell_type": "markdown",
      "source": [
        "Inheritance allows a class to inherit methods or attributes from its super class."
      ],
      "metadata": {
        "id": "3OuOmUrX8e-u"
      }
    },
    {
      "cell_type": "code",
      "source": [
        "class vehicle: # super class\n",
        "  def start_engine(self):\n",
        "    print(\"Engine started\")\n",
        "  def drive(self):\n",
        "    print(\"Let's go!\")\n"
      ],
      "metadata": {
        "id": "gUHCGTLw8Omk"
      },
      "execution_count": null,
      "outputs": []
    },
    {
      "cell_type": "code",
      "source": [
        "class car(vehicle):\n",
        "  pass"
      ],
      "metadata": {
        "id": "EdgOGysn9VEg"
      },
      "execution_count": null,
      "outputs": []
    },
    {
      "cell_type": "code",
      "source": [
        "my_car=car()"
      ],
      "metadata": {
        "id": "tK3x372W9krc"
      },
      "execution_count": null,
      "outputs": []
    },
    {
      "cell_type": "code",
      "source": [
        "my_car.start_engine()"
      ],
      "metadata": {
        "colab": {
          "base_uri": "https://localhost:8080/"
        },
        "id": "2ucj8_gN-MDV",
        "outputId": "6852c3af-537e-4f40-cbab-85fb6be6ec3b"
      },
      "execution_count": null,
      "outputs": [
        {
          "output_type": "stream",
          "name": "stdout",
          "text": [
            "Engine started\n"
          ]
        }
      ]
    },
    {
      "cell_type": "code",
      "source": [
        "class truck(vehicle):\n",
        "  def __init__(self):\n",
        "    print(\"I am a truck\")\n"
      ],
      "metadata": {
        "id": "3BPGRVt4-NXD"
      },
      "execution_count": null,
      "outputs": []
    },
    {
      "cell_type": "code",
      "source": [
        "my_truck=truck()"
      ],
      "metadata": {
        "colab": {
          "base_uri": "https://localhost:8080/"
        },
        "id": "DaLm0TJE-xAU",
        "outputId": "7ab5745c-8289-41ed-bf65-731356e69686"
      },
      "execution_count": null,
      "outputs": [
        {
          "output_type": "stream",
          "name": "stdout",
          "text": [
            "I am a truck\n"
          ]
        }
      ]
    },
    {
      "cell_type": "code",
      "source": [
        "my_truck.start_engine()"
      ],
      "metadata": {
        "colab": {
          "base_uri": "https://localhost:8080/"
        },
        "id": "OxqQ2axj-zib",
        "outputId": "cad95529-8eda-4570-f4fe-b78004ce2286"
      },
      "execution_count": null,
      "outputs": [
        {
          "output_type": "stream",
          "name": "stdout",
          "text": [
            "Engine started\n"
          ]
        }
      ]
    },
    {
      "cell_type": "code",
      "source": [
        "my_car.drive()"
      ],
      "metadata": {
        "colab": {
          "base_uri": "https://localhost:8080/"
        },
        "id": "A6CnDmFF-2Gj",
        "outputId": "3efdbc0b-d11d-42dd-e038-c8eb2aca09f6"
      },
      "execution_count": null,
      "outputs": [
        {
          "output_type": "stream",
          "name": "stdout",
          "text": [
            "Let's go!\n"
          ]
        }
      ]
    },
    {
      "cell_type": "code",
      "source": [
        "my_truck.drive()"
      ],
      "metadata": {
        "colab": {
          "base_uri": "https://localhost:8080/"
        },
        "id": "EQfIPYWL_daE",
        "outputId": "ef362c5d-92ed-4659-bfd6-6f2959e0e0e1"
      },
      "execution_count": null,
      "outputs": [
        {
          "output_type": "stream",
          "name": "stdout",
          "text": [
            "Let's go!\n"
          ]
        }
      ]
    },
    {
      "cell_type": "markdown",
      "source": [
        "If a method with the same as a method in the super class is defined within a class, it is called overriding."
      ],
      "metadata": {
        "id": "lYw29WlA_2Lx"
      }
    },
    {
      "cell_type": "code",
      "source": [
        "class truck(vehicle):\n",
        "  def __init__(self):\n",
        "    print(\"I am a truck\")\n",
        "  def start_engine(self):\n",
        "    print(\"Truck engine started\")"
      ],
      "metadata": {
        "id": "jJV1tRj5AGNU"
      },
      "execution_count": null,
      "outputs": []
    },
    {
      "cell_type": "code",
      "source": [
        "truck1=truck()"
      ],
      "metadata": {
        "colab": {
          "base_uri": "https://localhost:8080/"
        },
        "id": "JaO20v5TAB0Z",
        "outputId": "b99ac617-ec61-4c0c-a8e9-d9eed99caa1e"
      },
      "execution_count": null,
      "outputs": [
        {
          "output_type": "stream",
          "name": "stdout",
          "text": [
            "I am a truck\n"
          ]
        }
      ]
    },
    {
      "cell_type": "code",
      "source": [
        "truck1.start_engine()"
      ],
      "metadata": {
        "colab": {
          "base_uri": "https://localhost:8080/"
        },
        "id": "Z-tf81RZAT47",
        "outputId": "41b92268-d385-4b38-ebbc-11a88647a5bc"
      },
      "execution_count": null,
      "outputs": [
        {
          "output_type": "stream",
          "name": "stdout",
          "text": [
            "Truck engine started\n"
          ]
        }
      ]
    },
    {
      "cell_type": "markdown",
      "source": [
        "The method \"start_engine\" in the \"truck\" class overrides the method \"start_engine\" in the super class \"vehicle\"."
      ],
      "metadata": {
        "id": "fKpe-uF0AXXM"
      }
    },
    {
      "cell_type": "markdown",
      "source": [
        "## **Encapsulation: Hiding Information**"
      ],
      "metadata": {
        "id": "NEFRmJ67ul9M"
      }
    },
    {
      "cell_type": "markdown",
      "source": [
        "A variable to be kept private will start with two underscores."
      ],
      "metadata": {
        "id": "DRajeMCwvp9u"
      }
    },
    {
      "cell_type": "code",
      "source": [
        "class bankaccount():\n",
        "  def __init__(self, balance):\n",
        "    self.__balance=balance\n",
        "  def deposit(self,amount):\n",
        "    self.__balance+=amount\n",
        "  def get_balance(self):\n",
        "    return self.__balance"
      ],
      "metadata": {
        "id": "k2qVSGZ0uct2"
      },
      "execution_count": null,
      "outputs": []
    },
    {
      "cell_type": "code",
      "source": [
        "account=bankaccount(100)\n",
        "account.deposit(50)\n",
        "account.get_balance()"
      ],
      "metadata": {
        "colab": {
          "base_uri": "https://localhost:8080/"
        },
        "id": "GVNMovP-wlFW",
        "outputId": "2ef67193-a716-44a2-dcb6-0b44f26a2c7b"
      },
      "execution_count": null,
      "outputs": [
        {
          "output_type": "execute_result",
          "data": {
            "text/plain": [
              "150"
            ]
          },
          "metadata": {},
          "execution_count": 31
        }
      ]
    },
    {
      "cell_type": "markdown",
      "source": [
        "## **Exercise 9.3**"
      ],
      "metadata": {
        "id": "456HBiGByD8W"
      }
    },
    {
      "cell_type": "code",
      "source": [
        "class computer():\n",
        "  def __init__(self,brand,model):\n",
        "    self.__brand=brand\n",
        "    self.__model=model\n",
        "  def get_info(self):\n",
        "    return self.__brand+' '+self.__model"
      ],
      "metadata": {
        "id": "46YpSoHZxWl2"
      },
      "execution_count": null,
      "outputs": []
    },
    {
      "cell_type": "code",
      "source": [
        "laptop=computer(\"Acer\",\"Aspire F5\")\n",
        "print(laptop.get_info())"
      ],
      "metadata": {
        "colab": {
          "base_uri": "https://localhost:8080/"
        },
        "id": "oqu8QCaUy0mm",
        "outputId": "ea76414b-a3c5-4d6c-e9f1-1e028d1284fb"
      },
      "execution_count": null,
      "outputs": [
        {
          "output_type": "stream",
          "name": "stdout",
          "text": [
            "Acer Aspire F5\n"
          ]
        }
      ]
    },
    {
      "cell_type": "markdown",
      "source": [
        "## **Understanding Magic Dunder Methods**"
      ],
      "metadata": {
        "id": "pmRE7FmCz6pP"
      }
    },
    {
      "cell_type": "markdown",
      "source": [
        "Magic methods, or dunder methods, are special methods with double underscores at the beginning and at the end."
      ],
      "metadata": {
        "id": "I5RVr-iN0VbU"
      }
    },
    {
      "cell_type": "code",
      "source": [
        "class book():\n",
        "  def __init__(self,title,author):\n",
        "    self.title=title\n",
        "    self.author=author\n",
        "  def __str__(self):\n",
        "    return self.title+' by '+self.author"
      ],
      "metadata": {
        "id": "xS5Oi2T5zEpd"
      },
      "execution_count": null,
      "outputs": []
    },
    {
      "cell_type": "code",
      "source": [
        "book1=book(\"The Alchemist\",\"Paulo Coelho\")"
      ],
      "metadata": {
        "id": "Hnl-76KG1OzM"
      },
      "execution_count": null,
      "outputs": []
    },
    {
      "cell_type": "code",
      "source": [
        "print(book1)"
      ],
      "metadata": {
        "colab": {
          "base_uri": "https://localhost:8080/"
        },
        "id": "uaUp0Ljy1Q7U",
        "outputId": "d12368e7-e1f6-4a9d-c756-055b5ed3f6b2"
      },
      "execution_count": null,
      "outputs": [
        {
          "output_type": "stream",
          "name": "stdout",
          "text": [
            "The Alchemist by Paulo Coelho\n"
          ]
        }
      ]
    },
    {
      "cell_type": "code",
      "source": [
        "class number():\n",
        "  def __init__(self,num):\n",
        "    self.num=num\n",
        "  def __add__(self,other):\n",
        "    return self.num+other\n",
        "  def __eq__(self, n):\n",
        "    return self.num==n"
      ],
      "metadata": {
        "id": "hzkyzUMS2Xzl"
      },
      "execution_count": null,
      "outputs": []
    },
    {
      "cell_type": "code",
      "source": [
        "num=number(5)"
      ],
      "metadata": {
        "id": "z7A4-UZ22mtr"
      },
      "execution_count": null,
      "outputs": []
    },
    {
      "cell_type": "code",
      "source": [
        "num+10"
      ],
      "metadata": {
        "colab": {
          "base_uri": "https://localhost:8080/"
        },
        "id": "DjGlZfNB2oDI",
        "outputId": "3685147e-e50c-4a8e-dca9-2cb3b6b58703"
      },
      "execution_count": null,
      "outputs": [
        {
          "output_type": "execute_result",
          "data": {
            "text/plain": [
              "15"
            ]
          },
          "metadata": {},
          "execution_count": 56
        }
      ]
    },
    {
      "cell_type": "code",
      "source": [
        "num==5"
      ],
      "metadata": {
        "colab": {
          "base_uri": "https://localhost:8080/"
        },
        "id": "-BmDNB_B3cUs",
        "outputId": "7ea59314-0644-48a9-d239-281a54106b74"
      },
      "execution_count": null,
      "outputs": [
        {
          "output_type": "execute_result",
          "data": {
            "text/plain": [
              "True"
            ]
          },
          "metadata": {},
          "execution_count": 57
        }
      ]
    },
    {
      "cell_type": "markdown",
      "source": [
        "## **Understanding Composition and Aggregation**"
      ],
      "metadata": {
        "id": "ZPQJbWMQ36Ik"
      }
    },
    {
      "cell_type": "code",
      "source": [
        "class Engine():\n",
        "  def start(self):\n",
        "    print(\"Engine started\")\n",
        "\n",
        "class Car():\n",
        "  def __init__(self):\n",
        "    self.engine=Engine() # composition"
      ],
      "metadata": {
        "id": "lmoOburC3d-T"
      },
      "execution_count": null,
      "outputs": []
    },
    {
      "cell_type": "code",
      "source": [
        "car1=Car()"
      ],
      "metadata": {
        "id": "6EfShMZN4mkD"
      },
      "execution_count": null,
      "outputs": []
    },
    {
      "cell_type": "code",
      "source": [
        "car1.engine.start()"
      ],
      "metadata": {
        "colab": {
          "base_uri": "https://localhost:8080/"
        },
        "id": "R2b_xZYOAB2p",
        "outputId": "76eda687-98d1-4066-cf51-582e605bd9b8"
      },
      "execution_count": null,
      "outputs": [
        {
          "output_type": "stream",
          "name": "stdout",
          "text": [
            "Engine started\n"
          ]
        }
      ]
    },
    {
      "cell_type": "markdown",
      "source": [
        "# Level 9 Final Exercise: Simple Bank Account Manager\n",
        "\n",
        "## Objective\n",
        "You've been tasked by a local bank to create a simple bank account manager that can perform basic operations like deposit, withdrawal, and balance check. Use Object-Oriented Programming (OOP) to accomplish this.\n",
        "\n",
        "## Instructions\n",
        "\n",
        "1. Create a class called `BankAccount` with attributes for account number and balance.\n",
        "2. Add methods to the `BankAccount` class for deposit, withdrawal, and balance check.\n",
        "3. Create a dictionary called `accounts` to store multiple `BankAccount` objects.\n",
        "4. Implement a user interface to interact with the `BankAccount` objects."
      ],
      "metadata": {
        "id": "J8FUCp4fBQMo"
      }
    },
    {
      "cell_type": "code",
      "source": [
        "# Step 1: Create BankAccount class\n",
        "class BankAccount():\n",
        "\n",
        "  def __init__(self,account_number,balance):\n",
        "    self.account_number=account_number\n",
        "    self.balance=balance\n",
        "\n",
        "  def deposit(self,amount):\n",
        "    self.balance+=amount\n",
        "\n",
        "  def withdrawal(self,amount):\n",
        "    self.balance-=amount\n",
        "\n",
        "  def balance_check(self):\n",
        "    return self.balance"
      ],
      "metadata": {
        "id": "tWAczH-QO743"
      },
      "execution_count": null,
      "outputs": []
    },
    {
      "cell_type": "code",
      "source": [
        "# Step 2: Create a dictionary to store accounts / Done For you\n",
        "accounts={}\n",
        "# Step 3: User Interface\n",
        "while True:\n",
        "    print(\"1. Create Account\\n2. Deposit\\n3. Withdraw\\n4. Check Balance\\n5. Exit\")\n",
        "    choice = int(input(\"Choose an option: \"))\n",
        "    match choice:\n",
        "      case 5:\n",
        "        print(\"Thanks for being with us !! :)\")\n",
        "        break\n",
        "      case 1:\n",
        "        account_number = input(\"Enter new account number: \")\n",
        "        initial_balance = float(input(\"Enter initial balance: \"))\n",
        "        accounts[account_number] = BankAccount(account_number, initial_balance)\n",
        "        print(\"Account created.\")\n",
        "      case 2:\n",
        "        account_number = input(\"Enter account number: \")\n",
        "        if account_number in accounts:\n",
        "            amount = float(input(\"Enter deposit amount: \"))\n",
        "            accounts[account_number].deposit(amount)\n",
        "            print(\"New balance: \",accounts[account_number].balance_check())\n",
        "        else:\n",
        "            print(\"Account not found.\")\n",
        "      case 3:\n",
        "        account_number = input(\"Enter account number: \")\n",
        "        if account_number in accounts:\n",
        "            amount = float(input(\"Enter withdrawal amount: \"))\n",
        "            accounts[account_number].withdrawal(amount)\n",
        "            if accounts[account_number].balance_check() < 0:\n",
        "                print(\"Insufficient funds.\")\n",
        "            else:\n",
        "                print(\"New balance: \",accounts[account_number].balance_check())\n",
        "        else:\n",
        "            print(\"Account not found.\")\n",
        "      case 4:\n",
        "        account_number = input(\"Enter account number: \")\n",
        "        if account_number in accounts:\n",
        "            print(\"Balance:\", accounts[account_number].balance_check())\n",
        "        else:\n",
        "          print(\"Account not found.\")\n",
        "      case _:\n",
        "          print(\"Invalid choice. Please enter valid number.\")\n",
        "    print('\\n')"
      ],
      "metadata": {
        "colab": {
          "base_uri": "https://localhost:8080/"
        },
        "id": "86AmL8ttCZzf",
        "outputId": "7247f157-3edd-4f66-ef0a-8c459d0381a7"
      },
      "execution_count": null,
      "outputs": [
        {
          "output_type": "stream",
          "name": "stdout",
          "text": [
            "1. Create Account\n",
            "2. Deposit\n",
            "3. Withdraw\n",
            "4. Check Balance\n",
            "5. Exit\n",
            "Choose an option: 1\n",
            "Enter new account number: 515\n",
            "Enter initial balance: 5000\n",
            "Account created.\n",
            "\n",
            "\n",
            "1. Create Account\n",
            "2. Deposit\n",
            "3. Withdraw\n",
            "4. Check Balance\n",
            "5. Exit\n",
            "Choose an option: 2\n",
            "Enter account number: 3213\n",
            "Account not found.\n",
            "\n",
            "\n",
            "1. Create Account\n",
            "2. Deposit\n",
            "3. Withdraw\n",
            "4. Check Balance\n",
            "5. Exit\n",
            "Choose an option: 2\n",
            "Enter account number: 515\n",
            "Enter deposit amount: 1000\n",
            "New balance:  6000.0\n",
            "\n",
            "\n",
            "1. Create Account\n",
            "2. Deposit\n",
            "3. Withdraw\n",
            "4. Check Balance\n",
            "5. Exit\n",
            "Choose an option: 3\n",
            "Enter account number: 515\n",
            "Enter withdrawal amount: 4000\n",
            "New balance:  2000.0\n",
            "\n",
            "\n",
            "1. Create Account\n",
            "2. Deposit\n",
            "3. Withdraw\n",
            "4. Check Balance\n",
            "5. Exit\n",
            "Choose an option: 4\n",
            "Enter account number: 515\n",
            "Balance: 2000.0\n",
            "\n",
            "\n",
            "1. Create Account\n",
            "2. Deposit\n",
            "3. Withdraw\n",
            "4. Check Balance\n",
            "5. Exit\n",
            "Choose an option: 5\n",
            "Thanks for being with us !! :)\n"
          ]
        }
      ]
    }
  ]
}