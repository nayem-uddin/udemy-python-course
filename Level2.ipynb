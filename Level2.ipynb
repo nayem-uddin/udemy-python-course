{
  "cells": [
    {
      "cell_type": "markdown",
      "metadata": {
        "colab_type": "text",
        "id": "view-in-github"
      },
      "source": [
        "<a href=\"https://colab.research.google.com/github/nayem-uddin/udemy-python-course/blob/main/Level2.ipynb\" target=\"_parent\"><img src=\"https://colab.research.google.com/assets/colab-badge.svg\" alt=\"Open In Colab\"/></a>"
      ]
    },
    {
      "cell_type": "markdown",
      "metadata": {
        "id": "G25OTetpYJNb"
      },
      "source": [
        "# **Data types and variables**"
      ]
    },
    {
      "cell_type": "markdown",
      "metadata": {
        "id": "esv-YijtbUm1"
      },
      "source": [
        "### **String data type**"
      ]
    },
    {
      "cell_type": "markdown",
      "metadata": {
        "id": "Vm5KWsppZFVr"
      },
      "source": [
        "Here is an example of a string data type."
      ]
    },
    {
      "cell_type": "code",
      "execution_count": 2,
      "metadata": {
        "id": "c5eUlZKuWpX1"
      },
      "outputs": [],
      "source": [
        "name=\"Mr. Skywalker\" # or 'Mr. Skywalker'"
      ]
    },
    {
      "cell_type": "markdown",
      "metadata": {
        "id": "4iZLqVi7ZSl7"
      },
      "source": [
        "The code in the above cell can be written in the following way as well."
      ]
    },
    {
      "cell_type": "code",
      "execution_count": 3,
      "metadata": {
        "id": "4IufrctQY2Ca"
      },
      "outputs": [],
      "source": [
        "name=str(\"Mr. Skywalker\") # or str('Mr. Skywalker')"
      ]
    },
    {
      "cell_type": "code",
      "execution_count": 4,
      "metadata": {
        "colab": {
          "base_uri": "https://localhost:8080/",
          "height": 141
        },
        "id": "Oz8N9dsYaAHx",
        "outputId": "4dcba23f-afae-4a21-9ef3-aec7f8b2c465"
      },
      "outputs": [
        {
          "ename": "ValueError",
          "evalue": "invalid literal for int() with base 10: 'Mr. Skywalker'",
          "output_type": "error",
          "traceback": [
            "\u001b[0;31m---------------------------------------------------------------------------\u001b[0m",
            "\u001b[0;31mValueError\u001b[0m                                Traceback (most recent call last)",
            "\u001b[0;32m<ipython-input-4-3e1f1c076048>\u001b[0m in \u001b[0;36m<cell line: 1>\u001b[0;34m()\u001b[0m\n\u001b[0;32m----> 1\u001b[0;31m \u001b[0mname\u001b[0m\u001b[0;34m=\u001b[0m\u001b[0mint\u001b[0m\u001b[0;34m(\u001b[0m\u001b[0;34m\"Mr. Skywalker\"\u001b[0m\u001b[0;34m)\u001b[0m \u001b[0;31m# to see that using \"int\" data type to declare a string variable gives error\u001b[0m\u001b[0;34m\u001b[0m\u001b[0;34m\u001b[0m\u001b[0m\n\u001b[0m",
            "\u001b[0;31mValueError\u001b[0m: invalid literal for int() with base 10: 'Mr. Skywalker'"
          ]
        }
      ],
      "source": [
        "name=int(\"Mr. Skywalker\") # to see that using \"int\" data type to declare a string variable gives error"
      ]
    },
    {
      "cell_type": "markdown",
      "metadata": {
        "id": "jxlAQlx5bn6J"
      },
      "source": [
        "### **Integer data type**"
      ]
    },
    {
      "cell_type": "code",
      "execution_count": 5,
      "metadata": {
        "id": "YRbxn0CnbudP"
      },
      "outputs": [],
      "source": [
        "age = 44"
      ]
    },
    {
      "cell_type": "markdown",
      "metadata": {
        "id": "TCUMb9DAcAPD"
      },
      "source": [
        "We can also write the above code as follows."
      ]
    },
    {
      "cell_type": "code",
      "execution_count": 6,
      "metadata": {
        "id": "zU_Qtc-ncFwD"
      },
      "outputs": [],
      "source": [
        "age = int(44)"
      ]
    },
    {
      "cell_type": "markdown",
      "metadata": {
        "id": "LUTy39U7c_eK"
      },
      "source": [
        "Notice that the code sections above showed no output to us, though they were executed successfully. To see the values of the variables, we need the built-in function 'print'."
      ]
    },
    {
      "cell_type": "code",
      "execution_count": 7,
      "metadata": {
        "colab": {
          "base_uri": "https://localhost:8080/"
        },
        "id": "BZ_jlYrjc8cX",
        "outputId": "4ae0ff5e-6eb5-4e13-faef-2b22d3f479fb"
      },
      "outputs": [
        {
          "name": "stdout",
          "output_type": "stream",
          "text": [
            "Mr. Skywalker\n"
          ]
        }
      ],
      "source": [
        "print(name)"
      ]
    },
    {
      "cell_type": "markdown",
      "metadata": {
        "id": "MQOYvVC1eKk8"
      },
      "source": [
        "To see the data type of a variable, we can use the built-in function 'type'."
      ]
    },
    {
      "cell_type": "code",
      "execution_count": 8,
      "metadata": {
        "colab": {
          "base_uri": "https://localhost:8080/"
        },
        "id": "RtmYqnhvdbHW",
        "outputId": "98638ce5-6452-472f-aee2-b1e6fce85088"
      },
      "outputs": [
        {
          "data": {
            "text/plain": [
              "str"
            ]
          },
          "execution_count": 8,
          "metadata": {},
          "output_type": "execute_result"
        }
      ],
      "source": [
        "type(name)"
      ]
    },
    {
      "cell_type": "code",
      "execution_count": 9,
      "metadata": {
        "colab": {
          "base_uri": "https://localhost:8080/"
        },
        "id": "Qki6jOx9epu4",
        "outputId": "0e533352-f1e9-48f2-db3d-e69d741ae4c4"
      },
      "outputs": [
        {
          "data": {
            "text/plain": [
              "int"
            ]
          },
          "execution_count": 9,
          "metadata": {},
          "output_type": "execute_result"
        }
      ],
      "source": [
        "type(age)"
      ]
    },
    {
      "cell_type": "markdown",
      "metadata": {
        "id": "QF5A91kpfHkP"
      },
      "source": [
        "#### **Exercise 2.1**\n"
      ]
    },
    {
      "cell_type": "code",
      "execution_count": 10,
      "metadata": {
        "id": "BrZ9402sfPIC"
      },
      "outputs": [],
      "source": [
        "name = \"Darth Vader\""
      ]
    },
    {
      "cell_type": "code",
      "execution_count": 11,
      "metadata": {
        "colab": {
          "base_uri": "https://localhost:8080/"
        },
        "id": "_aw0FbXJfXu6",
        "outputId": "a4a5302c-a18c-4352-fc0d-27bff48d9253"
      },
      "outputs": [
        {
          "name": "stdout",
          "output_type": "stream",
          "text": [
            "Darth Vader\n"
          ]
        }
      ],
      "source": [
        "print(name)"
      ]
    },
    {
      "cell_type": "code",
      "execution_count": 12,
      "metadata": {
        "id": "Nyz43L2Lfbvg"
      },
      "outputs": [],
      "source": [
        "age = 19"
      ]
    },
    {
      "cell_type": "code",
      "execution_count": 13,
      "metadata": {
        "colab": {
          "base_uri": "https://localhost:8080/"
        },
        "id": "7JCV6X-_fgby",
        "outputId": "4b359c78-b3bf-4eea-f9ea-c0df92d9acd4"
      },
      "outputs": [
        {
          "name": "stdout",
          "output_type": "stream",
          "text": [
            "19\n"
          ]
        }
      ],
      "source": [
        "print(age)"
      ]
    },
    {
      "cell_type": "markdown",
      "metadata": {
        "id": "jY_IcTEl9g4V"
      },
      "source": [
        "### **Float**"
      ]
    },
    {
      "cell_type": "markdown",
      "metadata": {
        "id": "13zi1wOH-Fdl"
      },
      "source": [
        "Float refers to floating numbers (numbers having decimals)."
      ]
    },
    {
      "cell_type": "code",
      "execution_count": 15,
      "metadata": {
        "colab": {
          "base_uri": "https://localhost:8080/"
        },
        "id": "jC2hVOzf9oQa",
        "outputId": "1f46a199-930c-4473-e166-0ce746a30959"
      },
      "outputs": [
        {
          "name": "stdout",
          "output_type": "stream",
          "text": [
            "3.14\n"
          ]
        },
        {
          "data": {
            "text/plain": [
              "float"
            ]
          },
          "execution_count": 15,
          "metadata": {},
          "output_type": "execute_result"
        }
      ],
      "source": [
        "pi = 3.14\n",
        "print(pi)\n",
        "type(pi)"
      ]
    },
    {
      "cell_type": "markdown",
      "metadata": {
        "id": "QyVC2WVY_iYw"
      },
      "source": [
        "The same result can be obtained as follows."
      ]
    },
    {
      "cell_type": "code",
      "execution_count": 17,
      "metadata": {
        "colab": {
          "base_uri": "https://localhost:8080/"
        },
        "id": "pa_u00us_pAG",
        "outputId": "de77282a-e841-4645-aa9b-daa34d626bfc"
      },
      "outputs": [
        {
          "name": "stdout",
          "output_type": "stream",
          "text": [
            "3.14\n"
          ]
        },
        {
          "data": {
            "text/plain": [
              "float"
            ]
          },
          "execution_count": 17,
          "metadata": {},
          "output_type": "execute_result"
        }
      ],
      "source": [
        "pi = float(3.14)\n",
        "print(pi)\n",
        "type(pi)"
      ]
    },
    {
      "cell_type": "markdown",
      "metadata": {
        "id": "Xza-kse3-srt"
      },
      "source": [
        "### **Boolean**"
      ]
    },
    {
      "cell_type": "markdown",
      "metadata": {
        "id": "XCu9w4lp-x2_"
      },
      "source": [
        "Boolean means True (1) or False (0)."
      ]
    },
    {
      "cell_type": "code",
      "execution_count": 16,
      "metadata": {
        "colab": {
          "base_uri": "https://localhost:8080/"
        },
        "id": "Asvh7e11-71O",
        "outputId": "ea518ce2-3a3b-4731-9132-73e4f9403262"
      },
      "outputs": [
        {
          "name": "stdout",
          "output_type": "stream",
          "text": [
            "True\n"
          ]
        },
        {
          "data": {
            "text/plain": [
              "bool"
            ]
          },
          "execution_count": 16,
          "metadata": {},
          "output_type": "execute_result"
        }
      ],
      "source": [
        "bool_example = True\n",
        "print(bool_example)\n",
        "type(bool_example)"
      ]
    },
    {
      "cell_type": "markdown",
      "metadata": {
        "id": "C_KJbniQ_vVl"
      },
      "source": [
        "The same can be obtained as follows."
      ]
    },
    {
      "cell_type": "code",
      "execution_count": 18,
      "metadata": {
        "colab": {
          "base_uri": "https://localhost:8080/"
        },
        "id": "hhPJ0gHD_t_O",
        "outputId": "2d89d93e-5fa7-4f6f-e41c-6b9a1e57a073"
      },
      "outputs": [
        {
          "name": "stdout",
          "output_type": "stream",
          "text": [
            "True\n"
          ]
        },
        {
          "data": {
            "text/plain": [
              "bool"
            ]
          },
          "execution_count": 18,
          "metadata": {},
          "output_type": "execute_result"
        }
      ],
      "source": [
        "bool_example = bool(True)\n",
        "print(bool_example)\n",
        "type(bool_example)"
      ]
    },
    {
      "cell_type": "markdown",
      "metadata": {
        "id": "QfPJOtI3_9t2"
      },
      "source": [
        "Another way to accomplish this is as follows."
      ]
    },
    {
      "cell_type": "code",
      "execution_count": 19,
      "metadata": {
        "colab": {
          "base_uri": "https://localhost:8080/"
        },
        "id": "teSfnO9ZADzN",
        "outputId": "39e506b2-d685-41ad-a500-3196f286b109"
      },
      "outputs": [
        {
          "name": "stdout",
          "output_type": "stream",
          "text": [
            "True\n"
          ]
        },
        {
          "data": {
            "text/plain": [
              "bool"
            ]
          },
          "execution_count": 19,
          "metadata": {},
          "output_type": "execute_result"
        }
      ],
      "source": [
        "bool_example = bool(1)\n",
        "print(bool_example)\n",
        "type(bool_example)"
      ]
    },
    {
      "cell_type": "markdown",
      "metadata": {
        "id": "87iE1cH9AmZI"
      },
      "source": [
        "#### **Exercise 2.2**"
      ]
    },
    {
      "cell_type": "code",
      "execution_count": null,
      "metadata": {
        "colab": {
          "base_uri": "https://localhost:8080/"
        },
        "id": "8UrYE3CWAvfd",
        "outputId": "3234fed9-af9c-48e3-9e16-ffe47c399cda"
      },
      "outputs": [
        {
          "name": "stdout",
          "output_type": "stream",
          "text": [
            "False\n",
            "42.01\n"
          ]
        }
      ],
      "source": [
        "i_cannot_do_it = False\n",
        "print(i_cannot_do_it)\n",
        "the_answer = 42.01\n",
        "print(the_answer)"
      ]
    }
  ],
  "metadata": {
    "colab": {
      "authorship_tag": "ABX9TyOUV2XfnkYRuyT1fkkGgzHS",
      "include_colab_link": true,
      "provenance": []
    },
    "kernelspec": {
      "display_name": "Python 3",
      "name": "python3"
    },
    "language_info": {
      "name": "python"
    }
  },
  "nbformat": 4,
  "nbformat_minor": 0
}
