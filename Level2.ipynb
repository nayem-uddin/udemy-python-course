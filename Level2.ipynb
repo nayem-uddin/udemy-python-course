{
  "nbformat": 4,
  "nbformat_minor": 0,
  "metadata": {
    "colab": {
      "provenance": [],
      "authorship_tag": "ABX9TyOUV2XfnkYRuyT1fkkGgzHS",
      "include_colab_link": true
    },
    "kernelspec": {
      "name": "python3",
      "display_name": "Python 3"
    },
    "language_info": {
      "name": "python"
    }
  },
  "cells": [
    {
      "cell_type": "markdown",
      "metadata": {
        "id": "view-in-github",
        "colab_type": "text"
      },
      "source": [
        "<a href=\"https://colab.research.google.com/github/nayem-uddin/udemy-python-course/blob/main/Level2.ipynb\" target=\"_parent\"><img src=\"https://colab.research.google.com/assets/colab-badge.svg\" alt=\"Open In Colab\"/></a>"
      ]
    },
    {
      "cell_type": "markdown",
      "source": [
        "# **Data types and variables**"
      ],
      "metadata": {
        "id": "G25OTetpYJNb"
      }
    },
    {
      "cell_type": "markdown",
      "source": [
        "### **String data type**"
      ],
      "metadata": {
        "id": "esv-YijtbUm1"
      }
    },
    {
      "cell_type": "markdown",
      "source": [
        "Here is an example of a string data type."
      ],
      "metadata": {
        "id": "Vm5KWsppZFVr"
      }
    },
    {
      "cell_type": "code",
      "execution_count": 2,
      "metadata": {
        "id": "c5eUlZKuWpX1"
      },
      "outputs": [],
      "source": [
        "name=\"Mr. Skywalker\" # or 'Mr. Skywalker'"
      ]
    },
    {
      "cell_type": "markdown",
      "source": [
        "The code in the above cell can be written in the following way as well."
      ],
      "metadata": {
        "id": "4iZLqVi7ZSl7"
      }
    },
    {
      "cell_type": "code",
      "source": [
        "name=str(\"Mr. Skywalker\") # or str('Mr. Skywalker')"
      ],
      "metadata": {
        "id": "4IufrctQY2Ca"
      },
      "execution_count": 3,
      "outputs": []
    },
    {
      "cell_type": "code",
      "source": [
        "name=int(\"Mr. Skywalker\") # to see that using \"int\" data type to declare a string variable gives error"
      ],
      "metadata": {
        "colab": {
          "base_uri": "https://localhost:8080/",
          "height": 141
        },
        "id": "Oz8N9dsYaAHx",
        "outputId": "4dcba23f-afae-4a21-9ef3-aec7f8b2c465"
      },
      "execution_count": 4,
      "outputs": [
        {
          "output_type": "error",
          "ename": "ValueError",
          "evalue": "invalid literal for int() with base 10: 'Mr. Skywalker'",
          "traceback": [
            "\u001b[0;31m---------------------------------------------------------------------------\u001b[0m",
            "\u001b[0;31mValueError\u001b[0m                                Traceback (most recent call last)",
            "\u001b[0;32m<ipython-input-4-3e1f1c076048>\u001b[0m in \u001b[0;36m<cell line: 1>\u001b[0;34m()\u001b[0m\n\u001b[0;32m----> 1\u001b[0;31m \u001b[0mname\u001b[0m\u001b[0;34m=\u001b[0m\u001b[0mint\u001b[0m\u001b[0;34m(\u001b[0m\u001b[0;34m\"Mr. Skywalker\"\u001b[0m\u001b[0;34m)\u001b[0m \u001b[0;31m# to see that using \"int\" data type to declare a string variable gives error\u001b[0m\u001b[0;34m\u001b[0m\u001b[0;34m\u001b[0m\u001b[0m\n\u001b[0m",
            "\u001b[0;31mValueError\u001b[0m: invalid literal for int() with base 10: 'Mr. Skywalker'"
          ]
        }
      ]
    },
    {
      "cell_type": "markdown",
      "source": [
        "### **Integer data type**"
      ],
      "metadata": {
        "id": "jxlAQlx5bn6J"
      }
    },
    {
      "cell_type": "code",
      "source": [
        "age = 44"
      ],
      "metadata": {
        "id": "YRbxn0CnbudP"
      },
      "execution_count": 5,
      "outputs": []
    },
    {
      "cell_type": "markdown",
      "source": [
        "We can also write the above code as follows."
      ],
      "metadata": {
        "id": "TCUMb9DAcAPD"
      }
    },
    {
      "cell_type": "code",
      "source": [
        "age = int(44)"
      ],
      "metadata": {
        "id": "zU_Qtc-ncFwD"
      },
      "execution_count": 6,
      "outputs": []
    },
    {
      "cell_type": "markdown",
      "source": [
        "Notice that the code sections above showed no output to us, though they were executed successfully. To see the values of the variables, we need the built-in function 'print'."
      ],
      "metadata": {
        "id": "LUTy39U7c_eK"
      }
    },
    {
      "cell_type": "code",
      "source": [
        "print(name)"
      ],
      "metadata": {
        "colab": {
          "base_uri": "https://localhost:8080/"
        },
        "id": "BZ_jlYrjc8cX",
        "outputId": "4ae0ff5e-6eb5-4e13-faef-2b22d3f479fb"
      },
      "execution_count": 7,
      "outputs": [
        {
          "output_type": "stream",
          "name": "stdout",
          "text": [
            "Mr. Skywalker\n"
          ]
        }
      ]
    },
    {
      "cell_type": "markdown",
      "source": [
        "To see the data type of a variable, we can use the built-in function 'type'."
      ],
      "metadata": {
        "id": "MQOYvVC1eKk8"
      }
    },
    {
      "cell_type": "code",
      "source": [
        "type(name)"
      ],
      "metadata": {
        "colab": {
          "base_uri": "https://localhost:8080/"
        },
        "id": "RtmYqnhvdbHW",
        "outputId": "98638ce5-6452-472f-aee2-b1e6fce85088"
      },
      "execution_count": 8,
      "outputs": [
        {
          "output_type": "execute_result",
          "data": {
            "text/plain": [
              "str"
            ]
          },
          "metadata": {},
          "execution_count": 8
        }
      ]
    },
    {
      "cell_type": "code",
      "source": [
        "type(age)"
      ],
      "metadata": {
        "colab": {
          "base_uri": "https://localhost:8080/"
        },
        "id": "Qki6jOx9epu4",
        "outputId": "0e533352-f1e9-48f2-db3d-e69d741ae4c4"
      },
      "execution_count": 9,
      "outputs": [
        {
          "output_type": "execute_result",
          "data": {
            "text/plain": [
              "int"
            ]
          },
          "metadata": {},
          "execution_count": 9
        }
      ]
    },
    {
      "cell_type": "markdown",
      "source": [
        "#### **Exercise 2.1**\n"
      ],
      "metadata": {
        "id": "QF5A91kpfHkP"
      }
    },
    {
      "cell_type": "code",
      "source": [
        "name = \"Darth Vader\""
      ],
      "metadata": {
        "id": "BrZ9402sfPIC"
      },
      "execution_count": 10,
      "outputs": []
    },
    {
      "cell_type": "code",
      "source": [
        "print(name)"
      ],
      "metadata": {
        "colab": {
          "base_uri": "https://localhost:8080/"
        },
        "id": "_aw0FbXJfXu6",
        "outputId": "a4a5302c-a18c-4352-fc0d-27bff48d9253"
      },
      "execution_count": 11,
      "outputs": [
        {
          "output_type": "stream",
          "name": "stdout",
          "text": [
            "Darth Vader\n"
          ]
        }
      ]
    },
    {
      "cell_type": "code",
      "source": [
        "age = 19"
      ],
      "metadata": {
        "id": "Nyz43L2Lfbvg"
      },
      "execution_count": 12,
      "outputs": []
    },
    {
      "cell_type": "code",
      "source": [
        "print(age)"
      ],
      "metadata": {
        "colab": {
          "base_uri": "https://localhost:8080/"
        },
        "id": "7JCV6X-_fgby",
        "outputId": "4b359c78-b3bf-4eea-f9ea-c0df92d9acd4"
      },
      "execution_count": 13,
      "outputs": [
        {
          "output_type": "stream",
          "name": "stdout",
          "text": [
            "19\n"
          ]
        }
      ]
    },
    {
      "cell_type": "markdown",
      "source": [
        "### **Float**"
      ],
      "metadata": {
        "id": "jY_IcTEl9g4V"
      }
    },
    {
      "cell_type": "markdown",
      "source": [
        "Float refers to floating numbers (numbers having decimals)."
      ],
      "metadata": {
        "id": "13zi1wOH-Fdl"
      }
    },
    {
      "cell_type": "code",
      "source": [
        "pi = 3.14\n",
        "print(pi)\n",
        "type(pi)"
      ],
      "metadata": {
        "colab": {
          "base_uri": "https://localhost:8080/"
        },
        "id": "jC2hVOzf9oQa",
        "outputId": "1f46a199-930c-4473-e166-0ce746a30959"
      },
      "execution_count": 15,
      "outputs": [
        {
          "output_type": "stream",
          "name": "stdout",
          "text": [
            "3.14\n"
          ]
        },
        {
          "output_type": "execute_result",
          "data": {
            "text/plain": [
              "float"
            ]
          },
          "metadata": {},
          "execution_count": 15
        }
      ]
    },
    {
      "cell_type": "markdown",
      "source": [
        "The same result can be obtained as follows."
      ],
      "metadata": {
        "id": "QyVC2WVY_iYw"
      }
    },
    {
      "cell_type": "code",
      "source": [
        "pi = float(3.14)\n",
        "print(pi)\n",
        "type(pi)"
      ],
      "metadata": {
        "colab": {
          "base_uri": "https://localhost:8080/"
        },
        "id": "pa_u00us_pAG",
        "outputId": "de77282a-e841-4645-aa9b-daa34d626bfc"
      },
      "execution_count": 17,
      "outputs": [
        {
          "output_type": "stream",
          "name": "stdout",
          "text": [
            "3.14\n"
          ]
        },
        {
          "output_type": "execute_result",
          "data": {
            "text/plain": [
              "float"
            ]
          },
          "metadata": {},
          "execution_count": 17
        }
      ]
    },
    {
      "cell_type": "markdown",
      "source": [
        "### **Boolean**"
      ],
      "metadata": {
        "id": "Xza-kse3-srt"
      }
    },
    {
      "cell_type": "markdown",
      "source": [
        "Boolean means True (1) or False (0)."
      ],
      "metadata": {
        "id": "XCu9w4lp-x2_"
      }
    },
    {
      "cell_type": "code",
      "source": [
        "bool_example = True\n",
        "print(bool_example)\n",
        "type(bool_example)"
      ],
      "metadata": {
        "colab": {
          "base_uri": "https://localhost:8080/"
        },
        "id": "Asvh7e11-71O",
        "outputId": "ea518ce2-3a3b-4731-9132-73e4f9403262"
      },
      "execution_count": 16,
      "outputs": [
        {
          "output_type": "stream",
          "name": "stdout",
          "text": [
            "True\n"
          ]
        },
        {
          "output_type": "execute_result",
          "data": {
            "text/plain": [
              "bool"
            ]
          },
          "metadata": {},
          "execution_count": 16
        }
      ]
    },
    {
      "cell_type": "markdown",
      "source": [
        "The same can be obtained as follows."
      ],
      "metadata": {
        "id": "C_KJbniQ_vVl"
      }
    },
    {
      "cell_type": "code",
      "source": [
        "bool_example = bool(True)\n",
        "print(bool_example)\n",
        "type(bool_example)"
      ],
      "metadata": {
        "colab": {
          "base_uri": "https://localhost:8080/"
        },
        "id": "hhPJ0gHD_t_O",
        "outputId": "2d89d93e-5fa7-4f6f-e41c-6b9a1e57a073"
      },
      "execution_count": 18,
      "outputs": [
        {
          "output_type": "stream",
          "name": "stdout",
          "text": [
            "True\n"
          ]
        },
        {
          "output_type": "execute_result",
          "data": {
            "text/plain": [
              "bool"
            ]
          },
          "metadata": {},
          "execution_count": 18
        }
      ]
    },
    {
      "cell_type": "markdown",
      "source": [
        "Another way to accomplish this is as follows."
      ],
      "metadata": {
        "id": "QfPJOtI3_9t2"
      }
    },
    {
      "cell_type": "code",
      "source": [
        "bool_example = bool(1)\n",
        "print(bool_example)\n",
        "type(bool_example)"
      ],
      "metadata": {
        "colab": {
          "base_uri": "https://localhost:8080/"
        },
        "id": "teSfnO9ZADzN",
        "outputId": "39e506b2-d685-41ad-a500-3196f286b109"
      },
      "execution_count": 19,
      "outputs": [
        {
          "output_type": "stream",
          "name": "stdout",
          "text": [
            "True\n"
          ]
        },
        {
          "output_type": "execute_result",
          "data": {
            "text/plain": [
              "bool"
            ]
          },
          "metadata": {},
          "execution_count": 19
        }
      ]
    },
    {
      "cell_type": "markdown",
      "source": [
        "#### **Exercise 2.2**"
      ],
      "metadata": {
        "id": "87iE1cH9AmZI"
      }
    },
    {
      "cell_type": "code",
      "source": [
        "i_cannot_do_it = False\n",
        "print(i_cannot_do_it)\n",
        "the_answer = 42.01\n",
        "print(the_answer)"
      ],
      "metadata": {
        "colab": {
          "base_uri": "https://localhost:8080/"
        },
        "id": "8UrYE3CWAvfd",
        "outputId": "3234fed9-af9c-48e3-9e16-ffe47c399cda"
      },
      "execution_count": 22,
      "outputs": [
        {
          "output_type": "stream",
          "name": "stdout",
          "text": [
            "False\n",
            "42.01\n"
          ]
        }
      ]
    }
  ]
}