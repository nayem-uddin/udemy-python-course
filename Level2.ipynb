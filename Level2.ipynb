{
  "nbformat": 4,
  "nbformat_minor": 0,
  "metadata": {
    "colab": {
      "provenance": [],
      "authorship_tag": "ABX9TyNMtHpyEw6hmRaz5NFcRIzH",
      "include_colab_link": true
    },
    "kernelspec": {
      "name": "python3",
      "display_name": "Python 3"
    },
    "language_info": {
      "name": "python"
    }
  },
  "cells": [
    {
      "cell_type": "markdown",
      "metadata": {
        "id": "view-in-github",
        "colab_type": "text"
      },
      "source": [
        "<a href=\"https://colab.research.google.com/github/nayem-uddin/udemy-python-course/blob/main/Level2.ipynb\" target=\"_parent\"><img src=\"https://colab.research.google.com/assets/colab-badge.svg\" alt=\"Open In Colab\"/></a>"
      ]
    },
    {
      "cell_type": "markdown",
      "source": [
        "# **Data types and variables**"
      ],
      "metadata": {
        "id": "G25OTetpYJNb"
      }
    },
    {
      "cell_type": "markdown",
      "source": [
        "### **String data type**"
      ],
      "metadata": {
        "id": "esv-YijtbUm1"
      }
    },
    {
      "cell_type": "markdown",
      "source": [
        "Here is an example of a string data type."
      ],
      "metadata": {
        "id": "Vm5KWsppZFVr"
      }
    },
    {
      "cell_type": "code",
      "execution_count": 5,
      "metadata": {
        "id": "c5eUlZKuWpX1"
      },
      "outputs": [],
      "source": [
        "name=\"Mr. Skywalker\" # or 'Mr. Skywalker'"
      ]
    },
    {
      "cell_type": "markdown",
      "source": [
        "The code in the above cell can be written in the following way as well."
      ],
      "metadata": {
        "id": "4iZLqVi7ZSl7"
      }
    },
    {
      "cell_type": "code",
      "source": [
        "name=str(\"Mr. Skywalker\") # or str('Mr. Skywalker')"
      ],
      "metadata": {
        "id": "4IufrctQY2Ca"
      },
      "execution_count": 6,
      "outputs": []
    },
    {
      "cell_type": "code",
      "source": [
        "name=int(\"Mr. Skywalker\") # to see that using \"int\" data type to declare a string variable gives error"
      ],
      "metadata": {
        "colab": {
          "base_uri": "https://localhost:8080/",
          "height": 141
        },
        "id": "Oz8N9dsYaAHx",
        "outputId": "25c9f6e7-4cd5-4dbb-bec2-2002be2304fb"
      },
      "execution_count": 7,
      "outputs": [
        {
          "output_type": "error",
          "ename": "ValueError",
          "evalue": "invalid literal for int() with base 10: 'Mr. Skywalker'",
          "traceback": [
            "\u001b[0;31m---------------------------------------------------------------------------\u001b[0m",
            "\u001b[0;31mValueError\u001b[0m                                Traceback (most recent call last)",
            "\u001b[0;32m<ipython-input-7-3e1f1c076048>\u001b[0m in \u001b[0;36m<cell line: 1>\u001b[0;34m()\u001b[0m\n\u001b[0;32m----> 1\u001b[0;31m \u001b[0mname\u001b[0m\u001b[0;34m=\u001b[0m\u001b[0mint\u001b[0m\u001b[0;34m(\u001b[0m\u001b[0;34m\"Mr. Skywalker\"\u001b[0m\u001b[0;34m)\u001b[0m \u001b[0;31m# to see that using \"int\" data type to declare a string variable gives error\u001b[0m\u001b[0;34m\u001b[0m\u001b[0;34m\u001b[0m\u001b[0m\n\u001b[0m",
            "\u001b[0;31mValueError\u001b[0m: invalid literal for int() with base 10: 'Mr. Skywalker'"
          ]
        }
      ]
    },
    {
      "cell_type": "markdown",
      "source": [
        "### **Integer data type**"
      ],
      "metadata": {
        "id": "jxlAQlx5bn6J"
      }
    },
    {
      "cell_type": "code",
      "source": [
        "age = 44"
      ],
      "metadata": {
        "id": "YRbxn0CnbudP"
      },
      "execution_count": 8,
      "outputs": []
    },
    {
      "cell_type": "markdown",
      "source": [
        "We can also write the above code as follows."
      ],
      "metadata": {
        "id": "TCUMb9DAcAPD"
      }
    },
    {
      "cell_type": "code",
      "source": [
        "age = int(44)"
      ],
      "metadata": {
        "id": "zU_Qtc-ncFwD"
      },
      "execution_count": 9,
      "outputs": []
    },
    {
      "cell_type": "markdown",
      "source": [
        "Notice that the code sections above showed no output to us, though they were executed successfully. To see the values of the variables, we need the built-in function 'print'."
      ],
      "metadata": {
        "id": "LUTy39U7c_eK"
      }
    },
    {
      "cell_type": "code",
      "source": [
        "print(name)"
      ],
      "metadata": {
        "colab": {
          "base_uri": "https://localhost:8080/"
        },
        "id": "BZ_jlYrjc8cX",
        "outputId": "be1e02c7-21de-4475-db69-3c4d9c4c456b"
      },
      "execution_count": 11,
      "outputs": [
        {
          "output_type": "stream",
          "name": "stdout",
          "text": [
            "Mr. Skywalker\n"
          ]
        }
      ]
    },
    {
      "cell_type": "markdown",
      "source": [
        "To see the data type of a variable, we can use the built-in function 'type'."
      ],
      "metadata": {
        "id": "MQOYvVC1eKk8"
      }
    },
    {
      "cell_type": "code",
      "source": [
        "type(name)"
      ],
      "metadata": {
        "colab": {
          "base_uri": "https://localhost:8080/"
        },
        "id": "RtmYqnhvdbHW",
        "outputId": "aa5a4b30-2007-4203-8fac-711028005a85"
      },
      "execution_count": 12,
      "outputs": [
        {
          "output_type": "execute_result",
          "data": {
            "text/plain": [
              "str"
            ]
          },
          "metadata": {},
          "execution_count": 12
        }
      ]
    },
    {
      "cell_type": "code",
      "source": [
        "type(age)"
      ],
      "metadata": {
        "colab": {
          "base_uri": "https://localhost:8080/"
        },
        "id": "Qki6jOx9epu4",
        "outputId": "65eee69a-cf11-489f-f1d9-e274cd991bf7"
      },
      "execution_count": 13,
      "outputs": [
        {
          "output_type": "execute_result",
          "data": {
            "text/plain": [
              "int"
            ]
          },
          "metadata": {},
          "execution_count": 13
        }
      ]
    },
    {
      "cell_type": "markdown",
      "source": [
        "## **Exercise 2.1**\n"
      ],
      "metadata": {
        "id": "QF5A91kpfHkP"
      }
    },
    {
      "cell_type": "code",
      "source": [
        "name = \"Darth Vader\""
      ],
      "metadata": {
        "id": "BrZ9402sfPIC"
      },
      "execution_count": 14,
      "outputs": []
    },
    {
      "cell_type": "code",
      "source": [
        "print(name)"
      ],
      "metadata": {
        "colab": {
          "base_uri": "https://localhost:8080/"
        },
        "id": "_aw0FbXJfXu6",
        "outputId": "191d751a-c696-47a7-a05e-b16749c5c701"
      },
      "execution_count": 15,
      "outputs": [
        {
          "output_type": "stream",
          "name": "stdout",
          "text": [
            "Darth Vader\n"
          ]
        }
      ]
    },
    {
      "cell_type": "code",
      "source": [
        "age = 19"
      ],
      "metadata": {
        "id": "Nyz43L2Lfbvg"
      },
      "execution_count": 17,
      "outputs": []
    },
    {
      "cell_type": "code",
      "source": [
        "print(age)"
      ],
      "metadata": {
        "colab": {
          "base_uri": "https://localhost:8080/"
        },
        "id": "7JCV6X-_fgby",
        "outputId": "97fe3157-7f15-4ca0-f5ea-7915120dd6e6"
      },
      "execution_count": 18,
      "outputs": [
        {
          "output_type": "stream",
          "name": "stdout",
          "text": [
            "19\n"
          ]
        }
      ]
    }
  ]
}