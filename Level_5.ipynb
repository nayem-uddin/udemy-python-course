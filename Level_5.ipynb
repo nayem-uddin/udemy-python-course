{
  "nbformat": 4,
  "nbformat_minor": 0,
  "metadata": {
    "colab": {
      "provenance": [],
      "authorship_tag": "ABX9TyMo4QVUZGYHdXvxtwOaXNYu",
      "include_colab_link": true
    },
    "kernelspec": {
      "name": "python3",
      "display_name": "Python 3"
    },
    "language_info": {
      "name": "python"
    }
  },
  "cells": [
    {
      "cell_type": "markdown",
      "metadata": {
        "id": "view-in-github",
        "colab_type": "text"
      },
      "source": [
        "<a href=\"https://colab.research.google.com/github/nayem-uddin/udemy-python-course/blob/main/Level_5.ipynb\" target=\"_parent\"><img src=\"https://colab.research.google.com/assets/colab-badge.svg\" alt=\"Open In Colab\"/></a>"
      ]
    },
    {
      "cell_type": "markdown",
      "source": [
        "## **Using Sum and List funtions**"
      ],
      "metadata": {
        "id": "nb6N9QZkyaGB"
      }
    },
    {
      "cell_type": "code",
      "execution_count": null,
      "metadata": {
        "colab": {
          "base_uri": "https://localhost:8080/",
          "height": 193
        },
        "id": "Fm0EVIAJwz9i",
        "outputId": "d1b0710d-db54-432e-e9f4-18e3f5023310"
      },
      "outputs": [
        {
          "output_type": "error",
          "ename": "TypeError",
          "evalue": "'int' object is not iterable",
          "traceback": [
            "\u001b[0;31m---------------------------------------------------------------------------\u001b[0m",
            "\u001b[0;31mTypeError\u001b[0m                                 Traceback (most recent call last)",
            "\u001b[0;32m<ipython-input-1-9dbc79a7f6fa>\u001b[0m in \u001b[0;36m<cell line: 3>\u001b[0;34m()\u001b[0m\n\u001b[1;32m      1\u001b[0m \u001b[0mboba_fett_experience\u001b[0m \u001b[0;34m=\u001b[0m \u001b[0;36m20\u001b[0m\u001b[0;34m\u001b[0m\u001b[0;34m\u001b[0m\u001b[0m\n\u001b[1;32m      2\u001b[0m \u001b[0mstorm_trooper_experience\u001b[0m \u001b[0;34m=\u001b[0m \u001b[0;36m10\u001b[0m\u001b[0;34m\u001b[0m\u001b[0;34m\u001b[0m\u001b[0m\n\u001b[0;32m----> 3\u001b[0;31m \u001b[0mexperience\u001b[0m \u001b[0;34m=\u001b[0m \u001b[0msum\u001b[0m\u001b[0;34m(\u001b[0m\u001b[0mboba_fett_experience\u001b[0m\u001b[0;34m,\u001b[0m \u001b[0mstorm_trooper_experience\u001b[0m\u001b[0;34m)\u001b[0m\u001b[0;34m\u001b[0m\u001b[0;34m\u001b[0m\u001b[0m\n\u001b[0m\u001b[1;32m      4\u001b[0m \u001b[0mprint\u001b[0m\u001b[0;34m(\u001b[0m\u001b[0mexperience\u001b[0m\u001b[0;34m)\u001b[0m\u001b[0;34m\u001b[0m\u001b[0;34m\u001b[0m\u001b[0m\n",
            "\u001b[0;31mTypeError\u001b[0m: 'int' object is not iterable"
          ]
        }
      ],
      "source": [
        "boba_fett_experience = 20\n",
        "storm_trooper_experience = 10\n",
        "experience = sum(boba_fett_experience, storm_trooper_experience)\n",
        "print(experience)"
      ]
    },
    {
      "cell_type": "code",
      "source": [
        "experience = [boba_fett_experience, storm_trooper_experience]\n",
        "total_experience = sum(experience)\n",
        "print(total_experience)"
      ],
      "metadata": {
        "colab": {
          "base_uri": "https://localhost:8080/"
        },
        "id": "NVewRgS0zQNY",
        "outputId": "1ded068b-d07e-474d-886b-02d7c363541f"
      },
      "execution_count": null,
      "outputs": [
        {
          "output_type": "stream",
          "name": "stdout",
          "text": [
            "30\n"
          ]
        }
      ]
    },
    {
      "cell_type": "markdown",
      "source": [
        "The variable \"experience\" in the above cell is a \"list\"."
      ],
      "metadata": {
        "id": "WhDAy2yrzgTR"
      }
    },
    {
      "cell_type": "code",
      "source": [
        "print(type(experience))"
      ],
      "metadata": {
        "colab": {
          "base_uri": "https://localhost:8080/"
        },
        "id": "x3CNIcUF0FWT",
        "outputId": "a305b9be-7ac6-48b0-9992-483cd7fbbc5f"
      },
      "execution_count": null,
      "outputs": [
        {
          "output_type": "stream",
          "name": "stdout",
          "text": [
            "<class 'list'>\n"
          ]
        }
      ]
    },
    {
      "cell_type": "code",
      "source": [
        "#create our list_of_year_experience\n",
        "list_of_year_experience = [20, 30]\n",
        "\n",
        "#check to see what data type list_of_experience is\n",
        "print(type(list_of_year_experience))\n",
        "\n"
      ],
      "metadata": {
        "colab": {
          "base_uri": "https://localhost:8080/"
        },
        "id": "XiEyc7kl3egt",
        "outputId": "64fc9646-1982-4a5f-bbfb-64da95aff300"
      },
      "execution_count": 8,
      "outputs": [
        {
          "output_type": "stream",
          "name": "stdout",
          "text": [
            "<class 'list'>\n"
          ]
        }
      ]
    },
    {
      "cell_type": "code",
      "source": [
        "#create a variable called sum_of_list\n",
        "sum_of_list = sum(list_of_year_experience)\n",
        "\n",
        "#print the sum_of_list\n",
        "print(sum_of_list)"
      ],
      "metadata": {
        "colab": {
          "base_uri": "https://localhost:8080/"
        },
        "id": "zBIhqeZO4fVx",
        "outputId": "cdcf51ac-a2c5-4706-c7c4-ad4aa549d31d"
      },
      "execution_count": 9,
      "outputs": [
        {
          "output_type": "stream",
          "name": "stdout",
          "text": [
            "50\n"
          ]
        }
      ]
    },
    {
      "cell_type": "markdown",
      "source": [
        "#### **Exercise 5.1**"
      ],
      "metadata": {
        "id": "WiuDcaG04r-w"
      }
    },
    {
      "cell_type": "code",
      "source": [
        "height = [1.7, 0.66, 1.09]\n",
        "print(type(height))\n",
        "print(sum(height))"
      ],
      "metadata": {
        "colab": {
          "base_uri": "https://localhost:8080/"
        },
        "id": "FfHrjJKA40Ib",
        "outputId": "21744c01-0541-46fc-c5c8-f38847415aa3"
      },
      "execution_count": 10,
      "outputs": [
        {
          "output_type": "stream",
          "name": "stdout",
          "text": [
            "<class 'list'>\n",
            "3.45\n"
          ]
        }
      ]
    }
  ]
}